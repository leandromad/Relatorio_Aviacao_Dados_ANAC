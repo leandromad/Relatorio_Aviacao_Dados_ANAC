{
 "cells": [
  {
   "cell_type": "code",
   "execution_count": 144,
   "id": "7bc40ed0",
   "metadata": {},
   "outputs": [],
   "source": [
    "import pandas as pd\n",
    "import plotly.express as px\n",
    "from pandas_datareader import data as pdr\n",
    "import yfinance as yf"
   ]
  },
  {
   "cell_type": "code",
   "execution_count": 213,
   "id": "9aaf86d5",
   "metadata": {},
   "outputs": [],
   "source": [
    "def extract_airline_data(airline_name,name):\n",
    "    dict_airline = {}\n",
    "    for i in range(2010, 2023):\n",
    "        dict_airline[i] = {}\n",
    "        file_name = f'dados/resumo_anual_{i}.csv'\n",
    "        df = pd.read_csv(file_name, sep=';', encoding='ISO-8859-1', decimal = ',')\n",
    "        df = df[['EMPRESA (SIGLA)', 'MÊS', 'NATUREZA', 'PASSAGEIROS PAGOS', 'ASSENTOS', 'RPK', 'ASK', 'DECOLAGENS', 'DISTÂNCIA VOADA (KM)', 'COMBUSTÍVEL (LITROS)']]\n",
    "        df_airline = df[df['EMPRESA (SIGLA)'] == airline_name]\n",
    "        df_airline = df_airline.dropna()\n",
    "\n",
    "        # Assentos Totais\n",
    "        assentos_totais = int(df_airline['ASSENTOS'].sum())\n",
    "        dict_airline[i]['assentos_totais'] = assentos_totais\n",
    "        \n",
    "        #RPK Total\n",
    "        rpk_total = df_airline['RPK']\n",
    "        rpk_total = rpk_total.astype(float)\n",
    "        rpk_total = rpk_total.sum()\n",
    "        dict_airline[i]['rpk_total'] = rpk_total\n",
    "        \n",
    "        #ASK Total\n",
    "        ask_total = df_airline['ASK']\n",
    "        ask_total = ask_total.astype(float)\n",
    "        ask_total = ask_total.sum()\n",
    "        dict_airline[i]['ask_total'] = ask_total\n",
    "\n",
    "        # Passageiros Pagos\n",
    "        passageiros_pgs = int(df_airline['PASSAGEIROS PAGOS'].sum())\n",
    "        dict_airline[i]['passageiros_pgs'] = passageiros_pgs\n",
    "\n",
    "        # Passageiros Totais Doméstica\n",
    "        domestica = df_airline[df_airline['NATUREZA'] == 'DOMÉSTICA']\n",
    "        assentos_domestica = int(domestica['ASSENTOS'].sum())\n",
    "        dict_airline[i]['assentos_domestica'] = assentos_domestica\n",
    "\n",
    "        # Passageiros Pagos Doméstica\n",
    "        passageiros_pgs_domestica = int(domestica['PASSAGEIROS PAGOS'].sum())\n",
    "        dict_airline[i]['passageiros_pgs_domestica'] = passageiros_pgs_domestica\n",
    "\n",
    "        # Assentos doméstica desocupados\n",
    "        assentos_domestica_desocupados = assentos_domestica - passageiros_pgs_domestica\n",
    "\n",
    "        # Vacância doméstica\n",
    "        if assentos_domestica != 0:\n",
    "            vacancia_domestica = (assentos_domestica_desocupados / assentos_domestica) * 100\n",
    "        else:\n",
    "            vacancia_domestica = 0\n",
    "        dict_airline[i]['vacancia_domestica'] = vacancia_domestica\n",
    "        \n",
    "        #RPK Doméstica\n",
    "        rpk_domestica = domestica['RPK']\n",
    "        rpk_domestica = rpk_domestica.astype(float)\n",
    "        rpk_domestica = rpk_domestica.sum()\n",
    "        dict_airline[i]['rpk_domestica'] = rpk_domestica\n",
    "        \n",
    "        #ASK Doméstica\n",
    "        ask_domestica = domestica['ASK']\n",
    "        ask_domestica = ask_domestica.astype(float)\n",
    "        ask_domestica = ask_domestica.sum()\n",
    "        dict_airline[i]['ask_domestica'] = ask_domestica\n",
    "\n",
    "        # Passageiros Totais Internacional\n",
    "        internacional = df_airline[df_airline['NATUREZA'] == 'INTERNACIONAL']\n",
    "        assentos_internacional = int(internacional['ASSENTOS'].sum())\n",
    "        dict_airline[i]['assentos_internacional'] = assentos_internacional\n",
    "\n",
    "        # Passageiros Pagos Internacional\n",
    "        passageiros_pgs_internacional = int(internacional['PASSAGEIROS PAGOS'].sum())\n",
    "        dict_airline[i]['passageiros_pgs_internacional'] = passageiros_pgs_internacional\n",
    "\n",
    "        # Assentos desocupados Internacional\n",
    "        assentos_internacional_desocupados = assentos_internacional - passageiros_pgs_internacional\n",
    "\n",
    "        # Vacância Internacional\n",
    "        if assentos_internacional != 0:\n",
    "            vacancia_internacional = (assentos_internacional_desocupados / assentos_internacional) * 100\n",
    "        else:\n",
    "            vacancia_internacional = 0\n",
    "        dict_airline[i]['vacancia_internacional'] = vacancia_internacional\n",
    "        \n",
    "        #RPK Internacional\n",
    "        rpk_internacional = internacional['RPK']\n",
    "        rpk_internacional = rpk_internacional.astype(float)\n",
    "        rpk_internacional = rpk_internacional.sum()\n",
    "        dict_airline[i]['rpk_internacional'] = rpk_internacional\n",
    "        \n",
    "        #ASK Internacional\n",
    "        ask_internacional = internacional['ASK']\n",
    "        ask_internacional = ask_internacional.astype(float)\n",
    "        ask_internacional = ask_internacional.sum()\n",
    "        dict_airline[i]['ask_internacional'] = ask_internacional\n",
    "        \n",
    "        #Decolagens\n",
    "        decolagens = df_airline['DECOLAGENS']\n",
    "        decolagens  = decolagens.astype(int)\n",
    "        decolagens = decolagens.sum()\n",
    "        dict_airline[i]['decolagens'] = decolagens\n",
    "        \n",
    "        #Etapa Media de Voo (KM)\n",
    "        etapa_media_voo = df_airline['DISTÂNCIA VOADA (KM)'].sum()/df_airline['DECOLAGENS'].sum()\n",
    "        dict_airline[i]['etapa_media_voo'] =  etapa_media_voo\n",
    "        etapa_media_voo\n",
    "        \n",
    "        #Combustível de aviação\n",
    "        combustivel = df_airline['COMBUSTÍVEL (LITROS)']\n",
    "        combustivel  = combustivel.astype(int)\n",
    "        combustivel= combustivel.sum()\n",
    "        dict_airline[i]['combustivel'] = combustivel\n",
    "        \n",
    "\n",
    "    df = pd.DataFrame(dict_airline).T\n",
    "\n",
    "    return df\n",
    "\n",
    "def plot_graf(df, name):\n",
    "    df_print = df[['assentos_totais', 'passageiros_pgs', 'assentos_domestica',\n",
    "               'passageiros_pgs_domestica',\n",
    "               'assentos_internacional', 'passageiros_pgs_internacional']]\n",
    "    df_print.reset_index(inplace=True)\n",
    "\n",
    "    fig = px.bar(df_print, x='index', y=['assentos_totais', 'passageiros_pgs','assentos_domestica','passageiros_pgs_domestica','assentos_internacional', 'passageiros_pgs_internacional'], \n",
    "                 barmode='group', title='Estatísticas de transporte aéreo no Brasil')\n",
    "    fig.update_layout(\n",
    "    xaxis_title='Ano',\n",
    "    yaxis_title='Passageiros',\n",
    "    title={\n",
    "    'text': f'Estatísticas de transporte aéreo da {name}',\n",
    "    'y':0.95,\n",
    "    'x':0.5,\n",
    "    'xanchor': 'center',\n",
    "    'yanchor': 'top'})\n",
    "    fig.show()\n",
    "    \n",
    "def ind_trafego(df, ano, name):\n",
    "    \n",
    "    dict_ind_op_fin = {\n",
    "        'RPK - Total': round(df.loc[ano]['rpk_total'] / 1_000_000, 3),\n",
    "        'RPK - Mercado Doméstico': round(df.loc[ano]['rpk_domestica'] / 1_000_000, 3),\n",
    "        'RPK - Mercado Internacional': round(df.loc[ano]['rpk_internacional'] / 1_000_000, 3),\n",
    "        'ASK - Total': round(df.loc[ano]['ask_total'] / 1_000_000, 3),\n",
    "        'ASK - Mercado Doméstico': round(df.loc[ano]['ask_domestica'] / 1_000_000, 3),\n",
    "        'ASK - Mercado Internacional': round(df.loc[ano]['ask_internacional'] / 1_000_000, 3),\n",
    "        'Taxa de Ocupação - Total (%)': round(df.loc[ano]['passageiros_pgs'] / df.loc[ano]['assentos_totais'] * 100, 1),\n",
    "        'Taxa de Ocupação - Mercado Doméstico (%)': round(df.loc[ano]['passageiros_pgs_domestica'] / df.loc[ano]['assentos_domestica'] * 100, 1),\n",
    "        'Taxa de Ocupação - Mercado Internacional (%)': round(df.loc[ano]['passageiros_pgs_internacional'] / df.loc[ano]['assentos_internacional'] * 100, 1)\n",
    "    }\n",
    "    if ano > 2010:\n",
    "        \n",
    "        dict_ind_op_fin_ant = {\n",
    "        'RPK - Total': round(df.loc[ano-1]['rpk_total'] / 1_000_000, 3),\n",
    "        'RPK - Mercado Doméstico': round(df.loc[ano-1]['rpk_domestica'] / 1_000_000, 3),\n",
    "        'RPK - Mercado Internacional': round(df.loc[ano-1]['rpk_internacional'] / 1_000_000, 3),\n",
    "        'ASK - Total': round(df.loc[ano-1]['ask_total'] / 1_000_000, 3),\n",
    "        'ASK - Mercado Doméstico': round(df.loc[ano-1]['ask_domestica'] / 1_000_000, 3),\n",
    "        'ASK - Mercado Internacional': round(df.loc[ano-1]['ask_internacional'] / 1_000_000, 3),\n",
    "        'Taxa de Ocupação - Total (%)': round(df.loc[ano-1]['passageiros_pgs'] / df.loc[ano-1]['assentos_totais'] * 100, 1),\n",
    "        'Taxa de Ocupação - Mercado Doméstico (%)': round(df.loc[ano-1]['passageiros_pgs_domestica'] / df.loc[ano-1]['assentos_domestica'] * 100, 1),\n",
    "        'Taxa de Ocupação - Mercado Internacional (%)': round(df.loc[ano-1]['passageiros_pgs_internacional'] / df.loc[ano-1]['assentos_internacional'] * 100, 1)\n",
    "        }\n",
    "        \n",
    "        df = pd.DataFrame({ano: list(dict_ind_op_fin.values()), ano-1: list(dict_ind_op_fin_ant.values())}, index=[\n",
    "            'RPK - Total','RPK - Mercado Doméstico','RPK - Mercado Internacional','ASK - Total','ASK - Mercado Doméstico','ASK - Mercado Internacional',\n",
    "            'Taxa de Ocupação - Total (%)','Taxa de Ocupação - Mercado Doméstico (%)','Taxa de Ocupação - Mercado Internacional (%)'\n",
    "        ])\n",
    "        \n",
    "        df[f'% Var'] = ((df[ano] / df[ano-1]) - 1) * 100\n",
    "        \n",
    "        df = df.rename_axis(f'Dados de Tráfego - {name} (em Milhões)')\n",
    "        \n",
    "         \n",
    "        \n",
    "        print('''Assentos-quilômetro oferecidos (ASK) :\n",
    "        Número de assentos disponíveis multiplicado pelos quilômetros voados.''')\n",
    "        print('''\\n Passageiros-quilômetro transportados (RPK) :\n",
    "        Passageiros pagantes transportados em um quilômetro. O RPK é calculado ao multiplicar-se o número de \n",
    "        passageiros pagantes pelos quilômetros voados.''')\n",
    "        return df\n",
    "    else:\n",
    "        df = pd.DataFrame.from_dict(dict_ind_op_fin, orient='index', columns=[ano])\n",
    "        df[f'Dados de Tráfego - {name} (em Milhões)'] = list(dict_ind_op_fin.keys())\n",
    "        df = df.set_index([f'Dados de Tráfego - {name} (em Milhões)'])\n",
    "        \n",
    "        return df\n",
    "\n",
    "def ind_operacional(df, ano, name):\n",
    "    \n",
    "    dict_ind_operacional = {\n",
    "        \"Passageiros Pagantes ('000)\": round(df.loc[ano]['passageiros_pgs'] / 1_000_000, 3),\n",
    "        \"Passageiros Pagantes Doméstica ('000)\": round(df.loc[ano]['passageiros_pgs_domestica'] / 1_000_000, 3),\n",
    "        \"Passageiros Pagantes Internacional ('000)\": round(df.loc[ano]['passageiros_pgs_internacional'] / 1_000_000, 3),\n",
    "        \"Total Assentos Disponibilizados ('000)\": round(df.loc[ano]['assentos_totais'] / 1_000_000, 3),\n",
    "        \"Total Assentos Disponibilizados Doméstica ('000)\": round(df.loc[ano]['assentos_domestica'] / 1_000_000, 3),\n",
    "        \"Total Assentos Disponibilizados Internacional ('000)\": round(df.loc[ano]['assentos_internacional'] / 1_000_000, 3),\n",
    "        \"Decolagens\": round(df.loc[ano]['decolagens'] / 1_000, 3),\n",
    "        \"Etapa Média de Voo (km)\": round(df.loc[ano]['etapa_media_voo'] / 1_000, 3),\n",
    "        \"Combustível de aviação (milhares litros)\": round(df.loc[ano]['combustivel'] / 1_000, 0)\n",
    "    }\n",
    "    if ano > 2010:\n",
    "        \n",
    "        dict_ind_operacional_ant = {\n",
    "        \"Passageiros Pagantes ('000)\": round(df.loc[ano-1]['passageiros_pgs'] / 1_000_000, 3),\n",
    "        \"Passageiros Pagantes Doméstica ('000)\": round(df.loc[ano-1]['passageiros_pgs_domestica'] / 1_000_000, 3),\n",
    "        \"Passageiros Pagantes Internacional ('000)\": round(df.loc[ano-1]['passageiros_pgs_internacional'] / 1_000_000, 3),\n",
    "        \"Total Assentos Disponibilizados ('000)\": round(df.loc[ano-1]['assentos_totais'] / 1_000_000, 3),\n",
    "        \"Total Assentos Disponibilizados Doméstica ('000)\": round(df.loc[ano-1]['assentos_domestica'] / 1_000_000, 3),\n",
    "        \"Total Assentos Disponibilizados Internacional ('000)\": round(df.loc[ano-1]['assentos_internacional'] / 1_000_000, 3),\n",
    "        \"Decolagens\": round(df.loc[ano-1]['decolagens'] / 1_000, 3),\n",
    "        \"Etapa Média de Voo (km)\": round(df.loc[ano-1]['etapa_media_voo'] / 1_000, 3),\n",
    "        \"Combustível de aviação (milhares litros)\": round(df.loc[ano-1]['combustivel'] / 1_000, 0)\n",
    "        }\n",
    "        \n",
    "        df = pd.DataFrame({ano: list(dict_ind_operacional.values()), ano-1: list(dict_ind_operacional_ant.values())}, index=[\n",
    "          \"Passageiros Pagantes ('000)\",  \"Passageiros Pagantes Doméstica ('000)\",\"Passageiros Pagantes Internacional ('000)\",\n",
    "          \"Total Assentos Disponibilizados ('000)\",  \"Total Assentos Disponibilizados Doméstica ('000)\", \"Total Assentos Disponibilizados Internacional ('000)\",\n",
    "          \"Decolagens\", \"Etapa Média de Voo (km)\", \"Combustível de aviação (milhares litros)\"\n",
    "        ])\n",
    "        \n",
    "        df[f'% Var'] = ((df[ano] / df[ano-1]) - 1) * 100\n",
    "        \n",
    "        df = df.rename_axis(f'Dados Operacionais')\n",
    "        \n",
    "        return df\n",
    "    else:\n",
    "        df = pd.DataFrame.from_dict( dict_ind_operacional, orient='index', columns=[ano])\n",
    "        df[f'Dados Operacionais - {name}'] = list(dict_ind_op_fin.keys())\n",
    "        df = df.set_index([f'Dados Operacionais - {name}'])\n",
    "        \n",
    "        return df\n",
    "    "
   ]
  },
  {
   "cell_type": "code",
   "execution_count": 214,
   "id": "366fa4b3",
   "metadata": {},
   "outputs": [
    {
     "data": {
      "application/vnd.plotly.v1+json": {
       "config": {
        "plotlyServerURL": "https://plot.ly"
       },
       "data": [
        {
         "alignmentgroup": "True",
         "hovertemplate": "variable=assentos_totais<br>index=%{x}<br>value=%{y}<extra></extra>",
         "legendgroup": "assentos_totais",
         "marker": {
          "color": "#636efa",
          "pattern": {
           "shape": ""
          }
         },
         "name": "assentos_totais",
         "offsetgroup": "assentos_totais",
         "orientation": "v",
         "showlegend": true,
         "textposition": "auto",
         "type": "bar",
         "x": [
          2010,
          2011,
          2012,
          2013,
          2014,
          2015,
          2016,
          2017,
          2018,
          2019,
          2020,
          2021,
          2022
         ],
         "xaxis": "x",
         "y": [
          49281882,
          52784362,
          51628338,
          54618628,
          53479818,
          52432303,
          43561838,
          41862267,
          43001877,
          45827976,
          21554418,
          23559049,
          35254246
         ],
         "yaxis": "y"
        },
        {
         "alignmentgroup": "True",
         "hovertemplate": "variable=passageiros_pgs<br>index=%{x}<br>value=%{y}<extra></extra>",
         "legendgroup": "passageiros_pgs",
         "marker": {
          "color": "#EF553B",
          "pattern": {
           "shape": ""
          }
         },
         "name": "passageiros_pgs",
         "offsetgroup": "passageiros_pgs",
         "orientation": "v",
         "showlegend": true,
         "textposition": "auto",
         "type": "bar",
         "x": [
          2010,
          2011,
          2012,
          2013,
          2014,
          2015,
          2016,
          2017,
          2018,
          2019,
          2020,
          2021,
          2022
         ],
         "xaxis": "x",
         "y": [
          27945339,
          31065385,
          30946996,
          33144263,
          36461226,
          36050794,
          31846286,
          32099327,
          33253465,
          36037764,
          16612412,
          18812824,
          27212533
         ],
         "yaxis": "y"
        },
        {
         "alignmentgroup": "True",
         "hovertemplate": "variable=assentos_domestica<br>index=%{x}<br>value=%{y}<extra></extra>",
         "legendgroup": "assentos_domestica",
         "marker": {
          "color": "#00cc96",
          "pattern": {
           "shape": ""
          }
         },
         "name": "assentos_domestica",
         "offsetgroup": "assentos_domestica",
         "orientation": "v",
         "showlegend": true,
         "textposition": "auto",
         "type": "bar",
         "x": [
          2010,
          2011,
          2012,
          2013,
          2014,
          2015,
          2016,
          2017,
          2018,
          2019,
          2020,
          2021,
          2022
         ],
         "xaxis": "x",
         "y": [
          46602796,
          50172167,
          48980818,
          51768090,
          50510023,
          49489674,
          40998605,
          39369963,
          40489731,
          42892336,
          20819631,
          23499568,
          34100148
         ],
         "yaxis": "y"
        },
        {
         "alignmentgroup": "True",
         "hovertemplate": "variable=passageiros_pgs_domestica<br>index=%{x}<br>value=%{y}<extra></extra>",
         "legendgroup": "passageiros_pgs_domestica",
         "marker": {
          "color": "#ab63fa",
          "pattern": {
           "shape": ""
          }
         },
         "name": "passageiros_pgs_domestica",
         "offsetgroup": "passageiros_pgs_domestica",
         "orientation": "v",
         "showlegend": true,
         "textposition": "auto",
         "type": "bar",
         "x": [
          2010,
          2011,
          2012,
          2013,
          2014,
          2015,
          2016,
          2017,
          2018,
          2019,
          2020,
          2021,
          2022
         ],
         "xaxis": "x",
         "y": [
          26580359,
          29823733,
          29661986,
          31680004,
          34669981,
          34162320,
          29985494,
          30223330,
          31418878,
          34104893,
          16165800,
          18772296,
          26300015
         ],
         "yaxis": "y"
        },
        {
         "alignmentgroup": "True",
         "hovertemplate": "variable=assentos_internacional<br>index=%{x}<br>value=%{y}<extra></extra>",
         "legendgroup": "assentos_internacional",
         "marker": {
          "color": "#FFA15A",
          "pattern": {
           "shape": ""
          }
         },
         "name": "assentos_internacional",
         "offsetgroup": "assentos_internacional",
         "orientation": "v",
         "showlegend": true,
         "textposition": "auto",
         "type": "bar",
         "x": [
          2010,
          2011,
          2012,
          2013,
          2014,
          2015,
          2016,
          2017,
          2018,
          2019,
          2020,
          2021,
          2022
         ],
         "xaxis": "x",
         "y": [
          2679086,
          2612195,
          2647520,
          2850538,
          2969795,
          2942629,
          2563233,
          2492304,
          2512146,
          2935640,
          734787,
          59481,
          1154098
         ],
         "yaxis": "y"
        },
        {
         "alignmentgroup": "True",
         "hovertemplate": "variable=passageiros_pgs_internacional<br>index=%{x}<br>value=%{y}<extra></extra>",
         "legendgroup": "passageiros_pgs_internacional",
         "marker": {
          "color": "#19d3f3",
          "pattern": {
           "shape": ""
          }
         },
         "name": "passageiros_pgs_internacional",
         "offsetgroup": "passageiros_pgs_internacional",
         "orientation": "v",
         "showlegend": true,
         "textposition": "auto",
         "type": "bar",
         "x": [
          2010,
          2011,
          2012,
          2013,
          2014,
          2015,
          2016,
          2017,
          2018,
          2019,
          2020,
          2021,
          2022
         ],
         "xaxis": "x",
         "y": [
          1364980,
          1241652,
          1285010,
          1464259,
          1791245,
          1888474,
          1860792,
          1875997,
          1834587,
          1932871,
          446612,
          40528,
          912518
         ],
         "yaxis": "y"
        }
       ],
       "layout": {
        "barmode": "group",
        "legend": {
         "title": {
          "text": "variable"
         },
         "tracegroupgap": 0
        },
        "template": {
         "data": {
          "bar": [
           {
            "error_x": {
             "color": "#2a3f5f"
            },
            "error_y": {
             "color": "#2a3f5f"
            },
            "marker": {
             "line": {
              "color": "#E5ECF6",
              "width": 0.5
             },
             "pattern": {
              "fillmode": "overlay",
              "size": 10,
              "solidity": 0.2
             }
            },
            "type": "bar"
           }
          ],
          "barpolar": [
           {
            "marker": {
             "line": {
              "color": "#E5ECF6",
              "width": 0.5
             },
             "pattern": {
              "fillmode": "overlay",
              "size": 10,
              "solidity": 0.2
             }
            },
            "type": "barpolar"
           }
          ],
          "carpet": [
           {
            "aaxis": {
             "endlinecolor": "#2a3f5f",
             "gridcolor": "white",
             "linecolor": "white",
             "minorgridcolor": "white",
             "startlinecolor": "#2a3f5f"
            },
            "baxis": {
             "endlinecolor": "#2a3f5f",
             "gridcolor": "white",
             "linecolor": "white",
             "minorgridcolor": "white",
             "startlinecolor": "#2a3f5f"
            },
            "type": "carpet"
           }
          ],
          "choropleth": [
           {
            "colorbar": {
             "outlinewidth": 0,
             "ticks": ""
            },
            "type": "choropleth"
           }
          ],
          "contour": [
           {
            "colorbar": {
             "outlinewidth": 0,
             "ticks": ""
            },
            "colorscale": [
             [
              0,
              "#0d0887"
             ],
             [
              0.1111111111111111,
              "#46039f"
             ],
             [
              0.2222222222222222,
              "#7201a8"
             ],
             [
              0.3333333333333333,
              "#9c179e"
             ],
             [
              0.4444444444444444,
              "#bd3786"
             ],
             [
              0.5555555555555556,
              "#d8576b"
             ],
             [
              0.6666666666666666,
              "#ed7953"
             ],
             [
              0.7777777777777778,
              "#fb9f3a"
             ],
             [
              0.8888888888888888,
              "#fdca26"
             ],
             [
              1,
              "#f0f921"
             ]
            ],
            "type": "contour"
           }
          ],
          "contourcarpet": [
           {
            "colorbar": {
             "outlinewidth": 0,
             "ticks": ""
            },
            "type": "contourcarpet"
           }
          ],
          "heatmap": [
           {
            "colorbar": {
             "outlinewidth": 0,
             "ticks": ""
            },
            "colorscale": [
             [
              0,
              "#0d0887"
             ],
             [
              0.1111111111111111,
              "#46039f"
             ],
             [
              0.2222222222222222,
              "#7201a8"
             ],
             [
              0.3333333333333333,
              "#9c179e"
             ],
             [
              0.4444444444444444,
              "#bd3786"
             ],
             [
              0.5555555555555556,
              "#d8576b"
             ],
             [
              0.6666666666666666,
              "#ed7953"
             ],
             [
              0.7777777777777778,
              "#fb9f3a"
             ],
             [
              0.8888888888888888,
              "#fdca26"
             ],
             [
              1,
              "#f0f921"
             ]
            ],
            "type": "heatmap"
           }
          ],
          "heatmapgl": [
           {
            "colorbar": {
             "outlinewidth": 0,
             "ticks": ""
            },
            "colorscale": [
             [
              0,
              "#0d0887"
             ],
             [
              0.1111111111111111,
              "#46039f"
             ],
             [
              0.2222222222222222,
              "#7201a8"
             ],
             [
              0.3333333333333333,
              "#9c179e"
             ],
             [
              0.4444444444444444,
              "#bd3786"
             ],
             [
              0.5555555555555556,
              "#d8576b"
             ],
             [
              0.6666666666666666,
              "#ed7953"
             ],
             [
              0.7777777777777778,
              "#fb9f3a"
             ],
             [
              0.8888888888888888,
              "#fdca26"
             ],
             [
              1,
              "#f0f921"
             ]
            ],
            "type": "heatmapgl"
           }
          ],
          "histogram": [
           {
            "marker": {
             "pattern": {
              "fillmode": "overlay",
              "size": 10,
              "solidity": 0.2
             }
            },
            "type": "histogram"
           }
          ],
          "histogram2d": [
           {
            "colorbar": {
             "outlinewidth": 0,
             "ticks": ""
            },
            "colorscale": [
             [
              0,
              "#0d0887"
             ],
             [
              0.1111111111111111,
              "#46039f"
             ],
             [
              0.2222222222222222,
              "#7201a8"
             ],
             [
              0.3333333333333333,
              "#9c179e"
             ],
             [
              0.4444444444444444,
              "#bd3786"
             ],
             [
              0.5555555555555556,
              "#d8576b"
             ],
             [
              0.6666666666666666,
              "#ed7953"
             ],
             [
              0.7777777777777778,
              "#fb9f3a"
             ],
             [
              0.8888888888888888,
              "#fdca26"
             ],
             [
              1,
              "#f0f921"
             ]
            ],
            "type": "histogram2d"
           }
          ],
          "histogram2dcontour": [
           {
            "colorbar": {
             "outlinewidth": 0,
             "ticks": ""
            },
            "colorscale": [
             [
              0,
              "#0d0887"
             ],
             [
              0.1111111111111111,
              "#46039f"
             ],
             [
              0.2222222222222222,
              "#7201a8"
             ],
             [
              0.3333333333333333,
              "#9c179e"
             ],
             [
              0.4444444444444444,
              "#bd3786"
             ],
             [
              0.5555555555555556,
              "#d8576b"
             ],
             [
              0.6666666666666666,
              "#ed7953"
             ],
             [
              0.7777777777777778,
              "#fb9f3a"
             ],
             [
              0.8888888888888888,
              "#fdca26"
             ],
             [
              1,
              "#f0f921"
             ]
            ],
            "type": "histogram2dcontour"
           }
          ],
          "mesh3d": [
           {
            "colorbar": {
             "outlinewidth": 0,
             "ticks": ""
            },
            "type": "mesh3d"
           }
          ],
          "parcoords": [
           {
            "line": {
             "colorbar": {
              "outlinewidth": 0,
              "ticks": ""
             }
            },
            "type": "parcoords"
           }
          ],
          "pie": [
           {
            "automargin": true,
            "type": "pie"
           }
          ],
          "scatter": [
           {
            "fillpattern": {
             "fillmode": "overlay",
             "size": 10,
             "solidity": 0.2
            },
            "type": "scatter"
           }
          ],
          "scatter3d": [
           {
            "line": {
             "colorbar": {
              "outlinewidth": 0,
              "ticks": ""
             }
            },
            "marker": {
             "colorbar": {
              "outlinewidth": 0,
              "ticks": ""
             }
            },
            "type": "scatter3d"
           }
          ],
          "scattercarpet": [
           {
            "marker": {
             "colorbar": {
              "outlinewidth": 0,
              "ticks": ""
             }
            },
            "type": "scattercarpet"
           }
          ],
          "scattergeo": [
           {
            "marker": {
             "colorbar": {
              "outlinewidth": 0,
              "ticks": ""
             }
            },
            "type": "scattergeo"
           }
          ],
          "scattergl": [
           {
            "marker": {
             "colorbar": {
              "outlinewidth": 0,
              "ticks": ""
             }
            },
            "type": "scattergl"
           }
          ],
          "scattermapbox": [
           {
            "marker": {
             "colorbar": {
              "outlinewidth": 0,
              "ticks": ""
             }
            },
            "type": "scattermapbox"
           }
          ],
          "scatterpolar": [
           {
            "marker": {
             "colorbar": {
              "outlinewidth": 0,
              "ticks": ""
             }
            },
            "type": "scatterpolar"
           }
          ],
          "scatterpolargl": [
           {
            "marker": {
             "colorbar": {
              "outlinewidth": 0,
              "ticks": ""
             }
            },
            "type": "scatterpolargl"
           }
          ],
          "scatterternary": [
           {
            "marker": {
             "colorbar": {
              "outlinewidth": 0,
              "ticks": ""
             }
            },
            "type": "scatterternary"
           }
          ],
          "surface": [
           {
            "colorbar": {
             "outlinewidth": 0,
             "ticks": ""
            },
            "colorscale": [
             [
              0,
              "#0d0887"
             ],
             [
              0.1111111111111111,
              "#46039f"
             ],
             [
              0.2222222222222222,
              "#7201a8"
             ],
             [
              0.3333333333333333,
              "#9c179e"
             ],
             [
              0.4444444444444444,
              "#bd3786"
             ],
             [
              0.5555555555555556,
              "#d8576b"
             ],
             [
              0.6666666666666666,
              "#ed7953"
             ],
             [
              0.7777777777777778,
              "#fb9f3a"
             ],
             [
              0.8888888888888888,
              "#fdca26"
             ],
             [
              1,
              "#f0f921"
             ]
            ],
            "type": "surface"
           }
          ],
          "table": [
           {
            "cells": {
             "fill": {
              "color": "#EBF0F8"
             },
             "line": {
              "color": "white"
             }
            },
            "header": {
             "fill": {
              "color": "#C8D4E3"
             },
             "line": {
              "color": "white"
             }
            },
            "type": "table"
           }
          ]
         },
         "layout": {
          "annotationdefaults": {
           "arrowcolor": "#2a3f5f",
           "arrowhead": 0,
           "arrowwidth": 1
          },
          "autotypenumbers": "strict",
          "coloraxis": {
           "colorbar": {
            "outlinewidth": 0,
            "ticks": ""
           }
          },
          "colorscale": {
           "diverging": [
            [
             0,
             "#8e0152"
            ],
            [
             0.1,
             "#c51b7d"
            ],
            [
             0.2,
             "#de77ae"
            ],
            [
             0.3,
             "#f1b6da"
            ],
            [
             0.4,
             "#fde0ef"
            ],
            [
             0.5,
             "#f7f7f7"
            ],
            [
             0.6,
             "#e6f5d0"
            ],
            [
             0.7,
             "#b8e186"
            ],
            [
             0.8,
             "#7fbc41"
            ],
            [
             0.9,
             "#4d9221"
            ],
            [
             1,
             "#276419"
            ]
           ],
           "sequential": [
            [
             0,
             "#0d0887"
            ],
            [
             0.1111111111111111,
             "#46039f"
            ],
            [
             0.2222222222222222,
             "#7201a8"
            ],
            [
             0.3333333333333333,
             "#9c179e"
            ],
            [
             0.4444444444444444,
             "#bd3786"
            ],
            [
             0.5555555555555556,
             "#d8576b"
            ],
            [
             0.6666666666666666,
             "#ed7953"
            ],
            [
             0.7777777777777778,
             "#fb9f3a"
            ],
            [
             0.8888888888888888,
             "#fdca26"
            ],
            [
             1,
             "#f0f921"
            ]
           ],
           "sequentialminus": [
            [
             0,
             "#0d0887"
            ],
            [
             0.1111111111111111,
             "#46039f"
            ],
            [
             0.2222222222222222,
             "#7201a8"
            ],
            [
             0.3333333333333333,
             "#9c179e"
            ],
            [
             0.4444444444444444,
             "#bd3786"
            ],
            [
             0.5555555555555556,
             "#d8576b"
            ],
            [
             0.6666666666666666,
             "#ed7953"
            ],
            [
             0.7777777777777778,
             "#fb9f3a"
            ],
            [
             0.8888888888888888,
             "#fdca26"
            ],
            [
             1,
             "#f0f921"
            ]
           ]
          },
          "colorway": [
           "#636efa",
           "#EF553B",
           "#00cc96",
           "#ab63fa",
           "#FFA15A",
           "#19d3f3",
           "#FF6692",
           "#B6E880",
           "#FF97FF",
           "#FECB52"
          ],
          "font": {
           "color": "#2a3f5f"
          },
          "geo": {
           "bgcolor": "white",
           "lakecolor": "white",
           "landcolor": "#E5ECF6",
           "showlakes": true,
           "showland": true,
           "subunitcolor": "white"
          },
          "hoverlabel": {
           "align": "left"
          },
          "hovermode": "closest",
          "mapbox": {
           "style": "light"
          },
          "paper_bgcolor": "white",
          "plot_bgcolor": "#E5ECF6",
          "polar": {
           "angularaxis": {
            "gridcolor": "white",
            "linecolor": "white",
            "ticks": ""
           },
           "bgcolor": "#E5ECF6",
           "radialaxis": {
            "gridcolor": "white",
            "linecolor": "white",
            "ticks": ""
           }
          },
          "scene": {
           "xaxis": {
            "backgroundcolor": "#E5ECF6",
            "gridcolor": "white",
            "gridwidth": 2,
            "linecolor": "white",
            "showbackground": true,
            "ticks": "",
            "zerolinecolor": "white"
           },
           "yaxis": {
            "backgroundcolor": "#E5ECF6",
            "gridcolor": "white",
            "gridwidth": 2,
            "linecolor": "white",
            "showbackground": true,
            "ticks": "",
            "zerolinecolor": "white"
           },
           "zaxis": {
            "backgroundcolor": "#E5ECF6",
            "gridcolor": "white",
            "gridwidth": 2,
            "linecolor": "white",
            "showbackground": true,
            "ticks": "",
            "zerolinecolor": "white"
           }
          },
          "shapedefaults": {
           "line": {
            "color": "#2a3f5f"
           }
          },
          "ternary": {
           "aaxis": {
            "gridcolor": "white",
            "linecolor": "white",
            "ticks": ""
           },
           "baxis": {
            "gridcolor": "white",
            "linecolor": "white",
            "ticks": ""
           },
           "bgcolor": "#E5ECF6",
           "caxis": {
            "gridcolor": "white",
            "linecolor": "white",
            "ticks": ""
           }
          },
          "title": {
           "x": 0.05
          },
          "xaxis": {
           "automargin": true,
           "gridcolor": "white",
           "linecolor": "white",
           "ticks": "",
           "title": {
            "standoff": 15
           },
           "zerolinecolor": "white",
           "zerolinewidth": 2
          },
          "yaxis": {
           "automargin": true,
           "gridcolor": "white",
           "linecolor": "white",
           "ticks": "",
           "title": {
            "standoff": 15
           },
           "zerolinecolor": "white",
           "zerolinewidth": 2
          }
         }
        },
        "title": {
         "text": "Estatísticas de transporte aéreo da GOL",
         "x": 0.5,
         "xanchor": "center",
         "y": 0.95,
         "yanchor": "top"
        },
        "xaxis": {
         "anchor": "y",
         "domain": [
          0,
          1
         ],
         "title": {
          "text": "Ano"
         }
        },
        "yaxis": {
         "anchor": "x",
         "domain": [
          0,
          1
         ],
         "title": {
          "text": "Passageiros"
         }
        }
       }
      },
      "text/html": [
       "<div>                            <div id=\"795a4523-f87a-490b-b51c-87633939591a\" class=\"plotly-graph-div\" style=\"height:525px; width:100%;\"></div>            <script type=\"text/javascript\">                require([\"plotly\"], function(Plotly) {                    window.PLOTLYENV=window.PLOTLYENV || {};                                    if (document.getElementById(\"795a4523-f87a-490b-b51c-87633939591a\")) {                    Plotly.newPlot(                        \"795a4523-f87a-490b-b51c-87633939591a\",                        [{\"alignmentgroup\":\"True\",\"hovertemplate\":\"variable=assentos_totais<br>index=%{x}<br>value=%{y}<extra></extra>\",\"legendgroup\":\"assentos_totais\",\"marker\":{\"color\":\"#636efa\",\"pattern\":{\"shape\":\"\"}},\"name\":\"assentos_totais\",\"offsetgroup\":\"assentos_totais\",\"orientation\":\"v\",\"showlegend\":true,\"textposition\":\"auto\",\"x\":[2010,2011,2012,2013,2014,2015,2016,2017,2018,2019,2020,2021,2022],\"xaxis\":\"x\",\"y\":[49281882.0,52784362.0,51628338.0,54618628.0,53479818.0,52432303.0,43561838.0,41862267.0,43001877.0,45827976.0,21554418.0,23559049.0,35254246.0],\"yaxis\":\"y\",\"type\":\"bar\"},{\"alignmentgroup\":\"True\",\"hovertemplate\":\"variable=passageiros_pgs<br>index=%{x}<br>value=%{y}<extra></extra>\",\"legendgroup\":\"passageiros_pgs\",\"marker\":{\"color\":\"#EF553B\",\"pattern\":{\"shape\":\"\"}},\"name\":\"passageiros_pgs\",\"offsetgroup\":\"passageiros_pgs\",\"orientation\":\"v\",\"showlegend\":true,\"textposition\":\"auto\",\"x\":[2010,2011,2012,2013,2014,2015,2016,2017,2018,2019,2020,2021,2022],\"xaxis\":\"x\",\"y\":[27945339.0,31065385.0,30946996.0,33144263.0,36461226.0,36050794.0,31846286.0,32099327.0,33253465.0,36037764.0,16612412.0,18812824.0,27212533.0],\"yaxis\":\"y\",\"type\":\"bar\"},{\"alignmentgroup\":\"True\",\"hovertemplate\":\"variable=assentos_domestica<br>index=%{x}<br>value=%{y}<extra></extra>\",\"legendgroup\":\"assentos_domestica\",\"marker\":{\"color\":\"#00cc96\",\"pattern\":{\"shape\":\"\"}},\"name\":\"assentos_domestica\",\"offsetgroup\":\"assentos_domestica\",\"orientation\":\"v\",\"showlegend\":true,\"textposition\":\"auto\",\"x\":[2010,2011,2012,2013,2014,2015,2016,2017,2018,2019,2020,2021,2022],\"xaxis\":\"x\",\"y\":[46602796.0,50172167.0,48980818.0,51768090.0,50510023.0,49489674.0,40998605.0,39369963.0,40489731.0,42892336.0,20819631.0,23499568.0,34100148.0],\"yaxis\":\"y\",\"type\":\"bar\"},{\"alignmentgroup\":\"True\",\"hovertemplate\":\"variable=passageiros_pgs_domestica<br>index=%{x}<br>value=%{y}<extra></extra>\",\"legendgroup\":\"passageiros_pgs_domestica\",\"marker\":{\"color\":\"#ab63fa\",\"pattern\":{\"shape\":\"\"}},\"name\":\"passageiros_pgs_domestica\",\"offsetgroup\":\"passageiros_pgs_domestica\",\"orientation\":\"v\",\"showlegend\":true,\"textposition\":\"auto\",\"x\":[2010,2011,2012,2013,2014,2015,2016,2017,2018,2019,2020,2021,2022],\"xaxis\":\"x\",\"y\":[26580359.0,29823733.0,29661986.0,31680004.0,34669981.0,34162320.0,29985494.0,30223330.0,31418878.0,34104893.0,16165800.0,18772296.0,26300015.0],\"yaxis\":\"y\",\"type\":\"bar\"},{\"alignmentgroup\":\"True\",\"hovertemplate\":\"variable=assentos_internacional<br>index=%{x}<br>value=%{y}<extra></extra>\",\"legendgroup\":\"assentos_internacional\",\"marker\":{\"color\":\"#FFA15A\",\"pattern\":{\"shape\":\"\"}},\"name\":\"assentos_internacional\",\"offsetgroup\":\"assentos_internacional\",\"orientation\":\"v\",\"showlegend\":true,\"textposition\":\"auto\",\"x\":[2010,2011,2012,2013,2014,2015,2016,2017,2018,2019,2020,2021,2022],\"xaxis\":\"x\",\"y\":[2679086.0,2612195.0,2647520.0,2850538.0,2969795.0,2942629.0,2563233.0,2492304.0,2512146.0,2935640.0,734787.0,59481.0,1154098.0],\"yaxis\":\"y\",\"type\":\"bar\"},{\"alignmentgroup\":\"True\",\"hovertemplate\":\"variable=passageiros_pgs_internacional<br>index=%{x}<br>value=%{y}<extra></extra>\",\"legendgroup\":\"passageiros_pgs_internacional\",\"marker\":{\"color\":\"#19d3f3\",\"pattern\":{\"shape\":\"\"}},\"name\":\"passageiros_pgs_internacional\",\"offsetgroup\":\"passageiros_pgs_internacional\",\"orientation\":\"v\",\"showlegend\":true,\"textposition\":\"auto\",\"x\":[2010,2011,2012,2013,2014,2015,2016,2017,2018,2019,2020,2021,2022],\"xaxis\":\"x\",\"y\":[1364980.0,1241652.0,1285010.0,1464259.0,1791245.0,1888474.0,1860792.0,1875997.0,1834587.0,1932871.0,446612.0,40528.0,912518.0],\"yaxis\":\"y\",\"type\":\"bar\"}],                        {\"template\":{\"data\":{\"histogram2dcontour\":[{\"type\":\"histogram2dcontour\",\"colorbar\":{\"outlinewidth\":0,\"ticks\":\"\"},\"colorscale\":[[0.0,\"#0d0887\"],[0.1111111111111111,\"#46039f\"],[0.2222222222222222,\"#7201a8\"],[0.3333333333333333,\"#9c179e\"],[0.4444444444444444,\"#bd3786\"],[0.5555555555555556,\"#d8576b\"],[0.6666666666666666,\"#ed7953\"],[0.7777777777777778,\"#fb9f3a\"],[0.8888888888888888,\"#fdca26\"],[1.0,\"#f0f921\"]]}],\"choropleth\":[{\"type\":\"choropleth\",\"colorbar\":{\"outlinewidth\":0,\"ticks\":\"\"}}],\"histogram2d\":[{\"type\":\"histogram2d\",\"colorbar\":{\"outlinewidth\":0,\"ticks\":\"\"},\"colorscale\":[[0.0,\"#0d0887\"],[0.1111111111111111,\"#46039f\"],[0.2222222222222222,\"#7201a8\"],[0.3333333333333333,\"#9c179e\"],[0.4444444444444444,\"#bd3786\"],[0.5555555555555556,\"#d8576b\"],[0.6666666666666666,\"#ed7953\"],[0.7777777777777778,\"#fb9f3a\"],[0.8888888888888888,\"#fdca26\"],[1.0,\"#f0f921\"]]}],\"heatmap\":[{\"type\":\"heatmap\",\"colorbar\":{\"outlinewidth\":0,\"ticks\":\"\"},\"colorscale\":[[0.0,\"#0d0887\"],[0.1111111111111111,\"#46039f\"],[0.2222222222222222,\"#7201a8\"],[0.3333333333333333,\"#9c179e\"],[0.4444444444444444,\"#bd3786\"],[0.5555555555555556,\"#d8576b\"],[0.6666666666666666,\"#ed7953\"],[0.7777777777777778,\"#fb9f3a\"],[0.8888888888888888,\"#fdca26\"],[1.0,\"#f0f921\"]]}],\"heatmapgl\":[{\"type\":\"heatmapgl\",\"colorbar\":{\"outlinewidth\":0,\"ticks\":\"\"},\"colorscale\":[[0.0,\"#0d0887\"],[0.1111111111111111,\"#46039f\"],[0.2222222222222222,\"#7201a8\"],[0.3333333333333333,\"#9c179e\"],[0.4444444444444444,\"#bd3786\"],[0.5555555555555556,\"#d8576b\"],[0.6666666666666666,\"#ed7953\"],[0.7777777777777778,\"#fb9f3a\"],[0.8888888888888888,\"#fdca26\"],[1.0,\"#f0f921\"]]}],\"contourcarpet\":[{\"type\":\"contourcarpet\",\"colorbar\":{\"outlinewidth\":0,\"ticks\":\"\"}}],\"contour\":[{\"type\":\"contour\",\"colorbar\":{\"outlinewidth\":0,\"ticks\":\"\"},\"colorscale\":[[0.0,\"#0d0887\"],[0.1111111111111111,\"#46039f\"],[0.2222222222222222,\"#7201a8\"],[0.3333333333333333,\"#9c179e\"],[0.4444444444444444,\"#bd3786\"],[0.5555555555555556,\"#d8576b\"],[0.6666666666666666,\"#ed7953\"],[0.7777777777777778,\"#fb9f3a\"],[0.8888888888888888,\"#fdca26\"],[1.0,\"#f0f921\"]]}],\"surface\":[{\"type\":\"surface\",\"colorbar\":{\"outlinewidth\":0,\"ticks\":\"\"},\"colorscale\":[[0.0,\"#0d0887\"],[0.1111111111111111,\"#46039f\"],[0.2222222222222222,\"#7201a8\"],[0.3333333333333333,\"#9c179e\"],[0.4444444444444444,\"#bd3786\"],[0.5555555555555556,\"#d8576b\"],[0.6666666666666666,\"#ed7953\"],[0.7777777777777778,\"#fb9f3a\"],[0.8888888888888888,\"#fdca26\"],[1.0,\"#f0f921\"]]}],\"mesh3d\":[{\"type\":\"mesh3d\",\"colorbar\":{\"outlinewidth\":0,\"ticks\":\"\"}}],\"scatter\":[{\"fillpattern\":{\"fillmode\":\"overlay\",\"size\":10,\"solidity\":0.2},\"type\":\"scatter\"}],\"parcoords\":[{\"type\":\"parcoords\",\"line\":{\"colorbar\":{\"outlinewidth\":0,\"ticks\":\"\"}}}],\"scatterpolargl\":[{\"type\":\"scatterpolargl\",\"marker\":{\"colorbar\":{\"outlinewidth\":0,\"ticks\":\"\"}}}],\"bar\":[{\"error_x\":{\"color\":\"#2a3f5f\"},\"error_y\":{\"color\":\"#2a3f5f\"},\"marker\":{\"line\":{\"color\":\"#E5ECF6\",\"width\":0.5},\"pattern\":{\"fillmode\":\"overlay\",\"size\":10,\"solidity\":0.2}},\"type\":\"bar\"}],\"scattergeo\":[{\"type\":\"scattergeo\",\"marker\":{\"colorbar\":{\"outlinewidth\":0,\"ticks\":\"\"}}}],\"scatterpolar\":[{\"type\":\"scatterpolar\",\"marker\":{\"colorbar\":{\"outlinewidth\":0,\"ticks\":\"\"}}}],\"histogram\":[{\"marker\":{\"pattern\":{\"fillmode\":\"overlay\",\"size\":10,\"solidity\":0.2}},\"type\":\"histogram\"}],\"scattergl\":[{\"type\":\"scattergl\",\"marker\":{\"colorbar\":{\"outlinewidth\":0,\"ticks\":\"\"}}}],\"scatter3d\":[{\"type\":\"scatter3d\",\"line\":{\"colorbar\":{\"outlinewidth\":0,\"ticks\":\"\"}},\"marker\":{\"colorbar\":{\"outlinewidth\":0,\"ticks\":\"\"}}}],\"scattermapbox\":[{\"type\":\"scattermapbox\",\"marker\":{\"colorbar\":{\"outlinewidth\":0,\"ticks\":\"\"}}}],\"scatterternary\":[{\"type\":\"scatterternary\",\"marker\":{\"colorbar\":{\"outlinewidth\":0,\"ticks\":\"\"}}}],\"scattercarpet\":[{\"type\":\"scattercarpet\",\"marker\":{\"colorbar\":{\"outlinewidth\":0,\"ticks\":\"\"}}}],\"carpet\":[{\"aaxis\":{\"endlinecolor\":\"#2a3f5f\",\"gridcolor\":\"white\",\"linecolor\":\"white\",\"minorgridcolor\":\"white\",\"startlinecolor\":\"#2a3f5f\"},\"baxis\":{\"endlinecolor\":\"#2a3f5f\",\"gridcolor\":\"white\",\"linecolor\":\"white\",\"minorgridcolor\":\"white\",\"startlinecolor\":\"#2a3f5f\"},\"type\":\"carpet\"}],\"table\":[{\"cells\":{\"fill\":{\"color\":\"#EBF0F8\"},\"line\":{\"color\":\"white\"}},\"header\":{\"fill\":{\"color\":\"#C8D4E3\"},\"line\":{\"color\":\"white\"}},\"type\":\"table\"}],\"barpolar\":[{\"marker\":{\"line\":{\"color\":\"#E5ECF6\",\"width\":0.5},\"pattern\":{\"fillmode\":\"overlay\",\"size\":10,\"solidity\":0.2}},\"type\":\"barpolar\"}],\"pie\":[{\"automargin\":true,\"type\":\"pie\"}]},\"layout\":{\"autotypenumbers\":\"strict\",\"colorway\":[\"#636efa\",\"#EF553B\",\"#00cc96\",\"#ab63fa\",\"#FFA15A\",\"#19d3f3\",\"#FF6692\",\"#B6E880\",\"#FF97FF\",\"#FECB52\"],\"font\":{\"color\":\"#2a3f5f\"},\"hovermode\":\"closest\",\"hoverlabel\":{\"align\":\"left\"},\"paper_bgcolor\":\"white\",\"plot_bgcolor\":\"#E5ECF6\",\"polar\":{\"bgcolor\":\"#E5ECF6\",\"angularaxis\":{\"gridcolor\":\"white\",\"linecolor\":\"white\",\"ticks\":\"\"},\"radialaxis\":{\"gridcolor\":\"white\",\"linecolor\":\"white\",\"ticks\":\"\"}},\"ternary\":{\"bgcolor\":\"#E5ECF6\",\"aaxis\":{\"gridcolor\":\"white\",\"linecolor\":\"white\",\"ticks\":\"\"},\"baxis\":{\"gridcolor\":\"white\",\"linecolor\":\"white\",\"ticks\":\"\"},\"caxis\":{\"gridcolor\":\"white\",\"linecolor\":\"white\",\"ticks\":\"\"}},\"coloraxis\":{\"colorbar\":{\"outlinewidth\":0,\"ticks\":\"\"}},\"colorscale\":{\"sequential\":[[0.0,\"#0d0887\"],[0.1111111111111111,\"#46039f\"],[0.2222222222222222,\"#7201a8\"],[0.3333333333333333,\"#9c179e\"],[0.4444444444444444,\"#bd3786\"],[0.5555555555555556,\"#d8576b\"],[0.6666666666666666,\"#ed7953\"],[0.7777777777777778,\"#fb9f3a\"],[0.8888888888888888,\"#fdca26\"],[1.0,\"#f0f921\"]],\"sequentialminus\":[[0.0,\"#0d0887\"],[0.1111111111111111,\"#46039f\"],[0.2222222222222222,\"#7201a8\"],[0.3333333333333333,\"#9c179e\"],[0.4444444444444444,\"#bd3786\"],[0.5555555555555556,\"#d8576b\"],[0.6666666666666666,\"#ed7953\"],[0.7777777777777778,\"#fb9f3a\"],[0.8888888888888888,\"#fdca26\"],[1.0,\"#f0f921\"]],\"diverging\":[[0,\"#8e0152\"],[0.1,\"#c51b7d\"],[0.2,\"#de77ae\"],[0.3,\"#f1b6da\"],[0.4,\"#fde0ef\"],[0.5,\"#f7f7f7\"],[0.6,\"#e6f5d0\"],[0.7,\"#b8e186\"],[0.8,\"#7fbc41\"],[0.9,\"#4d9221\"],[1,\"#276419\"]]},\"xaxis\":{\"gridcolor\":\"white\",\"linecolor\":\"white\",\"ticks\":\"\",\"title\":{\"standoff\":15},\"zerolinecolor\":\"white\",\"automargin\":true,\"zerolinewidth\":2},\"yaxis\":{\"gridcolor\":\"white\",\"linecolor\":\"white\",\"ticks\":\"\",\"title\":{\"standoff\":15},\"zerolinecolor\":\"white\",\"automargin\":true,\"zerolinewidth\":2},\"scene\":{\"xaxis\":{\"backgroundcolor\":\"#E5ECF6\",\"gridcolor\":\"white\",\"linecolor\":\"white\",\"showbackground\":true,\"ticks\":\"\",\"zerolinecolor\":\"white\",\"gridwidth\":2},\"yaxis\":{\"backgroundcolor\":\"#E5ECF6\",\"gridcolor\":\"white\",\"linecolor\":\"white\",\"showbackground\":true,\"ticks\":\"\",\"zerolinecolor\":\"white\",\"gridwidth\":2},\"zaxis\":{\"backgroundcolor\":\"#E5ECF6\",\"gridcolor\":\"white\",\"linecolor\":\"white\",\"showbackground\":true,\"ticks\":\"\",\"zerolinecolor\":\"white\",\"gridwidth\":2}},\"shapedefaults\":{\"line\":{\"color\":\"#2a3f5f\"}},\"annotationdefaults\":{\"arrowcolor\":\"#2a3f5f\",\"arrowhead\":0,\"arrowwidth\":1},\"geo\":{\"bgcolor\":\"white\",\"landcolor\":\"#E5ECF6\",\"subunitcolor\":\"white\",\"showland\":true,\"showlakes\":true,\"lakecolor\":\"white\"},\"title\":{\"x\":0.05},\"mapbox\":{\"style\":\"light\"}}},\"xaxis\":{\"anchor\":\"y\",\"domain\":[0.0,1.0],\"title\":{\"text\":\"Ano\"}},\"yaxis\":{\"anchor\":\"x\",\"domain\":[0.0,1.0],\"title\":{\"text\":\"Passageiros\"}},\"legend\":{\"title\":{\"text\":\"variable\"},\"tracegroupgap\":0},\"title\":{\"text\":\"Estat\\u00edsticas de transporte a\\u00e9reo da GOL\",\"y\":0.95,\"x\":0.5,\"xanchor\":\"center\",\"yanchor\":\"top\"},\"barmode\":\"group\"},                        {\"responsive\": true}                    ).then(function(){\n",
       "                            \n",
       "var gd = document.getElementById('795a4523-f87a-490b-b51c-87633939591a');\n",
       "var x = new MutationObserver(function (mutations, observer) {{\n",
       "        var display = window.getComputedStyle(gd).display;\n",
       "        if (!display || display === 'none') {{\n",
       "            console.log([gd, 'removed!']);\n",
       "            Plotly.purge(gd);\n",
       "            observer.disconnect();\n",
       "        }}\n",
       "}});\n",
       "\n",
       "// Listen for the removal of the full notebook cells\n",
       "var notebookContainer = gd.closest('#notebook-container');\n",
       "if (notebookContainer) {{\n",
       "    x.observe(notebookContainer, {childList: true});\n",
       "}}\n",
       "\n",
       "// Listen for the clearing of the current output cell\n",
       "var outputEl = gd.closest('.output');\n",
       "if (outputEl) {{\n",
       "    x.observe(outputEl, {childList: true});\n",
       "}}\n",
       "\n",
       "                        })                };                });            </script>        </div>"
      ]
     },
     "metadata": {},
     "output_type": "display_data"
    },
    {
     "name": "stdout",
     "output_type": "stream",
     "text": [
      "Assentos-quilômetro oferecidos (ASK) :\n",
      "        Número de assentos disponíveis multiplicado pelos quilômetros voados.\n",
      "\n",
      " Passageiros-quilômetro transportados (RPK) :\n",
      "        Passageiros pagantes transportados em um quilômetro. O RPK é calculado ao multiplicar-se o número de \n",
      "        passageiros pagantes pelos quilômetros voados.\n"
     ]
    },
    {
     "data": {
      "text/html": [
       "<div>\n",
       "<style scoped>\n",
       "    .dataframe tbody tr th:only-of-type {\n",
       "        vertical-align: middle;\n",
       "    }\n",
       "\n",
       "    .dataframe tbody tr th {\n",
       "        vertical-align: top;\n",
       "    }\n",
       "\n",
       "    .dataframe thead th {\n",
       "        text-align: right;\n",
       "    }\n",
       "</style>\n",
       "<table border=\"1\" class=\"dataframe\">\n",
       "  <thead>\n",
       "    <tr style=\"text-align: right;\">\n",
       "      <th></th>\n",
       "      <th>2022</th>\n",
       "      <th>2021</th>\n",
       "      <th>% Var</th>\n",
       "    </tr>\n",
       "    <tr>\n",
       "      <th>Dados de Tráfego - GOL (em Milhões)</th>\n",
       "      <th></th>\n",
       "      <th></th>\n",
       "      <th></th>\n",
       "    </tr>\n",
       "  </thead>\n",
       "  <tbody>\n",
       "    <tr>\n",
       "      <th>RPK - Total</th>\n",
       "      <td>32627.345</td>\n",
       "      <td>22237.493</td>\n",
       "      <td>46.722227</td>\n",
       "    </tr>\n",
       "    <tr>\n",
       "      <th>RPK - Mercado Doméstico</th>\n",
       "      <td>30154.802</td>\n",
       "      <td>22115.232</td>\n",
       "      <td>36.353089</td>\n",
       "    </tr>\n",
       "    <tr>\n",
       "      <th>RPK - Mercado Internacional</th>\n",
       "      <td>2472.542</td>\n",
       "      <td>122.261</td>\n",
       "      <td>1922.347273</td>\n",
       "    </tr>\n",
       "    <tr>\n",
       "      <th>ASK - Total</th>\n",
       "      <td>40788.556</td>\n",
       "      <td>27132.414</td>\n",
       "      <td>50.331467</td>\n",
       "    </tr>\n",
       "    <tr>\n",
       "      <th>ASK - Mercado Doméstico</th>\n",
       "      <td>37714.370</td>\n",
       "      <td>26962.930</td>\n",
       "      <td>39.874895</td>\n",
       "    </tr>\n",
       "    <tr>\n",
       "      <th>ASK - Mercado Internacional</th>\n",
       "      <td>3074.186</td>\n",
       "      <td>169.484</td>\n",
       "      <td>1713.850275</td>\n",
       "    </tr>\n",
       "    <tr>\n",
       "      <th>Taxa de Ocupação - Total (%)</th>\n",
       "      <td>77.200</td>\n",
       "      <td>79.900</td>\n",
       "      <td>-3.379224</td>\n",
       "    </tr>\n",
       "    <tr>\n",
       "      <th>Taxa de Ocupação - Mercado Doméstico (%)</th>\n",
       "      <td>77.100</td>\n",
       "      <td>79.900</td>\n",
       "      <td>-3.504380</td>\n",
       "    </tr>\n",
       "    <tr>\n",
       "      <th>Taxa de Ocupação - Mercado Internacional (%)</th>\n",
       "      <td>79.100</td>\n",
       "      <td>68.100</td>\n",
       "      <td>16.152717</td>\n",
       "    </tr>\n",
       "  </tbody>\n",
       "</table>\n",
       "</div>"
      ],
      "text/plain": [
       "                                                   2022       2021  \\\n",
       "Dados de Tráfego - GOL (em Milhões)                                  \n",
       "RPK - Total                                   32627.345  22237.493   \n",
       "RPK - Mercado Doméstico                       30154.802  22115.232   \n",
       "RPK - Mercado Internacional                    2472.542    122.261   \n",
       "ASK - Total                                   40788.556  27132.414   \n",
       "ASK - Mercado Doméstico                       37714.370  26962.930   \n",
       "ASK - Mercado Internacional                    3074.186    169.484   \n",
       "Taxa de Ocupação - Total (%)                     77.200     79.900   \n",
       "Taxa de Ocupação - Mercado Doméstico (%)         77.100     79.900   \n",
       "Taxa de Ocupação - Mercado Internacional (%)     79.100     68.100   \n",
       "\n",
       "                                                    % Var  \n",
       "Dados de Tráfego - GOL (em Milhões)                        \n",
       "RPK - Total                                     46.722227  \n",
       "RPK - Mercado Doméstico                         36.353089  \n",
       "RPK - Mercado Internacional                   1922.347273  \n",
       "ASK - Total                                     50.331467  \n",
       "ASK - Mercado Doméstico                         39.874895  \n",
       "ASK - Mercado Internacional                   1713.850275  \n",
       "Taxa de Ocupação - Total (%)                    -3.379224  \n",
       "Taxa de Ocupação - Mercado Doméstico (%)        -3.504380  \n",
       "Taxa de Ocupação - Mercado Internacional (%)    16.152717  "
      ]
     },
     "metadata": {},
     "output_type": "display_data"
    },
    {
     "data": {
      "text/html": [
       "<div>\n",
       "<style scoped>\n",
       "    .dataframe tbody tr th:only-of-type {\n",
       "        vertical-align: middle;\n",
       "    }\n",
       "\n",
       "    .dataframe tbody tr th {\n",
       "        vertical-align: top;\n",
       "    }\n",
       "\n",
       "    .dataframe thead th {\n",
       "        text-align: right;\n",
       "    }\n",
       "</style>\n",
       "<table border=\"1\" class=\"dataframe\">\n",
       "  <thead>\n",
       "    <tr style=\"text-align: right;\">\n",
       "      <th></th>\n",
       "      <th>2022</th>\n",
       "      <th>2021</th>\n",
       "      <th>% Var</th>\n",
       "    </tr>\n",
       "    <tr>\n",
       "      <th>Dados Operacionais</th>\n",
       "      <th></th>\n",
       "      <th></th>\n",
       "      <th></th>\n",
       "    </tr>\n",
       "  </thead>\n",
       "  <tbody>\n",
       "    <tr>\n",
       "      <th>Passageiros Pagantes ('000)</th>\n",
       "      <td>27.213</td>\n",
       "      <td>18.813</td>\n",
       "      <td>44.649976</td>\n",
       "    </tr>\n",
       "    <tr>\n",
       "      <th>Passageiros Pagantes Doméstica ('000)</th>\n",
       "      <td>26.300</td>\n",
       "      <td>18.772</td>\n",
       "      <td>40.102280</td>\n",
       "    </tr>\n",
       "    <tr>\n",
       "      <th>Passageiros Pagantes Internacional ('000)</th>\n",
       "      <td>0.913</td>\n",
       "      <td>0.041</td>\n",
       "      <td>2126.829268</td>\n",
       "    </tr>\n",
       "    <tr>\n",
       "      <th>Total Assentos Disponibilizados ('000)</th>\n",
       "      <td>35.254</td>\n",
       "      <td>23.559</td>\n",
       "      <td>49.641326</td>\n",
       "    </tr>\n",
       "    <tr>\n",
       "      <th>Total Assentos Disponibilizados Doméstica ('000)</th>\n",
       "      <td>34.100</td>\n",
       "      <td>23.500</td>\n",
       "      <td>45.106383</td>\n",
       "    </tr>\n",
       "    <tr>\n",
       "      <th>Total Assentos Disponibilizados Internacional ('000)</th>\n",
       "      <td>1.154</td>\n",
       "      <td>0.059</td>\n",
       "      <td>1855.932203</td>\n",
       "    </tr>\n",
       "    <tr>\n",
       "      <th>Decolagens</th>\n",
       "      <td>203.647</td>\n",
       "      <td>134.636</td>\n",
       "      <td>51.257465</td>\n",
       "    </tr>\n",
       "    <tr>\n",
       "      <th>Etapa Média de Voo (km)</th>\n",
       "      <td>1.143</td>\n",
       "      <td>1.137</td>\n",
       "      <td>0.527704</td>\n",
       "    </tr>\n",
       "    <tr>\n",
       "      <th>Combustível de aviação (milhares litros)</th>\n",
       "      <td>1031107.000</td>\n",
       "      <td>696014.000</td>\n",
       "      <td>48.144578</td>\n",
       "    </tr>\n",
       "  </tbody>\n",
       "</table>\n",
       "</div>"
      ],
      "text/plain": [
       "                                                           2022        2021  \\\n",
       "Dados Operacionais                                                            \n",
       "Passageiros Pagantes ('000)                              27.213      18.813   \n",
       "Passageiros Pagantes Doméstica ('000)                    26.300      18.772   \n",
       "Passageiros Pagantes Internacional ('000)                 0.913       0.041   \n",
       "Total Assentos Disponibilizados ('000)                   35.254      23.559   \n",
       "Total Assentos Disponibilizados Doméstica ('000)         34.100      23.500   \n",
       "Total Assentos Disponibilizados Internacional (...        1.154       0.059   \n",
       "Decolagens                                              203.647     134.636   \n",
       "Etapa Média de Voo (km)                                   1.143       1.137   \n",
       "Combustível de aviação (milhares litros)            1031107.000  696014.000   \n",
       "\n",
       "                                                          % Var  \n",
       "Dados Operacionais                                               \n",
       "Passageiros Pagantes ('000)                           44.649976  \n",
       "Passageiros Pagantes Doméstica ('000)                 40.102280  \n",
       "Passageiros Pagantes Internacional ('000)           2126.829268  \n",
       "Total Assentos Disponibilizados ('000)                49.641326  \n",
       "Total Assentos Disponibilizados Doméstica ('000)      45.106383  \n",
       "Total Assentos Disponibilizados Internacional (...  1855.932203  \n",
       "Decolagens                                            51.257465  \n",
       "Etapa Média de Voo (km)                                0.527704  \n",
       "Combustível de aviação (milhares litros)              48.144578  "
      ]
     },
     "execution_count": 214,
     "metadata": {},
     "output_type": "execute_result"
    }
   ],
   "source": [
    "df_GOL = extract_airline_data('GLO', 'GOL')\n",
    "plot_graf(df_GOL, 'GOL')\n",
    "display(ind_trafego(df_GOL,2022,'GOL'))\n",
    "ind_operacional(df_GOL,2022,'GOL')"
   ]
  },
  {
   "cell_type": "code",
   "execution_count": 215,
   "id": "2f5cd82b",
   "metadata": {},
   "outputs": [
    {
     "data": {
      "application/vnd.plotly.v1+json": {
       "config": {
        "plotlyServerURL": "https://plot.ly"
       },
       "data": [
        {
         "alignmentgroup": "True",
         "hovertemplate": "variable=assentos_totais<br>index=%{x}<br>value=%{y}<extra></extra>",
         "legendgroup": "assentos_totais",
         "marker": {
          "color": "#636efa",
          "pattern": {
           "shape": ""
          }
         },
         "name": "assentos_totais",
         "offsetgroup": "assentos_totais",
         "orientation": "v",
         "showlegend": true,
         "textposition": "auto",
         "type": "bar",
         "x": [
          2010,
          2011,
          2012,
          2013,
          2014,
          2015,
          2016,
          2017,
          2018,
          2019,
          2020,
          2021,
          2022
         ],
         "xaxis": "x",
         "y": [
          5254416,
          10016072,
          13926130,
          18377802,
          27173184,
          28216564,
          26958312,
          27949734,
          29164244,
          33857732,
          18786626,
          29575076,
          35670587
         ],
         "yaxis": "y"
        },
        {
         "alignmentgroup": "True",
         "hovertemplate": "variable=passageiros_pgs<br>index=%{x}<br>value=%{y}<extra></extra>",
         "legendgroup": "passageiros_pgs",
         "marker": {
          "color": "#EF553B",
          "pattern": {
           "shape": ""
          }
         },
         "name": "passageiros_pgs",
         "offsetgroup": "passageiros_pgs",
         "orientation": "v",
         "showlegend": true,
         "textposition": "auto",
         "type": "bar",
         "x": [
          2010,
          2011,
          2012,
          2013,
          2014,
          2015,
          2016,
          2017,
          2018,
          2019,
          2020,
          2021,
          2022
         ],
         "xaxis": "x",
         "y": [
          4061894,
          7269969,
          9815219,
          12886397,
          19384797,
          19902655,
          19528491,
          21141455,
          22179223,
          26574182,
          14428603,
          22981282,
          27175744
         ],
         "yaxis": "y"
        },
        {
         "alignmentgroup": "True",
         "hovertemplate": "variable=assentos_domestica<br>index=%{x}<br>value=%{y}<extra></extra>",
         "legendgroup": "assentos_domestica",
         "marker": {
          "color": "#00cc96",
          "pattern": {
           "shape": ""
          }
         },
         "name": "assentos_domestica",
         "offsetgroup": "assentos_domestica",
         "orientation": "v",
         "showlegend": true,
         "textposition": "auto",
         "type": "bar",
         "x": [
          2010,
          2011,
          2012,
          2013,
          2014,
          2015,
          2016,
          2017,
          2018,
          2019,
          2020,
          2021,
          2022
         ],
         "xaxis": "x",
         "y": [
          5250758,
          10015836,
          13926130,
          18377684,
          27148081,
          27741809,
          26394384,
          27047807,
          27725723,
          32281169,
          18224571,
          29279638,
          34709388
         ],
         "yaxis": "y"
        },
        {
         "alignmentgroup": "True",
         "hovertemplate": "variable=passageiros_pgs_domestica<br>index=%{x}<br>value=%{y}<extra></extra>",
         "legendgroup": "passageiros_pgs_domestica",
         "marker": {
          "color": "#ab63fa",
          "pattern": {
           "shape": ""
          }
         },
         "name": "passageiros_pgs_domestica",
         "offsetgroup": "passageiros_pgs_domestica",
         "orientation": "v",
         "showlegend": true,
         "textposition": "auto",
         "type": "bar",
         "x": [
          2010,
          2011,
          2012,
          2013,
          2014,
          2015,
          2016,
          2017,
          2018,
          2019,
          2020,
          2021,
          2022
         ],
         "xaxis": "x",
         "y": [
          4061243,
          7269873,
          9815219,
          12886279,
          19363614,
          19505493,
          19044126,
          20347145,
          20941567,
          25225218,
          13993002,
          22775835,
          26376329
         ],
         "yaxis": "y"
        },
        {
         "alignmentgroup": "True",
         "hovertemplate": "variable=assentos_internacional<br>index=%{x}<br>value=%{y}<extra></extra>",
         "legendgroup": "assentos_internacional",
         "marker": {
          "color": "#FFA15A",
          "pattern": {
           "shape": ""
          }
         },
         "name": "assentos_internacional",
         "offsetgroup": "assentos_internacional",
         "orientation": "v",
         "showlegend": true,
         "textposition": "auto",
         "type": "bar",
         "x": [
          2010,
          2011,
          2012,
          2013,
          2014,
          2015,
          2016,
          2017,
          2018,
          2019,
          2020,
          2021,
          2022
         ],
         "xaxis": "x",
         "y": [
          3658,
          236,
          0,
          118,
          25103,
          474755,
          563928,
          901927,
          1438521,
          1576563,
          562055,
          295438,
          961199
         ],
         "yaxis": "y"
        },
        {
         "alignmentgroup": "True",
         "hovertemplate": "variable=passageiros_pgs_internacional<br>index=%{x}<br>value=%{y}<extra></extra>",
         "legendgroup": "passageiros_pgs_internacional",
         "marker": {
          "color": "#19d3f3",
          "pattern": {
           "shape": ""
          }
         },
         "name": "passageiros_pgs_internacional",
         "offsetgroup": "passageiros_pgs_internacional",
         "orientation": "v",
         "showlegend": true,
         "textposition": "auto",
         "type": "bar",
         "x": [
          2010,
          2011,
          2012,
          2013,
          2014,
          2015,
          2016,
          2017,
          2018,
          2019,
          2020,
          2021,
          2022
         ],
         "xaxis": "x",
         "y": [
          651,
          96,
          0,
          118,
          21183,
          397162,
          484365,
          794310,
          1237656,
          1348964,
          435601,
          205447,
          799415
         ],
         "yaxis": "y"
        }
       ],
       "layout": {
        "barmode": "group",
        "legend": {
         "title": {
          "text": "variable"
         },
         "tracegroupgap": 0
        },
        "template": {
         "data": {
          "bar": [
           {
            "error_x": {
             "color": "#2a3f5f"
            },
            "error_y": {
             "color": "#2a3f5f"
            },
            "marker": {
             "line": {
              "color": "#E5ECF6",
              "width": 0.5
             },
             "pattern": {
              "fillmode": "overlay",
              "size": 10,
              "solidity": 0.2
             }
            },
            "type": "bar"
           }
          ],
          "barpolar": [
           {
            "marker": {
             "line": {
              "color": "#E5ECF6",
              "width": 0.5
             },
             "pattern": {
              "fillmode": "overlay",
              "size": 10,
              "solidity": 0.2
             }
            },
            "type": "barpolar"
           }
          ],
          "carpet": [
           {
            "aaxis": {
             "endlinecolor": "#2a3f5f",
             "gridcolor": "white",
             "linecolor": "white",
             "minorgridcolor": "white",
             "startlinecolor": "#2a3f5f"
            },
            "baxis": {
             "endlinecolor": "#2a3f5f",
             "gridcolor": "white",
             "linecolor": "white",
             "minorgridcolor": "white",
             "startlinecolor": "#2a3f5f"
            },
            "type": "carpet"
           }
          ],
          "choropleth": [
           {
            "colorbar": {
             "outlinewidth": 0,
             "ticks": ""
            },
            "type": "choropleth"
           }
          ],
          "contour": [
           {
            "colorbar": {
             "outlinewidth": 0,
             "ticks": ""
            },
            "colorscale": [
             [
              0,
              "#0d0887"
             ],
             [
              0.1111111111111111,
              "#46039f"
             ],
             [
              0.2222222222222222,
              "#7201a8"
             ],
             [
              0.3333333333333333,
              "#9c179e"
             ],
             [
              0.4444444444444444,
              "#bd3786"
             ],
             [
              0.5555555555555556,
              "#d8576b"
             ],
             [
              0.6666666666666666,
              "#ed7953"
             ],
             [
              0.7777777777777778,
              "#fb9f3a"
             ],
             [
              0.8888888888888888,
              "#fdca26"
             ],
             [
              1,
              "#f0f921"
             ]
            ],
            "type": "contour"
           }
          ],
          "contourcarpet": [
           {
            "colorbar": {
             "outlinewidth": 0,
             "ticks": ""
            },
            "type": "contourcarpet"
           }
          ],
          "heatmap": [
           {
            "colorbar": {
             "outlinewidth": 0,
             "ticks": ""
            },
            "colorscale": [
             [
              0,
              "#0d0887"
             ],
             [
              0.1111111111111111,
              "#46039f"
             ],
             [
              0.2222222222222222,
              "#7201a8"
             ],
             [
              0.3333333333333333,
              "#9c179e"
             ],
             [
              0.4444444444444444,
              "#bd3786"
             ],
             [
              0.5555555555555556,
              "#d8576b"
             ],
             [
              0.6666666666666666,
              "#ed7953"
             ],
             [
              0.7777777777777778,
              "#fb9f3a"
             ],
             [
              0.8888888888888888,
              "#fdca26"
             ],
             [
              1,
              "#f0f921"
             ]
            ],
            "type": "heatmap"
           }
          ],
          "heatmapgl": [
           {
            "colorbar": {
             "outlinewidth": 0,
             "ticks": ""
            },
            "colorscale": [
             [
              0,
              "#0d0887"
             ],
             [
              0.1111111111111111,
              "#46039f"
             ],
             [
              0.2222222222222222,
              "#7201a8"
             ],
             [
              0.3333333333333333,
              "#9c179e"
             ],
             [
              0.4444444444444444,
              "#bd3786"
             ],
             [
              0.5555555555555556,
              "#d8576b"
             ],
             [
              0.6666666666666666,
              "#ed7953"
             ],
             [
              0.7777777777777778,
              "#fb9f3a"
             ],
             [
              0.8888888888888888,
              "#fdca26"
             ],
             [
              1,
              "#f0f921"
             ]
            ],
            "type": "heatmapgl"
           }
          ],
          "histogram": [
           {
            "marker": {
             "pattern": {
              "fillmode": "overlay",
              "size": 10,
              "solidity": 0.2
             }
            },
            "type": "histogram"
           }
          ],
          "histogram2d": [
           {
            "colorbar": {
             "outlinewidth": 0,
             "ticks": ""
            },
            "colorscale": [
             [
              0,
              "#0d0887"
             ],
             [
              0.1111111111111111,
              "#46039f"
             ],
             [
              0.2222222222222222,
              "#7201a8"
             ],
             [
              0.3333333333333333,
              "#9c179e"
             ],
             [
              0.4444444444444444,
              "#bd3786"
             ],
             [
              0.5555555555555556,
              "#d8576b"
             ],
             [
              0.6666666666666666,
              "#ed7953"
             ],
             [
              0.7777777777777778,
              "#fb9f3a"
             ],
             [
              0.8888888888888888,
              "#fdca26"
             ],
             [
              1,
              "#f0f921"
             ]
            ],
            "type": "histogram2d"
           }
          ],
          "histogram2dcontour": [
           {
            "colorbar": {
             "outlinewidth": 0,
             "ticks": ""
            },
            "colorscale": [
             [
              0,
              "#0d0887"
             ],
             [
              0.1111111111111111,
              "#46039f"
             ],
             [
              0.2222222222222222,
              "#7201a8"
             ],
             [
              0.3333333333333333,
              "#9c179e"
             ],
             [
              0.4444444444444444,
              "#bd3786"
             ],
             [
              0.5555555555555556,
              "#d8576b"
             ],
             [
              0.6666666666666666,
              "#ed7953"
             ],
             [
              0.7777777777777778,
              "#fb9f3a"
             ],
             [
              0.8888888888888888,
              "#fdca26"
             ],
             [
              1,
              "#f0f921"
             ]
            ],
            "type": "histogram2dcontour"
           }
          ],
          "mesh3d": [
           {
            "colorbar": {
             "outlinewidth": 0,
             "ticks": ""
            },
            "type": "mesh3d"
           }
          ],
          "parcoords": [
           {
            "line": {
             "colorbar": {
              "outlinewidth": 0,
              "ticks": ""
             }
            },
            "type": "parcoords"
           }
          ],
          "pie": [
           {
            "automargin": true,
            "type": "pie"
           }
          ],
          "scatter": [
           {
            "fillpattern": {
             "fillmode": "overlay",
             "size": 10,
             "solidity": 0.2
            },
            "type": "scatter"
           }
          ],
          "scatter3d": [
           {
            "line": {
             "colorbar": {
              "outlinewidth": 0,
              "ticks": ""
             }
            },
            "marker": {
             "colorbar": {
              "outlinewidth": 0,
              "ticks": ""
             }
            },
            "type": "scatter3d"
           }
          ],
          "scattercarpet": [
           {
            "marker": {
             "colorbar": {
              "outlinewidth": 0,
              "ticks": ""
             }
            },
            "type": "scattercarpet"
           }
          ],
          "scattergeo": [
           {
            "marker": {
             "colorbar": {
              "outlinewidth": 0,
              "ticks": ""
             }
            },
            "type": "scattergeo"
           }
          ],
          "scattergl": [
           {
            "marker": {
             "colorbar": {
              "outlinewidth": 0,
              "ticks": ""
             }
            },
            "type": "scattergl"
           }
          ],
          "scattermapbox": [
           {
            "marker": {
             "colorbar": {
              "outlinewidth": 0,
              "ticks": ""
             }
            },
            "type": "scattermapbox"
           }
          ],
          "scatterpolar": [
           {
            "marker": {
             "colorbar": {
              "outlinewidth": 0,
              "ticks": ""
             }
            },
            "type": "scatterpolar"
           }
          ],
          "scatterpolargl": [
           {
            "marker": {
             "colorbar": {
              "outlinewidth": 0,
              "ticks": ""
             }
            },
            "type": "scatterpolargl"
           }
          ],
          "scatterternary": [
           {
            "marker": {
             "colorbar": {
              "outlinewidth": 0,
              "ticks": ""
             }
            },
            "type": "scatterternary"
           }
          ],
          "surface": [
           {
            "colorbar": {
             "outlinewidth": 0,
             "ticks": ""
            },
            "colorscale": [
             [
              0,
              "#0d0887"
             ],
             [
              0.1111111111111111,
              "#46039f"
             ],
             [
              0.2222222222222222,
              "#7201a8"
             ],
             [
              0.3333333333333333,
              "#9c179e"
             ],
             [
              0.4444444444444444,
              "#bd3786"
             ],
             [
              0.5555555555555556,
              "#d8576b"
             ],
             [
              0.6666666666666666,
              "#ed7953"
             ],
             [
              0.7777777777777778,
              "#fb9f3a"
             ],
             [
              0.8888888888888888,
              "#fdca26"
             ],
             [
              1,
              "#f0f921"
             ]
            ],
            "type": "surface"
           }
          ],
          "table": [
           {
            "cells": {
             "fill": {
              "color": "#EBF0F8"
             },
             "line": {
              "color": "white"
             }
            },
            "header": {
             "fill": {
              "color": "#C8D4E3"
             },
             "line": {
              "color": "white"
             }
            },
            "type": "table"
           }
          ]
         },
         "layout": {
          "annotationdefaults": {
           "arrowcolor": "#2a3f5f",
           "arrowhead": 0,
           "arrowwidth": 1
          },
          "autotypenumbers": "strict",
          "coloraxis": {
           "colorbar": {
            "outlinewidth": 0,
            "ticks": ""
           }
          },
          "colorscale": {
           "diverging": [
            [
             0,
             "#8e0152"
            ],
            [
             0.1,
             "#c51b7d"
            ],
            [
             0.2,
             "#de77ae"
            ],
            [
             0.3,
             "#f1b6da"
            ],
            [
             0.4,
             "#fde0ef"
            ],
            [
             0.5,
             "#f7f7f7"
            ],
            [
             0.6,
             "#e6f5d0"
            ],
            [
             0.7,
             "#b8e186"
            ],
            [
             0.8,
             "#7fbc41"
            ],
            [
             0.9,
             "#4d9221"
            ],
            [
             1,
             "#276419"
            ]
           ],
           "sequential": [
            [
             0,
             "#0d0887"
            ],
            [
             0.1111111111111111,
             "#46039f"
            ],
            [
             0.2222222222222222,
             "#7201a8"
            ],
            [
             0.3333333333333333,
             "#9c179e"
            ],
            [
             0.4444444444444444,
             "#bd3786"
            ],
            [
             0.5555555555555556,
             "#d8576b"
            ],
            [
             0.6666666666666666,
             "#ed7953"
            ],
            [
             0.7777777777777778,
             "#fb9f3a"
            ],
            [
             0.8888888888888888,
             "#fdca26"
            ],
            [
             1,
             "#f0f921"
            ]
           ],
           "sequentialminus": [
            [
             0,
             "#0d0887"
            ],
            [
             0.1111111111111111,
             "#46039f"
            ],
            [
             0.2222222222222222,
             "#7201a8"
            ],
            [
             0.3333333333333333,
             "#9c179e"
            ],
            [
             0.4444444444444444,
             "#bd3786"
            ],
            [
             0.5555555555555556,
             "#d8576b"
            ],
            [
             0.6666666666666666,
             "#ed7953"
            ],
            [
             0.7777777777777778,
             "#fb9f3a"
            ],
            [
             0.8888888888888888,
             "#fdca26"
            ],
            [
             1,
             "#f0f921"
            ]
           ]
          },
          "colorway": [
           "#636efa",
           "#EF553B",
           "#00cc96",
           "#ab63fa",
           "#FFA15A",
           "#19d3f3",
           "#FF6692",
           "#B6E880",
           "#FF97FF",
           "#FECB52"
          ],
          "font": {
           "color": "#2a3f5f"
          },
          "geo": {
           "bgcolor": "white",
           "lakecolor": "white",
           "landcolor": "#E5ECF6",
           "showlakes": true,
           "showland": true,
           "subunitcolor": "white"
          },
          "hoverlabel": {
           "align": "left"
          },
          "hovermode": "closest",
          "mapbox": {
           "style": "light"
          },
          "paper_bgcolor": "white",
          "plot_bgcolor": "#E5ECF6",
          "polar": {
           "angularaxis": {
            "gridcolor": "white",
            "linecolor": "white",
            "ticks": ""
           },
           "bgcolor": "#E5ECF6",
           "radialaxis": {
            "gridcolor": "white",
            "linecolor": "white",
            "ticks": ""
           }
          },
          "scene": {
           "xaxis": {
            "backgroundcolor": "#E5ECF6",
            "gridcolor": "white",
            "gridwidth": 2,
            "linecolor": "white",
            "showbackground": true,
            "ticks": "",
            "zerolinecolor": "white"
           },
           "yaxis": {
            "backgroundcolor": "#E5ECF6",
            "gridcolor": "white",
            "gridwidth": 2,
            "linecolor": "white",
            "showbackground": true,
            "ticks": "",
            "zerolinecolor": "white"
           },
           "zaxis": {
            "backgroundcolor": "#E5ECF6",
            "gridcolor": "white",
            "gridwidth": 2,
            "linecolor": "white",
            "showbackground": true,
            "ticks": "",
            "zerolinecolor": "white"
           }
          },
          "shapedefaults": {
           "line": {
            "color": "#2a3f5f"
           }
          },
          "ternary": {
           "aaxis": {
            "gridcolor": "white",
            "linecolor": "white",
            "ticks": ""
           },
           "baxis": {
            "gridcolor": "white",
            "linecolor": "white",
            "ticks": ""
           },
           "bgcolor": "#E5ECF6",
           "caxis": {
            "gridcolor": "white",
            "linecolor": "white",
            "ticks": ""
           }
          },
          "title": {
           "x": 0.05
          },
          "xaxis": {
           "automargin": true,
           "gridcolor": "white",
           "linecolor": "white",
           "ticks": "",
           "title": {
            "standoff": 15
           },
           "zerolinecolor": "white",
           "zerolinewidth": 2
          },
          "yaxis": {
           "automargin": true,
           "gridcolor": "white",
           "linecolor": "white",
           "ticks": "",
           "title": {
            "standoff": 15
           },
           "zerolinecolor": "white",
           "zerolinewidth": 2
          }
         }
        },
        "title": {
         "text": "Estatísticas de transporte aéreo da AZUL",
         "x": 0.5,
         "xanchor": "center",
         "y": 0.95,
         "yanchor": "top"
        },
        "xaxis": {
         "anchor": "y",
         "domain": [
          0,
          1
         ],
         "title": {
          "text": "Ano"
         }
        },
        "yaxis": {
         "anchor": "x",
         "domain": [
          0,
          1
         ],
         "title": {
          "text": "Passageiros"
         }
        }
       }
      },
      "text/html": [
       "<div>                            <div id=\"a5e89f3d-d7b6-4129-9afc-09863e8a57f8\" class=\"plotly-graph-div\" style=\"height:525px; width:100%;\"></div>            <script type=\"text/javascript\">                require([\"plotly\"], function(Plotly) {                    window.PLOTLYENV=window.PLOTLYENV || {};                                    if (document.getElementById(\"a5e89f3d-d7b6-4129-9afc-09863e8a57f8\")) {                    Plotly.newPlot(                        \"a5e89f3d-d7b6-4129-9afc-09863e8a57f8\",                        [{\"alignmentgroup\":\"True\",\"hovertemplate\":\"variable=assentos_totais<br>index=%{x}<br>value=%{y}<extra></extra>\",\"legendgroup\":\"assentos_totais\",\"marker\":{\"color\":\"#636efa\",\"pattern\":{\"shape\":\"\"}},\"name\":\"assentos_totais\",\"offsetgroup\":\"assentos_totais\",\"orientation\":\"v\",\"showlegend\":true,\"textposition\":\"auto\",\"x\":[2010,2011,2012,2013,2014,2015,2016,2017,2018,2019,2020,2021,2022],\"xaxis\":\"x\",\"y\":[5254416.0,10016072.0,13926130.0,18377802.0,27173184.0,28216564.0,26958312.0,27949734.0,29164244.0,33857732.0,18786626.0,29575076.0,35670587.0],\"yaxis\":\"y\",\"type\":\"bar\"},{\"alignmentgroup\":\"True\",\"hovertemplate\":\"variable=passageiros_pgs<br>index=%{x}<br>value=%{y}<extra></extra>\",\"legendgroup\":\"passageiros_pgs\",\"marker\":{\"color\":\"#EF553B\",\"pattern\":{\"shape\":\"\"}},\"name\":\"passageiros_pgs\",\"offsetgroup\":\"passageiros_pgs\",\"orientation\":\"v\",\"showlegend\":true,\"textposition\":\"auto\",\"x\":[2010,2011,2012,2013,2014,2015,2016,2017,2018,2019,2020,2021,2022],\"xaxis\":\"x\",\"y\":[4061894.0,7269969.0,9815219.0,12886397.0,19384797.0,19902655.0,19528491.0,21141455.0,22179223.0,26574182.0,14428603.0,22981282.0,27175744.0],\"yaxis\":\"y\",\"type\":\"bar\"},{\"alignmentgroup\":\"True\",\"hovertemplate\":\"variable=assentos_domestica<br>index=%{x}<br>value=%{y}<extra></extra>\",\"legendgroup\":\"assentos_domestica\",\"marker\":{\"color\":\"#00cc96\",\"pattern\":{\"shape\":\"\"}},\"name\":\"assentos_domestica\",\"offsetgroup\":\"assentos_domestica\",\"orientation\":\"v\",\"showlegend\":true,\"textposition\":\"auto\",\"x\":[2010,2011,2012,2013,2014,2015,2016,2017,2018,2019,2020,2021,2022],\"xaxis\":\"x\",\"y\":[5250758.0,10015836.0,13926130.0,18377684.0,27148081.0,27741809.0,26394384.0,27047807.0,27725723.0,32281169.0,18224571.0,29279638.0,34709388.0],\"yaxis\":\"y\",\"type\":\"bar\"},{\"alignmentgroup\":\"True\",\"hovertemplate\":\"variable=passageiros_pgs_domestica<br>index=%{x}<br>value=%{y}<extra></extra>\",\"legendgroup\":\"passageiros_pgs_domestica\",\"marker\":{\"color\":\"#ab63fa\",\"pattern\":{\"shape\":\"\"}},\"name\":\"passageiros_pgs_domestica\",\"offsetgroup\":\"passageiros_pgs_domestica\",\"orientation\":\"v\",\"showlegend\":true,\"textposition\":\"auto\",\"x\":[2010,2011,2012,2013,2014,2015,2016,2017,2018,2019,2020,2021,2022],\"xaxis\":\"x\",\"y\":[4061243.0,7269873.0,9815219.0,12886279.0,19363614.0,19505493.0,19044126.0,20347145.0,20941567.0,25225218.0,13993002.0,22775835.0,26376329.0],\"yaxis\":\"y\",\"type\":\"bar\"},{\"alignmentgroup\":\"True\",\"hovertemplate\":\"variable=assentos_internacional<br>index=%{x}<br>value=%{y}<extra></extra>\",\"legendgroup\":\"assentos_internacional\",\"marker\":{\"color\":\"#FFA15A\",\"pattern\":{\"shape\":\"\"}},\"name\":\"assentos_internacional\",\"offsetgroup\":\"assentos_internacional\",\"orientation\":\"v\",\"showlegend\":true,\"textposition\":\"auto\",\"x\":[2010,2011,2012,2013,2014,2015,2016,2017,2018,2019,2020,2021,2022],\"xaxis\":\"x\",\"y\":[3658.0,236.0,0.0,118.0,25103.0,474755.0,563928.0,901927.0,1438521.0,1576563.0,562055.0,295438.0,961199.0],\"yaxis\":\"y\",\"type\":\"bar\"},{\"alignmentgroup\":\"True\",\"hovertemplate\":\"variable=passageiros_pgs_internacional<br>index=%{x}<br>value=%{y}<extra></extra>\",\"legendgroup\":\"passageiros_pgs_internacional\",\"marker\":{\"color\":\"#19d3f3\",\"pattern\":{\"shape\":\"\"}},\"name\":\"passageiros_pgs_internacional\",\"offsetgroup\":\"passageiros_pgs_internacional\",\"orientation\":\"v\",\"showlegend\":true,\"textposition\":\"auto\",\"x\":[2010,2011,2012,2013,2014,2015,2016,2017,2018,2019,2020,2021,2022],\"xaxis\":\"x\",\"y\":[651.0,96.0,0.0,118.0,21183.0,397162.0,484365.0,794310.0,1237656.0,1348964.0,435601.0,205447.0,799415.0],\"yaxis\":\"y\",\"type\":\"bar\"}],                        {\"template\":{\"data\":{\"histogram2dcontour\":[{\"type\":\"histogram2dcontour\",\"colorbar\":{\"outlinewidth\":0,\"ticks\":\"\"},\"colorscale\":[[0.0,\"#0d0887\"],[0.1111111111111111,\"#46039f\"],[0.2222222222222222,\"#7201a8\"],[0.3333333333333333,\"#9c179e\"],[0.4444444444444444,\"#bd3786\"],[0.5555555555555556,\"#d8576b\"],[0.6666666666666666,\"#ed7953\"],[0.7777777777777778,\"#fb9f3a\"],[0.8888888888888888,\"#fdca26\"],[1.0,\"#f0f921\"]]}],\"choropleth\":[{\"type\":\"choropleth\",\"colorbar\":{\"outlinewidth\":0,\"ticks\":\"\"}}],\"histogram2d\":[{\"type\":\"histogram2d\",\"colorbar\":{\"outlinewidth\":0,\"ticks\":\"\"},\"colorscale\":[[0.0,\"#0d0887\"],[0.1111111111111111,\"#46039f\"],[0.2222222222222222,\"#7201a8\"],[0.3333333333333333,\"#9c179e\"],[0.4444444444444444,\"#bd3786\"],[0.5555555555555556,\"#d8576b\"],[0.6666666666666666,\"#ed7953\"],[0.7777777777777778,\"#fb9f3a\"],[0.8888888888888888,\"#fdca26\"],[1.0,\"#f0f921\"]]}],\"heatmap\":[{\"type\":\"heatmap\",\"colorbar\":{\"outlinewidth\":0,\"ticks\":\"\"},\"colorscale\":[[0.0,\"#0d0887\"],[0.1111111111111111,\"#46039f\"],[0.2222222222222222,\"#7201a8\"],[0.3333333333333333,\"#9c179e\"],[0.4444444444444444,\"#bd3786\"],[0.5555555555555556,\"#d8576b\"],[0.6666666666666666,\"#ed7953\"],[0.7777777777777778,\"#fb9f3a\"],[0.8888888888888888,\"#fdca26\"],[1.0,\"#f0f921\"]]}],\"heatmapgl\":[{\"type\":\"heatmapgl\",\"colorbar\":{\"outlinewidth\":0,\"ticks\":\"\"},\"colorscale\":[[0.0,\"#0d0887\"],[0.1111111111111111,\"#46039f\"],[0.2222222222222222,\"#7201a8\"],[0.3333333333333333,\"#9c179e\"],[0.4444444444444444,\"#bd3786\"],[0.5555555555555556,\"#d8576b\"],[0.6666666666666666,\"#ed7953\"],[0.7777777777777778,\"#fb9f3a\"],[0.8888888888888888,\"#fdca26\"],[1.0,\"#f0f921\"]]}],\"contourcarpet\":[{\"type\":\"contourcarpet\",\"colorbar\":{\"outlinewidth\":0,\"ticks\":\"\"}}],\"contour\":[{\"type\":\"contour\",\"colorbar\":{\"outlinewidth\":0,\"ticks\":\"\"},\"colorscale\":[[0.0,\"#0d0887\"],[0.1111111111111111,\"#46039f\"],[0.2222222222222222,\"#7201a8\"],[0.3333333333333333,\"#9c179e\"],[0.4444444444444444,\"#bd3786\"],[0.5555555555555556,\"#d8576b\"],[0.6666666666666666,\"#ed7953\"],[0.7777777777777778,\"#fb9f3a\"],[0.8888888888888888,\"#fdca26\"],[1.0,\"#f0f921\"]]}],\"surface\":[{\"type\":\"surface\",\"colorbar\":{\"outlinewidth\":0,\"ticks\":\"\"},\"colorscale\":[[0.0,\"#0d0887\"],[0.1111111111111111,\"#46039f\"],[0.2222222222222222,\"#7201a8\"],[0.3333333333333333,\"#9c179e\"],[0.4444444444444444,\"#bd3786\"],[0.5555555555555556,\"#d8576b\"],[0.6666666666666666,\"#ed7953\"],[0.7777777777777778,\"#fb9f3a\"],[0.8888888888888888,\"#fdca26\"],[1.0,\"#f0f921\"]]}],\"mesh3d\":[{\"type\":\"mesh3d\",\"colorbar\":{\"outlinewidth\":0,\"ticks\":\"\"}}],\"scatter\":[{\"fillpattern\":{\"fillmode\":\"overlay\",\"size\":10,\"solidity\":0.2},\"type\":\"scatter\"}],\"parcoords\":[{\"type\":\"parcoords\",\"line\":{\"colorbar\":{\"outlinewidth\":0,\"ticks\":\"\"}}}],\"scatterpolargl\":[{\"type\":\"scatterpolargl\",\"marker\":{\"colorbar\":{\"outlinewidth\":0,\"ticks\":\"\"}}}],\"bar\":[{\"error_x\":{\"color\":\"#2a3f5f\"},\"error_y\":{\"color\":\"#2a3f5f\"},\"marker\":{\"line\":{\"color\":\"#E5ECF6\",\"width\":0.5},\"pattern\":{\"fillmode\":\"overlay\",\"size\":10,\"solidity\":0.2}},\"type\":\"bar\"}],\"scattergeo\":[{\"type\":\"scattergeo\",\"marker\":{\"colorbar\":{\"outlinewidth\":0,\"ticks\":\"\"}}}],\"scatterpolar\":[{\"type\":\"scatterpolar\",\"marker\":{\"colorbar\":{\"outlinewidth\":0,\"ticks\":\"\"}}}],\"histogram\":[{\"marker\":{\"pattern\":{\"fillmode\":\"overlay\",\"size\":10,\"solidity\":0.2}},\"type\":\"histogram\"}],\"scattergl\":[{\"type\":\"scattergl\",\"marker\":{\"colorbar\":{\"outlinewidth\":0,\"ticks\":\"\"}}}],\"scatter3d\":[{\"type\":\"scatter3d\",\"line\":{\"colorbar\":{\"outlinewidth\":0,\"ticks\":\"\"}},\"marker\":{\"colorbar\":{\"outlinewidth\":0,\"ticks\":\"\"}}}],\"scattermapbox\":[{\"type\":\"scattermapbox\",\"marker\":{\"colorbar\":{\"outlinewidth\":0,\"ticks\":\"\"}}}],\"scatterternary\":[{\"type\":\"scatterternary\",\"marker\":{\"colorbar\":{\"outlinewidth\":0,\"ticks\":\"\"}}}],\"scattercarpet\":[{\"type\":\"scattercarpet\",\"marker\":{\"colorbar\":{\"outlinewidth\":0,\"ticks\":\"\"}}}],\"carpet\":[{\"aaxis\":{\"endlinecolor\":\"#2a3f5f\",\"gridcolor\":\"white\",\"linecolor\":\"white\",\"minorgridcolor\":\"white\",\"startlinecolor\":\"#2a3f5f\"},\"baxis\":{\"endlinecolor\":\"#2a3f5f\",\"gridcolor\":\"white\",\"linecolor\":\"white\",\"minorgridcolor\":\"white\",\"startlinecolor\":\"#2a3f5f\"},\"type\":\"carpet\"}],\"table\":[{\"cells\":{\"fill\":{\"color\":\"#EBF0F8\"},\"line\":{\"color\":\"white\"}},\"header\":{\"fill\":{\"color\":\"#C8D4E3\"},\"line\":{\"color\":\"white\"}},\"type\":\"table\"}],\"barpolar\":[{\"marker\":{\"line\":{\"color\":\"#E5ECF6\",\"width\":0.5},\"pattern\":{\"fillmode\":\"overlay\",\"size\":10,\"solidity\":0.2}},\"type\":\"barpolar\"}],\"pie\":[{\"automargin\":true,\"type\":\"pie\"}]},\"layout\":{\"autotypenumbers\":\"strict\",\"colorway\":[\"#636efa\",\"#EF553B\",\"#00cc96\",\"#ab63fa\",\"#FFA15A\",\"#19d3f3\",\"#FF6692\",\"#B6E880\",\"#FF97FF\",\"#FECB52\"],\"font\":{\"color\":\"#2a3f5f\"},\"hovermode\":\"closest\",\"hoverlabel\":{\"align\":\"left\"},\"paper_bgcolor\":\"white\",\"plot_bgcolor\":\"#E5ECF6\",\"polar\":{\"bgcolor\":\"#E5ECF6\",\"angularaxis\":{\"gridcolor\":\"white\",\"linecolor\":\"white\",\"ticks\":\"\"},\"radialaxis\":{\"gridcolor\":\"white\",\"linecolor\":\"white\",\"ticks\":\"\"}},\"ternary\":{\"bgcolor\":\"#E5ECF6\",\"aaxis\":{\"gridcolor\":\"white\",\"linecolor\":\"white\",\"ticks\":\"\"},\"baxis\":{\"gridcolor\":\"white\",\"linecolor\":\"white\",\"ticks\":\"\"},\"caxis\":{\"gridcolor\":\"white\",\"linecolor\":\"white\",\"ticks\":\"\"}},\"coloraxis\":{\"colorbar\":{\"outlinewidth\":0,\"ticks\":\"\"}},\"colorscale\":{\"sequential\":[[0.0,\"#0d0887\"],[0.1111111111111111,\"#46039f\"],[0.2222222222222222,\"#7201a8\"],[0.3333333333333333,\"#9c179e\"],[0.4444444444444444,\"#bd3786\"],[0.5555555555555556,\"#d8576b\"],[0.6666666666666666,\"#ed7953\"],[0.7777777777777778,\"#fb9f3a\"],[0.8888888888888888,\"#fdca26\"],[1.0,\"#f0f921\"]],\"sequentialminus\":[[0.0,\"#0d0887\"],[0.1111111111111111,\"#46039f\"],[0.2222222222222222,\"#7201a8\"],[0.3333333333333333,\"#9c179e\"],[0.4444444444444444,\"#bd3786\"],[0.5555555555555556,\"#d8576b\"],[0.6666666666666666,\"#ed7953\"],[0.7777777777777778,\"#fb9f3a\"],[0.8888888888888888,\"#fdca26\"],[1.0,\"#f0f921\"]],\"diverging\":[[0,\"#8e0152\"],[0.1,\"#c51b7d\"],[0.2,\"#de77ae\"],[0.3,\"#f1b6da\"],[0.4,\"#fde0ef\"],[0.5,\"#f7f7f7\"],[0.6,\"#e6f5d0\"],[0.7,\"#b8e186\"],[0.8,\"#7fbc41\"],[0.9,\"#4d9221\"],[1,\"#276419\"]]},\"xaxis\":{\"gridcolor\":\"white\",\"linecolor\":\"white\",\"ticks\":\"\",\"title\":{\"standoff\":15},\"zerolinecolor\":\"white\",\"automargin\":true,\"zerolinewidth\":2},\"yaxis\":{\"gridcolor\":\"white\",\"linecolor\":\"white\",\"ticks\":\"\",\"title\":{\"standoff\":15},\"zerolinecolor\":\"white\",\"automargin\":true,\"zerolinewidth\":2},\"scene\":{\"xaxis\":{\"backgroundcolor\":\"#E5ECF6\",\"gridcolor\":\"white\",\"linecolor\":\"white\",\"showbackground\":true,\"ticks\":\"\",\"zerolinecolor\":\"white\",\"gridwidth\":2},\"yaxis\":{\"backgroundcolor\":\"#E5ECF6\",\"gridcolor\":\"white\",\"linecolor\":\"white\",\"showbackground\":true,\"ticks\":\"\",\"zerolinecolor\":\"white\",\"gridwidth\":2},\"zaxis\":{\"backgroundcolor\":\"#E5ECF6\",\"gridcolor\":\"white\",\"linecolor\":\"white\",\"showbackground\":true,\"ticks\":\"\",\"zerolinecolor\":\"white\",\"gridwidth\":2}},\"shapedefaults\":{\"line\":{\"color\":\"#2a3f5f\"}},\"annotationdefaults\":{\"arrowcolor\":\"#2a3f5f\",\"arrowhead\":0,\"arrowwidth\":1},\"geo\":{\"bgcolor\":\"white\",\"landcolor\":\"#E5ECF6\",\"subunitcolor\":\"white\",\"showland\":true,\"showlakes\":true,\"lakecolor\":\"white\"},\"title\":{\"x\":0.05},\"mapbox\":{\"style\":\"light\"}}},\"xaxis\":{\"anchor\":\"y\",\"domain\":[0.0,1.0],\"title\":{\"text\":\"Ano\"}},\"yaxis\":{\"anchor\":\"x\",\"domain\":[0.0,1.0],\"title\":{\"text\":\"Passageiros\"}},\"legend\":{\"title\":{\"text\":\"variable\"},\"tracegroupgap\":0},\"title\":{\"text\":\"Estat\\u00edsticas de transporte a\\u00e9reo da AZUL\",\"y\":0.95,\"x\":0.5,\"xanchor\":\"center\",\"yanchor\":\"top\"},\"barmode\":\"group\"},                        {\"responsive\": true}                    ).then(function(){\n",
       "                            \n",
       "var gd = document.getElementById('a5e89f3d-d7b6-4129-9afc-09863e8a57f8');\n",
       "var x = new MutationObserver(function (mutations, observer) {{\n",
       "        var display = window.getComputedStyle(gd).display;\n",
       "        if (!display || display === 'none') {{\n",
       "            console.log([gd, 'removed!']);\n",
       "            Plotly.purge(gd);\n",
       "            observer.disconnect();\n",
       "        }}\n",
       "}});\n",
       "\n",
       "// Listen for the removal of the full notebook cells\n",
       "var notebookContainer = gd.closest('#notebook-container');\n",
       "if (notebookContainer) {{\n",
       "    x.observe(notebookContainer, {childList: true});\n",
       "}}\n",
       "\n",
       "// Listen for the clearing of the current output cell\n",
       "var outputEl = gd.closest('.output');\n",
       "if (outputEl) {{\n",
       "    x.observe(outputEl, {childList: true});\n",
       "}}\n",
       "\n",
       "                        })                };                });            </script>        </div>"
      ]
     },
     "metadata": {},
     "output_type": "display_data"
    },
    {
     "name": "stdout",
     "output_type": "stream",
     "text": [
      "Assentos-quilômetro oferecidos (ASK) :\n",
      "        Número de assentos disponíveis multiplicado pelos quilômetros voados.\n",
      "\n",
      " Passageiros-quilômetro transportados (RPK) :\n",
      "        Passageiros pagantes transportados em um quilômetro. O RPK é calculado ao multiplicar-se o número de \n",
      "        passageiros pagantes pelos quilômetros voados.\n"
     ]
    },
    {
     "data": {
      "text/html": [
       "<div>\n",
       "<style scoped>\n",
       "    .dataframe tbody tr th:only-of-type {\n",
       "        vertical-align: middle;\n",
       "    }\n",
       "\n",
       "    .dataframe tbody tr th {\n",
       "        vertical-align: top;\n",
       "    }\n",
       "\n",
       "    .dataframe thead th {\n",
       "        text-align: right;\n",
       "    }\n",
       "</style>\n",
       "<table border=\"1\" class=\"dataframe\">\n",
       "  <thead>\n",
       "    <tr style=\"text-align: right;\">\n",
       "      <th></th>\n",
       "      <th>2022</th>\n",
       "      <th>2021</th>\n",
       "      <th>% Var</th>\n",
       "    </tr>\n",
       "    <tr>\n",
       "      <th>Dados de Tráfego - AZUL (em Milhões)</th>\n",
       "      <th></th>\n",
       "      <th></th>\n",
       "      <th></th>\n",
       "    </tr>\n",
       "  </thead>\n",
       "  <tbody>\n",
       "    <tr>\n",
       "      <th>RPK - Total</th>\n",
       "      <td>31234.939</td>\n",
       "      <td>24684.900</td>\n",
       "      <td>26.534598</td>\n",
       "    </tr>\n",
       "    <tr>\n",
       "      <th>RPK - Mercado Doméstico</th>\n",
       "      <td>26203.251</td>\n",
       "      <td>23300.829</td>\n",
       "      <td>12.456304</td>\n",
       "    </tr>\n",
       "    <tr>\n",
       "      <th>RPK - Mercado Internacional</th>\n",
       "      <td>5031.688</td>\n",
       "      <td>1384.070</td>\n",
       "      <td>263.542884</td>\n",
       "    </tr>\n",
       "    <tr>\n",
       "      <th>ASK - Total</th>\n",
       "      <td>39185.033</td>\n",
       "      <td>31128.664</td>\n",
       "      <td>25.880870</td>\n",
       "    </tr>\n",
       "    <tr>\n",
       "      <th>ASK - Mercado Doméstico</th>\n",
       "      <td>33228.850</td>\n",
       "      <td>29186.021</td>\n",
       "      <td>13.851936</td>\n",
       "    </tr>\n",
       "    <tr>\n",
       "      <th>ASK - Mercado Internacional</th>\n",
       "      <td>5956.183</td>\n",
       "      <td>1942.643</td>\n",
       "      <td>206.602037</td>\n",
       "    </tr>\n",
       "    <tr>\n",
       "      <th>Taxa de Ocupação - Total (%)</th>\n",
       "      <td>76.200</td>\n",
       "      <td>77.700</td>\n",
       "      <td>-1.930502</td>\n",
       "    </tr>\n",
       "    <tr>\n",
       "      <th>Taxa de Ocupação - Mercado Doméstico (%)</th>\n",
       "      <td>76.000</td>\n",
       "      <td>77.800</td>\n",
       "      <td>-2.313625</td>\n",
       "    </tr>\n",
       "    <tr>\n",
       "      <th>Taxa de Ocupação - Mercado Internacional (%)</th>\n",
       "      <td>83.200</td>\n",
       "      <td>69.500</td>\n",
       "      <td>19.712230</td>\n",
       "    </tr>\n",
       "  </tbody>\n",
       "</table>\n",
       "</div>"
      ],
      "text/plain": [
       "                                                   2022       2021       % Var\n",
       "Dados de Tráfego - AZUL (em Milhões)                                          \n",
       "RPK - Total                                   31234.939  24684.900   26.534598\n",
       "RPK - Mercado Doméstico                       26203.251  23300.829   12.456304\n",
       "RPK - Mercado Internacional                    5031.688   1384.070  263.542884\n",
       "ASK - Total                                   39185.033  31128.664   25.880870\n",
       "ASK - Mercado Doméstico                       33228.850  29186.021   13.851936\n",
       "ASK - Mercado Internacional                    5956.183   1942.643  206.602037\n",
       "Taxa de Ocupação - Total (%)                     76.200     77.700   -1.930502\n",
       "Taxa de Ocupação - Mercado Doméstico (%)         76.000     77.800   -2.313625\n",
       "Taxa de Ocupação - Mercado Internacional (%)     83.200     69.500   19.712230"
      ]
     },
     "metadata": {},
     "output_type": "display_data"
    },
    {
     "data": {
      "text/html": [
       "<div>\n",
       "<style scoped>\n",
       "    .dataframe tbody tr th:only-of-type {\n",
       "        vertical-align: middle;\n",
       "    }\n",
       "\n",
       "    .dataframe tbody tr th {\n",
       "        vertical-align: top;\n",
       "    }\n",
       "\n",
       "    .dataframe thead th {\n",
       "        text-align: right;\n",
       "    }\n",
       "</style>\n",
       "<table border=\"1\" class=\"dataframe\">\n",
       "  <thead>\n",
       "    <tr style=\"text-align: right;\">\n",
       "      <th></th>\n",
       "      <th>2022</th>\n",
       "      <th>2021</th>\n",
       "      <th>% Var</th>\n",
       "    </tr>\n",
       "    <tr>\n",
       "      <th>Dados Operacionais</th>\n",
       "      <th></th>\n",
       "      <th></th>\n",
       "      <th></th>\n",
       "    </tr>\n",
       "  </thead>\n",
       "  <tbody>\n",
       "    <tr>\n",
       "      <th>Passageiros Pagantes ('000)</th>\n",
       "      <td>27.176</td>\n",
       "      <td>22.981</td>\n",
       "      <td>18.254210</td>\n",
       "    </tr>\n",
       "    <tr>\n",
       "      <th>Passageiros Pagantes Doméstica ('000)</th>\n",
       "      <td>26.376</td>\n",
       "      <td>22.776</td>\n",
       "      <td>15.806112</td>\n",
       "    </tr>\n",
       "    <tr>\n",
       "      <th>Passageiros Pagantes Internacional ('000)</th>\n",
       "      <td>0.799</td>\n",
       "      <td>0.205</td>\n",
       "      <td>289.756098</td>\n",
       "    </tr>\n",
       "    <tr>\n",
       "      <th>Total Assentos Disponibilizados ('000)</th>\n",
       "      <td>35.671</td>\n",
       "      <td>29.575</td>\n",
       "      <td>20.612003</td>\n",
       "    </tr>\n",
       "    <tr>\n",
       "      <th>Total Assentos Disponibilizados Doméstica ('000)</th>\n",
       "      <td>34.709</td>\n",
       "      <td>29.280</td>\n",
       "      <td>18.541667</td>\n",
       "    </tr>\n",
       "    <tr>\n",
       "      <th>Total Assentos Disponibilizados Internacional ('000)</th>\n",
       "      <td>0.961</td>\n",
       "      <td>0.295</td>\n",
       "      <td>225.762712</td>\n",
       "    </tr>\n",
       "    <tr>\n",
       "      <th>Decolagens</th>\n",
       "      <td>283.783</td>\n",
       "      <td>232.067</td>\n",
       "      <td>22.284944</td>\n",
       "    </tr>\n",
       "    <tr>\n",
       "      <th>Etapa Média de Voo (km)</th>\n",
       "      <td>0.915</td>\n",
       "      <td>0.904</td>\n",
       "      <td>1.216814</td>\n",
       "    </tr>\n",
       "    <tr>\n",
       "      <th>Combustível de aviação (milhares litros)</th>\n",
       "      <td>1146747.000</td>\n",
       "      <td>954166.000</td>\n",
       "      <td>20.183176</td>\n",
       "    </tr>\n",
       "  </tbody>\n",
       "</table>\n",
       "</div>"
      ],
      "text/plain": [
       "                                                           2022        2021  \\\n",
       "Dados Operacionais                                                            \n",
       "Passageiros Pagantes ('000)                              27.176      22.981   \n",
       "Passageiros Pagantes Doméstica ('000)                    26.376      22.776   \n",
       "Passageiros Pagantes Internacional ('000)                 0.799       0.205   \n",
       "Total Assentos Disponibilizados ('000)                   35.671      29.575   \n",
       "Total Assentos Disponibilizados Doméstica ('000)         34.709      29.280   \n",
       "Total Assentos Disponibilizados Internacional (...        0.961       0.295   \n",
       "Decolagens                                              283.783     232.067   \n",
       "Etapa Média de Voo (km)                                   0.915       0.904   \n",
       "Combustível de aviação (milhares litros)            1146747.000  954166.000   \n",
       "\n",
       "                                                         % Var  \n",
       "Dados Operacionais                                              \n",
       "Passageiros Pagantes ('000)                          18.254210  \n",
       "Passageiros Pagantes Doméstica ('000)                15.806112  \n",
       "Passageiros Pagantes Internacional ('000)           289.756098  \n",
       "Total Assentos Disponibilizados ('000)               20.612003  \n",
       "Total Assentos Disponibilizados Doméstica ('000)     18.541667  \n",
       "Total Assentos Disponibilizados Internacional (...  225.762712  \n",
       "Decolagens                                           22.284944  \n",
       "Etapa Média de Voo (km)                               1.216814  \n",
       "Combustível de aviação (milhares litros)             20.183176  "
      ]
     },
     "execution_count": 215,
     "metadata": {},
     "output_type": "execute_result"
    }
   ],
   "source": [
    "df_AZUL = extract_airline_data('AZU', 'AZUL')\n",
    "plot_graf(df_AZUL, 'AZUL')\n",
    "display(ind_trafego(df_AZUL,2022,'AZUL'))\n",
    "ind_operacional(df_AZUL,2022,'AZUL')\n"
   ]
  },
  {
   "cell_type": "code",
   "execution_count": 217,
   "id": "70db14b8",
   "metadata": {},
   "outputs": [
    {
     "data": {
      "application/vnd.plotly.v1+json": {
       "config": {
        "plotlyServerURL": "https://plot.ly"
       },
       "data": [
        {
         "alignmentgroup": "True",
         "hovertemplate": "variable=assentos_totais<br>index=%{x}<br>value=%{y}<extra></extra>",
         "legendgroup": "assentos_totais",
         "marker": {
          "color": "#636efa",
          "pattern": {
           "shape": ""
          }
         },
         "name": "assentos_totais",
         "offsetgroup": "assentos_totais",
         "orientation": "v",
         "showlegend": true,
         "textposition": "auto",
         "type": "bar",
         "x": [
          2010,
          2011,
          2012,
          2013,
          2014,
          2015,
          2016,
          2017,
          2018,
          2019,
          2020,
          2021,
          2022
         ],
         "xaxis": "x",
         "y": [
          50621692,
          52472623,
          51208640,
          48378703,
          47534852,
          46817661,
          42629017,
          41697555,
          42774519,
          45450597,
          20430145,
          26140832,
          40286564
         ],
         "yaxis": "y"
        },
        {
         "alignmentgroup": "True",
         "hovertemplate": "variable=passageiros_pgs<br>index=%{x}<br>value=%{y}<extra></extra>",
         "legendgroup": "passageiros_pgs",
         "marker": {
          "color": "#EF553B",
          "pattern": {
           "shape": ""
          }
         },
         "name": "passageiros_pgs",
         "offsetgroup": "passageiros_pgs",
         "orientation": "v",
         "showlegend": true,
         "textposition": "auto",
         "type": "bar",
         "x": [
          2010,
          2011,
          2012,
          2013,
          2014,
          2015,
          2016,
          2017,
          2018,
          2019,
          2020,
          2021,
          2022
         ],
         "xaxis": "x",
         "y": [
          30771326,
          32360811,
          34691612,
          35286205,
          36081818,
          36121758,
          33698271,
          33479026,
          34082797,
          37035805,
          15890869,
          20571730,
          31144272
         ],
         "yaxis": "y"
        },
        {
         "alignmentgroup": "True",
         "hovertemplate": "variable=assentos_domestica<br>index=%{x}<br>value=%{y}<extra></extra>",
         "legendgroup": "assentos_domestica",
         "marker": {
          "color": "#00cc96",
          "pattern": {
           "shape": ""
          }
         },
         "name": "assentos_domestica",
         "offsetgroup": "assentos_domestica",
         "orientation": "v",
         "showlegend": true,
         "textposition": "auto",
         "type": "bar",
         "x": [
          2010,
          2011,
          2012,
          2013,
          2014,
          2015,
          2016,
          2017,
          2018,
          2019,
          2020,
          2021,
          2022
         ],
         "xaxis": "x",
         "y": [
          45969275,
          47433183,
          46016227,
          42832344,
          42191364,
          40865019,
          36464715,
          35227570,
          35958365,
          38876916,
          18475428,
          25085388,
          37245582
         ],
         "yaxis": "y"
        },
        {
         "alignmentgroup": "True",
         "hovertemplate": "variable=passageiros_pgs_domestica<br>index=%{x}<br>value=%{y}<extra></extra>",
         "legendgroup": "passageiros_pgs_domestica",
         "marker": {
          "color": "#ab63fa",
          "pattern": {
           "shape": ""
          }
         },
         "name": "passageiros_pgs_domestica",
         "offsetgroup": "passageiros_pgs_domestica",
         "orientation": "v",
         "showlegend": true,
         "textposition": "auto",
         "type": "bar",
         "x": [
          2010,
          2011,
          2012,
          2013,
          2014,
          2015,
          2016,
          2017,
          2018,
          2019,
          2020,
          2021,
          2022
         ],
         "xaxis": "x",
         "y": [
          27177492,
          28356272,
          30528478,
          30837788,
          31641648,
          31234937,
          28587369,
          28021679,
          28466249,
          31488794,
          14487868,
          19907447,
          28663571
         ],
         "yaxis": "y"
        },
        {
         "alignmentgroup": "True",
         "hovertemplate": "variable=assentos_internacional<br>index=%{x}<br>value=%{y}<extra></extra>",
         "legendgroup": "assentos_internacional",
         "marker": {
          "color": "#FFA15A",
          "pattern": {
           "shape": ""
          }
         },
         "name": "assentos_internacional",
         "offsetgroup": "assentos_internacional",
         "orientation": "v",
         "showlegend": true,
         "textposition": "auto",
         "type": "bar",
         "x": [
          2010,
          2011,
          2012,
          2013,
          2014,
          2015,
          2016,
          2017,
          2018,
          2019,
          2020,
          2021,
          2022
         ],
         "xaxis": "x",
         "y": [
          4652417,
          5039440,
          5192413,
          5546359,
          5343488,
          5952642,
          6164302,
          6469985,
          6816154,
          6573681,
          1954717,
          1055444,
          3040982
         ],
         "yaxis": "y"
        },
        {
         "alignmentgroup": "True",
         "hovertemplate": "variable=passageiros_pgs_internacional<br>index=%{x}<br>value=%{y}<extra></extra>",
         "legendgroup": "passageiros_pgs_internacional",
         "marker": {
          "color": "#19d3f3",
          "pattern": {
           "shape": ""
          }
         },
         "name": "passageiros_pgs_internacional",
         "offsetgroup": "passageiros_pgs_internacional",
         "orientation": "v",
         "showlegend": true,
         "textposition": "auto",
         "type": "bar",
         "x": [
          2010,
          2011,
          2012,
          2013,
          2014,
          2015,
          2016,
          2017,
          2018,
          2019,
          2020,
          2021,
          2022
         ],
         "xaxis": "x",
         "y": [
          3593834,
          4004539,
          4163134,
          4448417,
          4440170,
          4886821,
          5110902,
          5457347,
          5616548,
          5547011,
          1403001,
          664283,
          2480701
         ],
         "yaxis": "y"
        }
       ],
       "layout": {
        "barmode": "group",
        "legend": {
         "title": {
          "text": "variable"
         },
         "tracegroupgap": 0
        },
        "template": {
         "data": {
          "bar": [
           {
            "error_x": {
             "color": "#2a3f5f"
            },
            "error_y": {
             "color": "#2a3f5f"
            },
            "marker": {
             "line": {
              "color": "#E5ECF6",
              "width": 0.5
             },
             "pattern": {
              "fillmode": "overlay",
              "size": 10,
              "solidity": 0.2
             }
            },
            "type": "bar"
           }
          ],
          "barpolar": [
           {
            "marker": {
             "line": {
              "color": "#E5ECF6",
              "width": 0.5
             },
             "pattern": {
              "fillmode": "overlay",
              "size": 10,
              "solidity": 0.2
             }
            },
            "type": "barpolar"
           }
          ],
          "carpet": [
           {
            "aaxis": {
             "endlinecolor": "#2a3f5f",
             "gridcolor": "white",
             "linecolor": "white",
             "minorgridcolor": "white",
             "startlinecolor": "#2a3f5f"
            },
            "baxis": {
             "endlinecolor": "#2a3f5f",
             "gridcolor": "white",
             "linecolor": "white",
             "minorgridcolor": "white",
             "startlinecolor": "#2a3f5f"
            },
            "type": "carpet"
           }
          ],
          "choropleth": [
           {
            "colorbar": {
             "outlinewidth": 0,
             "ticks": ""
            },
            "type": "choropleth"
           }
          ],
          "contour": [
           {
            "colorbar": {
             "outlinewidth": 0,
             "ticks": ""
            },
            "colorscale": [
             [
              0,
              "#0d0887"
             ],
             [
              0.1111111111111111,
              "#46039f"
             ],
             [
              0.2222222222222222,
              "#7201a8"
             ],
             [
              0.3333333333333333,
              "#9c179e"
             ],
             [
              0.4444444444444444,
              "#bd3786"
             ],
             [
              0.5555555555555556,
              "#d8576b"
             ],
             [
              0.6666666666666666,
              "#ed7953"
             ],
             [
              0.7777777777777778,
              "#fb9f3a"
             ],
             [
              0.8888888888888888,
              "#fdca26"
             ],
             [
              1,
              "#f0f921"
             ]
            ],
            "type": "contour"
           }
          ],
          "contourcarpet": [
           {
            "colorbar": {
             "outlinewidth": 0,
             "ticks": ""
            },
            "type": "contourcarpet"
           }
          ],
          "heatmap": [
           {
            "colorbar": {
             "outlinewidth": 0,
             "ticks": ""
            },
            "colorscale": [
             [
              0,
              "#0d0887"
             ],
             [
              0.1111111111111111,
              "#46039f"
             ],
             [
              0.2222222222222222,
              "#7201a8"
             ],
             [
              0.3333333333333333,
              "#9c179e"
             ],
             [
              0.4444444444444444,
              "#bd3786"
             ],
             [
              0.5555555555555556,
              "#d8576b"
             ],
             [
              0.6666666666666666,
              "#ed7953"
             ],
             [
              0.7777777777777778,
              "#fb9f3a"
             ],
             [
              0.8888888888888888,
              "#fdca26"
             ],
             [
              1,
              "#f0f921"
             ]
            ],
            "type": "heatmap"
           }
          ],
          "heatmapgl": [
           {
            "colorbar": {
             "outlinewidth": 0,
             "ticks": ""
            },
            "colorscale": [
             [
              0,
              "#0d0887"
             ],
             [
              0.1111111111111111,
              "#46039f"
             ],
             [
              0.2222222222222222,
              "#7201a8"
             ],
             [
              0.3333333333333333,
              "#9c179e"
             ],
             [
              0.4444444444444444,
              "#bd3786"
             ],
             [
              0.5555555555555556,
              "#d8576b"
             ],
             [
              0.6666666666666666,
              "#ed7953"
             ],
             [
              0.7777777777777778,
              "#fb9f3a"
             ],
             [
              0.8888888888888888,
              "#fdca26"
             ],
             [
              1,
              "#f0f921"
             ]
            ],
            "type": "heatmapgl"
           }
          ],
          "histogram": [
           {
            "marker": {
             "pattern": {
              "fillmode": "overlay",
              "size": 10,
              "solidity": 0.2
             }
            },
            "type": "histogram"
           }
          ],
          "histogram2d": [
           {
            "colorbar": {
             "outlinewidth": 0,
             "ticks": ""
            },
            "colorscale": [
             [
              0,
              "#0d0887"
             ],
             [
              0.1111111111111111,
              "#46039f"
             ],
             [
              0.2222222222222222,
              "#7201a8"
             ],
             [
              0.3333333333333333,
              "#9c179e"
             ],
             [
              0.4444444444444444,
              "#bd3786"
             ],
             [
              0.5555555555555556,
              "#d8576b"
             ],
             [
              0.6666666666666666,
              "#ed7953"
             ],
             [
              0.7777777777777778,
              "#fb9f3a"
             ],
             [
              0.8888888888888888,
              "#fdca26"
             ],
             [
              1,
              "#f0f921"
             ]
            ],
            "type": "histogram2d"
           }
          ],
          "histogram2dcontour": [
           {
            "colorbar": {
             "outlinewidth": 0,
             "ticks": ""
            },
            "colorscale": [
             [
              0,
              "#0d0887"
             ],
             [
              0.1111111111111111,
              "#46039f"
             ],
             [
              0.2222222222222222,
              "#7201a8"
             ],
             [
              0.3333333333333333,
              "#9c179e"
             ],
             [
              0.4444444444444444,
              "#bd3786"
             ],
             [
              0.5555555555555556,
              "#d8576b"
             ],
             [
              0.6666666666666666,
              "#ed7953"
             ],
             [
              0.7777777777777778,
              "#fb9f3a"
             ],
             [
              0.8888888888888888,
              "#fdca26"
             ],
             [
              1,
              "#f0f921"
             ]
            ],
            "type": "histogram2dcontour"
           }
          ],
          "mesh3d": [
           {
            "colorbar": {
             "outlinewidth": 0,
             "ticks": ""
            },
            "type": "mesh3d"
           }
          ],
          "parcoords": [
           {
            "line": {
             "colorbar": {
              "outlinewidth": 0,
              "ticks": ""
             }
            },
            "type": "parcoords"
           }
          ],
          "pie": [
           {
            "automargin": true,
            "type": "pie"
           }
          ],
          "scatter": [
           {
            "fillpattern": {
             "fillmode": "overlay",
             "size": 10,
             "solidity": 0.2
            },
            "type": "scatter"
           }
          ],
          "scatter3d": [
           {
            "line": {
             "colorbar": {
              "outlinewidth": 0,
              "ticks": ""
             }
            },
            "marker": {
             "colorbar": {
              "outlinewidth": 0,
              "ticks": ""
             }
            },
            "type": "scatter3d"
           }
          ],
          "scattercarpet": [
           {
            "marker": {
             "colorbar": {
              "outlinewidth": 0,
              "ticks": ""
             }
            },
            "type": "scattercarpet"
           }
          ],
          "scattergeo": [
           {
            "marker": {
             "colorbar": {
              "outlinewidth": 0,
              "ticks": ""
             }
            },
            "type": "scattergeo"
           }
          ],
          "scattergl": [
           {
            "marker": {
             "colorbar": {
              "outlinewidth": 0,
              "ticks": ""
             }
            },
            "type": "scattergl"
           }
          ],
          "scattermapbox": [
           {
            "marker": {
             "colorbar": {
              "outlinewidth": 0,
              "ticks": ""
             }
            },
            "type": "scattermapbox"
           }
          ],
          "scatterpolar": [
           {
            "marker": {
             "colorbar": {
              "outlinewidth": 0,
              "ticks": ""
             }
            },
            "type": "scatterpolar"
           }
          ],
          "scatterpolargl": [
           {
            "marker": {
             "colorbar": {
              "outlinewidth": 0,
              "ticks": ""
             }
            },
            "type": "scatterpolargl"
           }
          ],
          "scatterternary": [
           {
            "marker": {
             "colorbar": {
              "outlinewidth": 0,
              "ticks": ""
             }
            },
            "type": "scatterternary"
           }
          ],
          "surface": [
           {
            "colorbar": {
             "outlinewidth": 0,
             "ticks": ""
            },
            "colorscale": [
             [
              0,
              "#0d0887"
             ],
             [
              0.1111111111111111,
              "#46039f"
             ],
             [
              0.2222222222222222,
              "#7201a8"
             ],
             [
              0.3333333333333333,
              "#9c179e"
             ],
             [
              0.4444444444444444,
              "#bd3786"
             ],
             [
              0.5555555555555556,
              "#d8576b"
             ],
             [
              0.6666666666666666,
              "#ed7953"
             ],
             [
              0.7777777777777778,
              "#fb9f3a"
             ],
             [
              0.8888888888888888,
              "#fdca26"
             ],
             [
              1,
              "#f0f921"
             ]
            ],
            "type": "surface"
           }
          ],
          "table": [
           {
            "cells": {
             "fill": {
              "color": "#EBF0F8"
             },
             "line": {
              "color": "white"
             }
            },
            "header": {
             "fill": {
              "color": "#C8D4E3"
             },
             "line": {
              "color": "white"
             }
            },
            "type": "table"
           }
          ]
         },
         "layout": {
          "annotationdefaults": {
           "arrowcolor": "#2a3f5f",
           "arrowhead": 0,
           "arrowwidth": 1
          },
          "autotypenumbers": "strict",
          "coloraxis": {
           "colorbar": {
            "outlinewidth": 0,
            "ticks": ""
           }
          },
          "colorscale": {
           "diverging": [
            [
             0,
             "#8e0152"
            ],
            [
             0.1,
             "#c51b7d"
            ],
            [
             0.2,
             "#de77ae"
            ],
            [
             0.3,
             "#f1b6da"
            ],
            [
             0.4,
             "#fde0ef"
            ],
            [
             0.5,
             "#f7f7f7"
            ],
            [
             0.6,
             "#e6f5d0"
            ],
            [
             0.7,
             "#b8e186"
            ],
            [
             0.8,
             "#7fbc41"
            ],
            [
             0.9,
             "#4d9221"
            ],
            [
             1,
             "#276419"
            ]
           ],
           "sequential": [
            [
             0,
             "#0d0887"
            ],
            [
             0.1111111111111111,
             "#46039f"
            ],
            [
             0.2222222222222222,
             "#7201a8"
            ],
            [
             0.3333333333333333,
             "#9c179e"
            ],
            [
             0.4444444444444444,
             "#bd3786"
            ],
            [
             0.5555555555555556,
             "#d8576b"
            ],
            [
             0.6666666666666666,
             "#ed7953"
            ],
            [
             0.7777777777777778,
             "#fb9f3a"
            ],
            [
             0.8888888888888888,
             "#fdca26"
            ],
            [
             1,
             "#f0f921"
            ]
           ],
           "sequentialminus": [
            [
             0,
             "#0d0887"
            ],
            [
             0.1111111111111111,
             "#46039f"
            ],
            [
             0.2222222222222222,
             "#7201a8"
            ],
            [
             0.3333333333333333,
             "#9c179e"
            ],
            [
             0.4444444444444444,
             "#bd3786"
            ],
            [
             0.5555555555555556,
             "#d8576b"
            ],
            [
             0.6666666666666666,
             "#ed7953"
            ],
            [
             0.7777777777777778,
             "#fb9f3a"
            ],
            [
             0.8888888888888888,
             "#fdca26"
            ],
            [
             1,
             "#f0f921"
            ]
           ]
          },
          "colorway": [
           "#636efa",
           "#EF553B",
           "#00cc96",
           "#ab63fa",
           "#FFA15A",
           "#19d3f3",
           "#FF6692",
           "#B6E880",
           "#FF97FF",
           "#FECB52"
          ],
          "font": {
           "color": "#2a3f5f"
          },
          "geo": {
           "bgcolor": "white",
           "lakecolor": "white",
           "landcolor": "#E5ECF6",
           "showlakes": true,
           "showland": true,
           "subunitcolor": "white"
          },
          "hoverlabel": {
           "align": "left"
          },
          "hovermode": "closest",
          "mapbox": {
           "style": "light"
          },
          "paper_bgcolor": "white",
          "plot_bgcolor": "#E5ECF6",
          "polar": {
           "angularaxis": {
            "gridcolor": "white",
            "linecolor": "white",
            "ticks": ""
           },
           "bgcolor": "#E5ECF6",
           "radialaxis": {
            "gridcolor": "white",
            "linecolor": "white",
            "ticks": ""
           }
          },
          "scene": {
           "xaxis": {
            "backgroundcolor": "#E5ECF6",
            "gridcolor": "white",
            "gridwidth": 2,
            "linecolor": "white",
            "showbackground": true,
            "ticks": "",
            "zerolinecolor": "white"
           },
           "yaxis": {
            "backgroundcolor": "#E5ECF6",
            "gridcolor": "white",
            "gridwidth": 2,
            "linecolor": "white",
            "showbackground": true,
            "ticks": "",
            "zerolinecolor": "white"
           },
           "zaxis": {
            "backgroundcolor": "#E5ECF6",
            "gridcolor": "white",
            "gridwidth": 2,
            "linecolor": "white",
            "showbackground": true,
            "ticks": "",
            "zerolinecolor": "white"
           }
          },
          "shapedefaults": {
           "line": {
            "color": "#2a3f5f"
           }
          },
          "ternary": {
           "aaxis": {
            "gridcolor": "white",
            "linecolor": "white",
            "ticks": ""
           },
           "baxis": {
            "gridcolor": "white",
            "linecolor": "white",
            "ticks": ""
           },
           "bgcolor": "#E5ECF6",
           "caxis": {
            "gridcolor": "white",
            "linecolor": "white",
            "ticks": ""
           }
          },
          "title": {
           "x": 0.05
          },
          "xaxis": {
           "automargin": true,
           "gridcolor": "white",
           "linecolor": "white",
           "ticks": "",
           "title": {
            "standoff": 15
           },
           "zerolinecolor": "white",
           "zerolinewidth": 2
          },
          "yaxis": {
           "automargin": true,
           "gridcolor": "white",
           "linecolor": "white",
           "ticks": "",
           "title": {
            "standoff": 15
           },
           "zerolinecolor": "white",
           "zerolinewidth": 2
          }
         }
        },
        "title": {
         "text": "Estatísticas de transporte aéreo da TAM",
         "x": 0.5,
         "xanchor": "center",
         "y": 0.95,
         "yanchor": "top"
        },
        "xaxis": {
         "anchor": "y",
         "domain": [
          0,
          1
         ],
         "title": {
          "text": "Ano"
         }
        },
        "yaxis": {
         "anchor": "x",
         "domain": [
          0,
          1
         ],
         "title": {
          "text": "Passageiros"
         }
        }
       }
      },
      "text/html": [
       "<div>                            <div id=\"5c40aba3-3844-49dc-b275-602f2035ac6f\" class=\"plotly-graph-div\" style=\"height:525px; width:100%;\"></div>            <script type=\"text/javascript\">                require([\"plotly\"], function(Plotly) {                    window.PLOTLYENV=window.PLOTLYENV || {};                                    if (document.getElementById(\"5c40aba3-3844-49dc-b275-602f2035ac6f\")) {                    Plotly.newPlot(                        \"5c40aba3-3844-49dc-b275-602f2035ac6f\",                        [{\"alignmentgroup\":\"True\",\"hovertemplate\":\"variable=assentos_totais<br>index=%{x}<br>value=%{y}<extra></extra>\",\"legendgroup\":\"assentos_totais\",\"marker\":{\"color\":\"#636efa\",\"pattern\":{\"shape\":\"\"}},\"name\":\"assentos_totais\",\"offsetgroup\":\"assentos_totais\",\"orientation\":\"v\",\"showlegend\":true,\"textposition\":\"auto\",\"x\":[2010,2011,2012,2013,2014,2015,2016,2017,2018,2019,2020,2021,2022],\"xaxis\":\"x\",\"y\":[50621692.0,52472623.0,51208640.0,48378703.0,47534852.0,46817661.0,42629017.0,41697555.0,42774519.0,45450597.0,20430145.0,26140832.0,40286564.0],\"yaxis\":\"y\",\"type\":\"bar\"},{\"alignmentgroup\":\"True\",\"hovertemplate\":\"variable=passageiros_pgs<br>index=%{x}<br>value=%{y}<extra></extra>\",\"legendgroup\":\"passageiros_pgs\",\"marker\":{\"color\":\"#EF553B\",\"pattern\":{\"shape\":\"\"}},\"name\":\"passageiros_pgs\",\"offsetgroup\":\"passageiros_pgs\",\"orientation\":\"v\",\"showlegend\":true,\"textposition\":\"auto\",\"x\":[2010,2011,2012,2013,2014,2015,2016,2017,2018,2019,2020,2021,2022],\"xaxis\":\"x\",\"y\":[30771326.0,32360811.0,34691612.0,35286205.0,36081818.0,36121758.0,33698271.0,33479026.0,34082797.0,37035805.0,15890869.0,20571730.0,31144272.0],\"yaxis\":\"y\",\"type\":\"bar\"},{\"alignmentgroup\":\"True\",\"hovertemplate\":\"variable=assentos_domestica<br>index=%{x}<br>value=%{y}<extra></extra>\",\"legendgroup\":\"assentos_domestica\",\"marker\":{\"color\":\"#00cc96\",\"pattern\":{\"shape\":\"\"}},\"name\":\"assentos_domestica\",\"offsetgroup\":\"assentos_domestica\",\"orientation\":\"v\",\"showlegend\":true,\"textposition\":\"auto\",\"x\":[2010,2011,2012,2013,2014,2015,2016,2017,2018,2019,2020,2021,2022],\"xaxis\":\"x\",\"y\":[45969275.0,47433183.0,46016227.0,42832344.0,42191364.0,40865019.0,36464715.0,35227570.0,35958365.0,38876916.0,18475428.0,25085388.0,37245582.0],\"yaxis\":\"y\",\"type\":\"bar\"},{\"alignmentgroup\":\"True\",\"hovertemplate\":\"variable=passageiros_pgs_domestica<br>index=%{x}<br>value=%{y}<extra></extra>\",\"legendgroup\":\"passageiros_pgs_domestica\",\"marker\":{\"color\":\"#ab63fa\",\"pattern\":{\"shape\":\"\"}},\"name\":\"passageiros_pgs_domestica\",\"offsetgroup\":\"passageiros_pgs_domestica\",\"orientation\":\"v\",\"showlegend\":true,\"textposition\":\"auto\",\"x\":[2010,2011,2012,2013,2014,2015,2016,2017,2018,2019,2020,2021,2022],\"xaxis\":\"x\",\"y\":[27177492.0,28356272.0,30528478.0,30837788.0,31641648.0,31234937.0,28587369.0,28021679.0,28466249.0,31488794.0,14487868.0,19907447.0,28663571.0],\"yaxis\":\"y\",\"type\":\"bar\"},{\"alignmentgroup\":\"True\",\"hovertemplate\":\"variable=assentos_internacional<br>index=%{x}<br>value=%{y}<extra></extra>\",\"legendgroup\":\"assentos_internacional\",\"marker\":{\"color\":\"#FFA15A\",\"pattern\":{\"shape\":\"\"}},\"name\":\"assentos_internacional\",\"offsetgroup\":\"assentos_internacional\",\"orientation\":\"v\",\"showlegend\":true,\"textposition\":\"auto\",\"x\":[2010,2011,2012,2013,2014,2015,2016,2017,2018,2019,2020,2021,2022],\"xaxis\":\"x\",\"y\":[4652417.0,5039440.0,5192413.0,5546359.0,5343488.0,5952642.0,6164302.0,6469985.0,6816154.0,6573681.0,1954717.0,1055444.0,3040982.0],\"yaxis\":\"y\",\"type\":\"bar\"},{\"alignmentgroup\":\"True\",\"hovertemplate\":\"variable=passageiros_pgs_internacional<br>index=%{x}<br>value=%{y}<extra></extra>\",\"legendgroup\":\"passageiros_pgs_internacional\",\"marker\":{\"color\":\"#19d3f3\",\"pattern\":{\"shape\":\"\"}},\"name\":\"passageiros_pgs_internacional\",\"offsetgroup\":\"passageiros_pgs_internacional\",\"orientation\":\"v\",\"showlegend\":true,\"textposition\":\"auto\",\"x\":[2010,2011,2012,2013,2014,2015,2016,2017,2018,2019,2020,2021,2022],\"xaxis\":\"x\",\"y\":[3593834.0,4004539.0,4163134.0,4448417.0,4440170.0,4886821.0,5110902.0,5457347.0,5616548.0,5547011.0,1403001.0,664283.0,2480701.0],\"yaxis\":\"y\",\"type\":\"bar\"}],                        {\"template\":{\"data\":{\"histogram2dcontour\":[{\"type\":\"histogram2dcontour\",\"colorbar\":{\"outlinewidth\":0,\"ticks\":\"\"},\"colorscale\":[[0.0,\"#0d0887\"],[0.1111111111111111,\"#46039f\"],[0.2222222222222222,\"#7201a8\"],[0.3333333333333333,\"#9c179e\"],[0.4444444444444444,\"#bd3786\"],[0.5555555555555556,\"#d8576b\"],[0.6666666666666666,\"#ed7953\"],[0.7777777777777778,\"#fb9f3a\"],[0.8888888888888888,\"#fdca26\"],[1.0,\"#f0f921\"]]}],\"choropleth\":[{\"type\":\"choropleth\",\"colorbar\":{\"outlinewidth\":0,\"ticks\":\"\"}}],\"histogram2d\":[{\"type\":\"histogram2d\",\"colorbar\":{\"outlinewidth\":0,\"ticks\":\"\"},\"colorscale\":[[0.0,\"#0d0887\"],[0.1111111111111111,\"#46039f\"],[0.2222222222222222,\"#7201a8\"],[0.3333333333333333,\"#9c179e\"],[0.4444444444444444,\"#bd3786\"],[0.5555555555555556,\"#d8576b\"],[0.6666666666666666,\"#ed7953\"],[0.7777777777777778,\"#fb9f3a\"],[0.8888888888888888,\"#fdca26\"],[1.0,\"#f0f921\"]]}],\"heatmap\":[{\"type\":\"heatmap\",\"colorbar\":{\"outlinewidth\":0,\"ticks\":\"\"},\"colorscale\":[[0.0,\"#0d0887\"],[0.1111111111111111,\"#46039f\"],[0.2222222222222222,\"#7201a8\"],[0.3333333333333333,\"#9c179e\"],[0.4444444444444444,\"#bd3786\"],[0.5555555555555556,\"#d8576b\"],[0.6666666666666666,\"#ed7953\"],[0.7777777777777778,\"#fb9f3a\"],[0.8888888888888888,\"#fdca26\"],[1.0,\"#f0f921\"]]}],\"heatmapgl\":[{\"type\":\"heatmapgl\",\"colorbar\":{\"outlinewidth\":0,\"ticks\":\"\"},\"colorscale\":[[0.0,\"#0d0887\"],[0.1111111111111111,\"#46039f\"],[0.2222222222222222,\"#7201a8\"],[0.3333333333333333,\"#9c179e\"],[0.4444444444444444,\"#bd3786\"],[0.5555555555555556,\"#d8576b\"],[0.6666666666666666,\"#ed7953\"],[0.7777777777777778,\"#fb9f3a\"],[0.8888888888888888,\"#fdca26\"],[1.0,\"#f0f921\"]]}],\"contourcarpet\":[{\"type\":\"contourcarpet\",\"colorbar\":{\"outlinewidth\":0,\"ticks\":\"\"}}],\"contour\":[{\"type\":\"contour\",\"colorbar\":{\"outlinewidth\":0,\"ticks\":\"\"},\"colorscale\":[[0.0,\"#0d0887\"],[0.1111111111111111,\"#46039f\"],[0.2222222222222222,\"#7201a8\"],[0.3333333333333333,\"#9c179e\"],[0.4444444444444444,\"#bd3786\"],[0.5555555555555556,\"#d8576b\"],[0.6666666666666666,\"#ed7953\"],[0.7777777777777778,\"#fb9f3a\"],[0.8888888888888888,\"#fdca26\"],[1.0,\"#f0f921\"]]}],\"surface\":[{\"type\":\"surface\",\"colorbar\":{\"outlinewidth\":0,\"ticks\":\"\"},\"colorscale\":[[0.0,\"#0d0887\"],[0.1111111111111111,\"#46039f\"],[0.2222222222222222,\"#7201a8\"],[0.3333333333333333,\"#9c179e\"],[0.4444444444444444,\"#bd3786\"],[0.5555555555555556,\"#d8576b\"],[0.6666666666666666,\"#ed7953\"],[0.7777777777777778,\"#fb9f3a\"],[0.8888888888888888,\"#fdca26\"],[1.0,\"#f0f921\"]]}],\"mesh3d\":[{\"type\":\"mesh3d\",\"colorbar\":{\"outlinewidth\":0,\"ticks\":\"\"}}],\"scatter\":[{\"fillpattern\":{\"fillmode\":\"overlay\",\"size\":10,\"solidity\":0.2},\"type\":\"scatter\"}],\"parcoords\":[{\"type\":\"parcoords\",\"line\":{\"colorbar\":{\"outlinewidth\":0,\"ticks\":\"\"}}}],\"scatterpolargl\":[{\"type\":\"scatterpolargl\",\"marker\":{\"colorbar\":{\"outlinewidth\":0,\"ticks\":\"\"}}}],\"bar\":[{\"error_x\":{\"color\":\"#2a3f5f\"},\"error_y\":{\"color\":\"#2a3f5f\"},\"marker\":{\"line\":{\"color\":\"#E5ECF6\",\"width\":0.5},\"pattern\":{\"fillmode\":\"overlay\",\"size\":10,\"solidity\":0.2}},\"type\":\"bar\"}],\"scattergeo\":[{\"type\":\"scattergeo\",\"marker\":{\"colorbar\":{\"outlinewidth\":0,\"ticks\":\"\"}}}],\"scatterpolar\":[{\"type\":\"scatterpolar\",\"marker\":{\"colorbar\":{\"outlinewidth\":0,\"ticks\":\"\"}}}],\"histogram\":[{\"marker\":{\"pattern\":{\"fillmode\":\"overlay\",\"size\":10,\"solidity\":0.2}},\"type\":\"histogram\"}],\"scattergl\":[{\"type\":\"scattergl\",\"marker\":{\"colorbar\":{\"outlinewidth\":0,\"ticks\":\"\"}}}],\"scatter3d\":[{\"type\":\"scatter3d\",\"line\":{\"colorbar\":{\"outlinewidth\":0,\"ticks\":\"\"}},\"marker\":{\"colorbar\":{\"outlinewidth\":0,\"ticks\":\"\"}}}],\"scattermapbox\":[{\"type\":\"scattermapbox\",\"marker\":{\"colorbar\":{\"outlinewidth\":0,\"ticks\":\"\"}}}],\"scatterternary\":[{\"type\":\"scatterternary\",\"marker\":{\"colorbar\":{\"outlinewidth\":0,\"ticks\":\"\"}}}],\"scattercarpet\":[{\"type\":\"scattercarpet\",\"marker\":{\"colorbar\":{\"outlinewidth\":0,\"ticks\":\"\"}}}],\"carpet\":[{\"aaxis\":{\"endlinecolor\":\"#2a3f5f\",\"gridcolor\":\"white\",\"linecolor\":\"white\",\"minorgridcolor\":\"white\",\"startlinecolor\":\"#2a3f5f\"},\"baxis\":{\"endlinecolor\":\"#2a3f5f\",\"gridcolor\":\"white\",\"linecolor\":\"white\",\"minorgridcolor\":\"white\",\"startlinecolor\":\"#2a3f5f\"},\"type\":\"carpet\"}],\"table\":[{\"cells\":{\"fill\":{\"color\":\"#EBF0F8\"},\"line\":{\"color\":\"white\"}},\"header\":{\"fill\":{\"color\":\"#C8D4E3\"},\"line\":{\"color\":\"white\"}},\"type\":\"table\"}],\"barpolar\":[{\"marker\":{\"line\":{\"color\":\"#E5ECF6\",\"width\":0.5},\"pattern\":{\"fillmode\":\"overlay\",\"size\":10,\"solidity\":0.2}},\"type\":\"barpolar\"}],\"pie\":[{\"automargin\":true,\"type\":\"pie\"}]},\"layout\":{\"autotypenumbers\":\"strict\",\"colorway\":[\"#636efa\",\"#EF553B\",\"#00cc96\",\"#ab63fa\",\"#FFA15A\",\"#19d3f3\",\"#FF6692\",\"#B6E880\",\"#FF97FF\",\"#FECB52\"],\"font\":{\"color\":\"#2a3f5f\"},\"hovermode\":\"closest\",\"hoverlabel\":{\"align\":\"left\"},\"paper_bgcolor\":\"white\",\"plot_bgcolor\":\"#E5ECF6\",\"polar\":{\"bgcolor\":\"#E5ECF6\",\"angularaxis\":{\"gridcolor\":\"white\",\"linecolor\":\"white\",\"ticks\":\"\"},\"radialaxis\":{\"gridcolor\":\"white\",\"linecolor\":\"white\",\"ticks\":\"\"}},\"ternary\":{\"bgcolor\":\"#E5ECF6\",\"aaxis\":{\"gridcolor\":\"white\",\"linecolor\":\"white\",\"ticks\":\"\"},\"baxis\":{\"gridcolor\":\"white\",\"linecolor\":\"white\",\"ticks\":\"\"},\"caxis\":{\"gridcolor\":\"white\",\"linecolor\":\"white\",\"ticks\":\"\"}},\"coloraxis\":{\"colorbar\":{\"outlinewidth\":0,\"ticks\":\"\"}},\"colorscale\":{\"sequential\":[[0.0,\"#0d0887\"],[0.1111111111111111,\"#46039f\"],[0.2222222222222222,\"#7201a8\"],[0.3333333333333333,\"#9c179e\"],[0.4444444444444444,\"#bd3786\"],[0.5555555555555556,\"#d8576b\"],[0.6666666666666666,\"#ed7953\"],[0.7777777777777778,\"#fb9f3a\"],[0.8888888888888888,\"#fdca26\"],[1.0,\"#f0f921\"]],\"sequentialminus\":[[0.0,\"#0d0887\"],[0.1111111111111111,\"#46039f\"],[0.2222222222222222,\"#7201a8\"],[0.3333333333333333,\"#9c179e\"],[0.4444444444444444,\"#bd3786\"],[0.5555555555555556,\"#d8576b\"],[0.6666666666666666,\"#ed7953\"],[0.7777777777777778,\"#fb9f3a\"],[0.8888888888888888,\"#fdca26\"],[1.0,\"#f0f921\"]],\"diverging\":[[0,\"#8e0152\"],[0.1,\"#c51b7d\"],[0.2,\"#de77ae\"],[0.3,\"#f1b6da\"],[0.4,\"#fde0ef\"],[0.5,\"#f7f7f7\"],[0.6,\"#e6f5d0\"],[0.7,\"#b8e186\"],[0.8,\"#7fbc41\"],[0.9,\"#4d9221\"],[1,\"#276419\"]]},\"xaxis\":{\"gridcolor\":\"white\",\"linecolor\":\"white\",\"ticks\":\"\",\"title\":{\"standoff\":15},\"zerolinecolor\":\"white\",\"automargin\":true,\"zerolinewidth\":2},\"yaxis\":{\"gridcolor\":\"white\",\"linecolor\":\"white\",\"ticks\":\"\",\"title\":{\"standoff\":15},\"zerolinecolor\":\"white\",\"automargin\":true,\"zerolinewidth\":2},\"scene\":{\"xaxis\":{\"backgroundcolor\":\"#E5ECF6\",\"gridcolor\":\"white\",\"linecolor\":\"white\",\"showbackground\":true,\"ticks\":\"\",\"zerolinecolor\":\"white\",\"gridwidth\":2},\"yaxis\":{\"backgroundcolor\":\"#E5ECF6\",\"gridcolor\":\"white\",\"linecolor\":\"white\",\"showbackground\":true,\"ticks\":\"\",\"zerolinecolor\":\"white\",\"gridwidth\":2},\"zaxis\":{\"backgroundcolor\":\"#E5ECF6\",\"gridcolor\":\"white\",\"linecolor\":\"white\",\"showbackground\":true,\"ticks\":\"\",\"zerolinecolor\":\"white\",\"gridwidth\":2}},\"shapedefaults\":{\"line\":{\"color\":\"#2a3f5f\"}},\"annotationdefaults\":{\"arrowcolor\":\"#2a3f5f\",\"arrowhead\":0,\"arrowwidth\":1},\"geo\":{\"bgcolor\":\"white\",\"landcolor\":\"#E5ECF6\",\"subunitcolor\":\"white\",\"showland\":true,\"showlakes\":true,\"lakecolor\":\"white\"},\"title\":{\"x\":0.05},\"mapbox\":{\"style\":\"light\"}}},\"xaxis\":{\"anchor\":\"y\",\"domain\":[0.0,1.0],\"title\":{\"text\":\"Ano\"}},\"yaxis\":{\"anchor\":\"x\",\"domain\":[0.0,1.0],\"title\":{\"text\":\"Passageiros\"}},\"legend\":{\"title\":{\"text\":\"variable\"},\"tracegroupgap\":0},\"title\":{\"text\":\"Estat\\u00edsticas de transporte a\\u00e9reo da TAM\",\"y\":0.95,\"x\":0.5,\"xanchor\":\"center\",\"yanchor\":\"top\"},\"barmode\":\"group\"},                        {\"responsive\": true}                    ).then(function(){\n",
       "                            \n",
       "var gd = document.getElementById('5c40aba3-3844-49dc-b275-602f2035ac6f');\n",
       "var x = new MutationObserver(function (mutations, observer) {{\n",
       "        var display = window.getComputedStyle(gd).display;\n",
       "        if (!display || display === 'none') {{\n",
       "            console.log([gd, 'removed!']);\n",
       "            Plotly.purge(gd);\n",
       "            observer.disconnect();\n",
       "        }}\n",
       "}});\n",
       "\n",
       "// Listen for the removal of the full notebook cells\n",
       "var notebookContainer = gd.closest('#notebook-container');\n",
       "if (notebookContainer) {{\n",
       "    x.observe(notebookContainer, {childList: true});\n",
       "}}\n",
       "\n",
       "// Listen for the clearing of the current output cell\n",
       "var outputEl = gd.closest('.output');\n",
       "if (outputEl) {{\n",
       "    x.observe(outputEl, {childList: true});\n",
       "}}\n",
       "\n",
       "                        })                };                });            </script>        </div>"
      ]
     },
     "metadata": {},
     "output_type": "display_data"
    },
    {
     "name": "stdout",
     "output_type": "stream",
     "text": [
      "Assentos-quilômetro oferecidos (ASK) :\n",
      "        Número de assentos disponíveis multiplicado pelos quilômetros voados.\n",
      "\n",
      " Passageiros-quilômetro transportados (RPK) :\n",
      "        Passageiros pagantes transportados em um quilômetro. O RPK é calculado ao multiplicar-se o número de \n",
      "        passageiros pagantes pelos quilômetros voados.\n"
     ]
    },
    {
     "data": {
      "text/html": [
       "<div>\n",
       "<style scoped>\n",
       "    .dataframe tbody tr th:only-of-type {\n",
       "        vertical-align: middle;\n",
       "    }\n",
       "\n",
       "    .dataframe tbody tr th {\n",
       "        vertical-align: top;\n",
       "    }\n",
       "\n",
       "    .dataframe thead th {\n",
       "        text-align: right;\n",
       "    }\n",
       "</style>\n",
       "<table border=\"1\" class=\"dataframe\">\n",
       "  <thead>\n",
       "    <tr style=\"text-align: right;\">\n",
       "      <th></th>\n",
       "      <th>2022</th>\n",
       "      <th>2021</th>\n",
       "      <th>% Var</th>\n",
       "    </tr>\n",
       "    <tr>\n",
       "      <th>Dados de Tráfego - TAM (em Milhões)</th>\n",
       "      <th></th>\n",
       "      <th></th>\n",
       "      <th></th>\n",
       "    </tr>\n",
       "  </thead>\n",
       "  <tbody>\n",
       "    <tr>\n",
       "      <th>RPK - Total</th>\n",
       "      <td>48948.742</td>\n",
       "      <td>27763.543</td>\n",
       "      <td>76.305819</td>\n",
       "    </tr>\n",
       "    <tr>\n",
       "      <th>RPK - Mercado Doméstico</th>\n",
       "      <td>32646.001</td>\n",
       "      <td>23544.108</td>\n",
       "      <td>38.658899</td>\n",
       "    </tr>\n",
       "    <tr>\n",
       "      <th>RPK - Mercado Internacional</th>\n",
       "      <td>16302.741</td>\n",
       "      <td>4219.436</td>\n",
       "      <td>286.372515</td>\n",
       "    </tr>\n",
       "    <tr>\n",
       "      <th>ASK - Total</th>\n",
       "      <td>60289.258</td>\n",
       "      <td>36054.608</td>\n",
       "      <td>67.216512</td>\n",
       "    </tr>\n",
       "    <tr>\n",
       "      <th>ASK - Mercado Doméstico</th>\n",
       "      <td>40916.262</td>\n",
       "      <td>29326.867</td>\n",
       "      <td>39.518013</td>\n",
       "    </tr>\n",
       "    <tr>\n",
       "      <th>ASK - Mercado Internacional</th>\n",
       "      <td>19372.996</td>\n",
       "      <td>6727.741</td>\n",
       "      <td>187.956923</td>\n",
       "    </tr>\n",
       "    <tr>\n",
       "      <th>Taxa de Ocupação - Total (%)</th>\n",
       "      <td>77.300</td>\n",
       "      <td>78.700</td>\n",
       "      <td>-1.778907</td>\n",
       "    </tr>\n",
       "    <tr>\n",
       "      <th>Taxa de Ocupação - Mercado Doméstico (%)</th>\n",
       "      <td>77.000</td>\n",
       "      <td>79.400</td>\n",
       "      <td>-3.022670</td>\n",
       "    </tr>\n",
       "    <tr>\n",
       "      <th>Taxa de Ocupação - Mercado Internacional (%)</th>\n",
       "      <td>81.600</td>\n",
       "      <td>62.900</td>\n",
       "      <td>29.729730</td>\n",
       "    </tr>\n",
       "  </tbody>\n",
       "</table>\n",
       "</div>"
      ],
      "text/plain": [
       "                                                   2022       2021       % Var\n",
       "Dados de Tráfego - TAM (em Milhões)                                           \n",
       "RPK - Total                                   48948.742  27763.543   76.305819\n",
       "RPK - Mercado Doméstico                       32646.001  23544.108   38.658899\n",
       "RPK - Mercado Internacional                   16302.741   4219.436  286.372515\n",
       "ASK - Total                                   60289.258  36054.608   67.216512\n",
       "ASK - Mercado Doméstico                       40916.262  29326.867   39.518013\n",
       "ASK - Mercado Internacional                   19372.996   6727.741  187.956923\n",
       "Taxa de Ocupação - Total (%)                     77.300     78.700   -1.778907\n",
       "Taxa de Ocupação - Mercado Doméstico (%)         77.000     79.400   -3.022670\n",
       "Taxa de Ocupação - Mercado Internacional (%)     81.600     62.900   29.729730"
      ]
     },
     "metadata": {},
     "output_type": "display_data"
    },
    {
     "data": {
      "text/html": [
       "<div>\n",
       "<style scoped>\n",
       "    .dataframe tbody tr th:only-of-type {\n",
       "        vertical-align: middle;\n",
       "    }\n",
       "\n",
       "    .dataframe tbody tr th {\n",
       "        vertical-align: top;\n",
       "    }\n",
       "\n",
       "    .dataframe thead th {\n",
       "        text-align: right;\n",
       "    }\n",
       "</style>\n",
       "<table border=\"1\" class=\"dataframe\">\n",
       "  <thead>\n",
       "    <tr style=\"text-align: right;\">\n",
       "      <th></th>\n",
       "      <th>2022</th>\n",
       "      <th>2021</th>\n",
       "      <th>% Var</th>\n",
       "    </tr>\n",
       "    <tr>\n",
       "      <th>Dados Operacionais</th>\n",
       "      <th></th>\n",
       "      <th></th>\n",
       "      <th></th>\n",
       "    </tr>\n",
       "  </thead>\n",
       "  <tbody>\n",
       "    <tr>\n",
       "      <th>Passageiros Pagantes ('000)</th>\n",
       "      <td>31.144</td>\n",
       "      <td>20.572</td>\n",
       "      <td>51.390239</td>\n",
       "    </tr>\n",
       "    <tr>\n",
       "      <th>Passageiros Pagantes Doméstica ('000)</th>\n",
       "      <td>28.664</td>\n",
       "      <td>19.907</td>\n",
       "      <td>43.989551</td>\n",
       "    </tr>\n",
       "    <tr>\n",
       "      <th>Passageiros Pagantes Internacional ('000)</th>\n",
       "      <td>2.481</td>\n",
       "      <td>0.664</td>\n",
       "      <td>273.644578</td>\n",
       "    </tr>\n",
       "    <tr>\n",
       "      <th>Total Assentos Disponibilizados ('000)</th>\n",
       "      <td>40.287</td>\n",
       "      <td>26.141</td>\n",
       "      <td>54.114227</td>\n",
       "    </tr>\n",
       "    <tr>\n",
       "      <th>Total Assentos Disponibilizados Doméstica ('000)</th>\n",
       "      <td>37.246</td>\n",
       "      <td>25.085</td>\n",
       "      <td>48.479171</td>\n",
       "    </tr>\n",
       "    <tr>\n",
       "      <th>Total Assentos Disponibilizados Internacional ('000)</th>\n",
       "      <td>3.041</td>\n",
       "      <td>1.055</td>\n",
       "      <td>188.246445</td>\n",
       "    </tr>\n",
       "    <tr>\n",
       "      <th>Decolagens</th>\n",
       "      <td>222.814</td>\n",
       "      <td>148.584</td>\n",
       "      <td>49.958273</td>\n",
       "    </tr>\n",
       "    <tr>\n",
       "      <th>Etapa Média de Voo (km)</th>\n",
       "      <td>1.287</td>\n",
       "      <td>1.276</td>\n",
       "      <td>0.862069</td>\n",
       "    </tr>\n",
       "    <tr>\n",
       "      <th>Combustível de aviação (milhares litros)</th>\n",
       "      <td>1764837.000</td>\n",
       "      <td>1092478.000</td>\n",
       "      <td>61.544397</td>\n",
       "    </tr>\n",
       "  </tbody>\n",
       "</table>\n",
       "</div>"
      ],
      "text/plain": [
       "                                                           2022         2021  \\\n",
       "Dados Operacionais                                                             \n",
       "Passageiros Pagantes ('000)                              31.144       20.572   \n",
       "Passageiros Pagantes Doméstica ('000)                    28.664       19.907   \n",
       "Passageiros Pagantes Internacional ('000)                 2.481        0.664   \n",
       "Total Assentos Disponibilizados ('000)                   40.287       26.141   \n",
       "Total Assentos Disponibilizados Doméstica ('000)         37.246       25.085   \n",
       "Total Assentos Disponibilizados Internacional (...        3.041        1.055   \n",
       "Decolagens                                              222.814      148.584   \n",
       "Etapa Média de Voo (km)                                   1.287        1.276   \n",
       "Combustível de aviação (milhares litros)            1764837.000  1092478.000   \n",
       "\n",
       "                                                         % Var  \n",
       "Dados Operacionais                                              \n",
       "Passageiros Pagantes ('000)                          51.390239  \n",
       "Passageiros Pagantes Doméstica ('000)                43.989551  \n",
       "Passageiros Pagantes Internacional ('000)           273.644578  \n",
       "Total Assentos Disponibilizados ('000)               54.114227  \n",
       "Total Assentos Disponibilizados Doméstica ('000)     48.479171  \n",
       "Total Assentos Disponibilizados Internacional (...  188.246445  \n",
       "Decolagens                                           49.958273  \n",
       "Etapa Média de Voo (km)                               0.862069  \n",
       "Combustível de aviação (milhares litros)             61.544397  "
      ]
     },
     "execution_count": 217,
     "metadata": {},
     "output_type": "execute_result"
    }
   ],
   "source": [
    "df_TAM = extract_airline_data('TAM', 'TAM')\n",
    "plot_graf(df_TAM, 'TAM')\n",
    "display(ind_trafego(df_TAM,2022,'TAM'))\n",
    "ind_operacional(df_TAM,2022,'TAM')"
   ]
  }
 ],
 "metadata": {
  "kernelspec": {
   "display_name": "Python 3 (ipykernel)",
   "language": "python",
   "name": "python3"
  },
  "language_info": {
   "codemirror_mode": {
    "name": "ipython",
    "version": 3
   },
   "file_extension": ".py",
   "mimetype": "text/x-python",
   "name": "python",
   "nbconvert_exporter": "python",
   "pygments_lexer": "ipython3",
   "version": "3.9.13"
  }
 },
 "nbformat": 4,
 "nbformat_minor": 5
}
