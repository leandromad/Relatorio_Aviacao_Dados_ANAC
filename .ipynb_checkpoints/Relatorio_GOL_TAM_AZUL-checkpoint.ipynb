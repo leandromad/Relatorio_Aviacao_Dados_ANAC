{
 "cells": [
  {
   "cell_type": "code",
   "execution_count": 322,
   "id": "7bc40ed0",
   "metadata": {},
   "outputs": [],
   "source": [
    "import pandas as pd\n",
    "import plotly.express as px"
   ]
  },
  {
   "cell_type": "code",
   "execution_count": 323,
   "id": "cdb38e80",
   "metadata": {},
   "outputs": [
    {
     "data": {
      "text/plain": [
       "EMPRESA (SIGLA)       object\n",
       "MÊS                    int64\n",
       "NATUREZA              object\n",
       "PASSAGEIROS PAGOS    float64\n",
       "ASSENTOS             float64\n",
       "dtype: object"
      ]
     },
     "execution_count": 323,
     "metadata": {},
     "output_type": "execute_result"
    }
   ],
   "source": [
    "\n",
    "df = pd.read_csv('resumo_anual_2018.csv',sep = ';', encoding = 'ISO-8859-1')\n",
    "df.columns\n",
    "df = df[['EMPRESA (SIGLA)','MÊS','NATUREZA','PASSAGEIROS PAGOS','ASSENTOS']]\n",
    "df_GOLL = df[df['EMPRESA (SIGLA)'] == 'GLO'] \n",
    "df_GOLL = df_GOLL.dropna()\n",
    "df_GOLL.dtypes"
   ]
  },
  {
   "cell_type": "code",
   "execution_count": 324,
   "id": "bd299453",
   "metadata": {},
   "outputs": [
    {
     "data": {
      "text/plain": [
       "array(['INTERNACIONAL', 'DOMÉSTICA'], dtype=object)"
      ]
     },
     "execution_count": 324,
     "metadata": {},
     "output_type": "execute_result"
    }
   ],
   "source": [
    "df_GOLL['NATUREZA'].unique()"
   ]
  },
  {
   "cell_type": "code",
   "execution_count": 325,
   "id": "54258aae",
   "metadata": {},
   "outputs": [
    {
     "data": {
      "text/plain": [
       "43003131"
      ]
     },
     "execution_count": 325,
     "metadata": {},
     "output_type": "execute_result"
    }
   ],
   "source": [
    "assentos_totais = int(df_GOLL['ASSENTOS'].sum())\n",
    "assentos_totais"
   ]
  },
  {
   "cell_type": "code",
   "execution_count": 326,
   "id": "566d1630",
   "metadata": {},
   "outputs": [
    {
     "data": {
      "text/plain": [
       "33253771"
      ]
     },
     "execution_count": 326,
     "metadata": {},
     "output_type": "execute_result"
    }
   ],
   "source": [
    "passageiros_pgs = int(df_GOLL['PASSAGEIROS PAGOS'].sum())\n",
    "passageiros_pgs"
   ]
  },
  {
   "cell_type": "code",
   "execution_count": 327,
   "id": "a3f06c87",
   "metadata": {},
   "outputs": [
    {
     "data": {
      "text/plain": [
       "31419184"
      ]
     },
     "execution_count": 327,
     "metadata": {},
     "output_type": "execute_result"
    }
   ],
   "source": [
    "domestica = df_GOLL[df_GOLL['NATUREZA'] == 'DOMÉSTICA']\n",
    "passageiros_pgs_domestica = int(domestica['PASSAGEIROS PAGOS'].sum())\n",
    "passageiros_pgs_domestica"
   ]
  },
  {
   "cell_type": "code",
   "execution_count": 328,
   "id": "fe122abd",
   "metadata": {},
   "outputs": [
    {
     "name": "stdout",
     "output_type": "stream",
     "text": [
      "9071801\n",
      "22.404495716762632\n"
     ]
    }
   ],
   "source": [
    "assentos_domestica = int(domestica['ASSENTOS'].sum())\n",
    "assentos_domestica_desocupados = assentos_domestica - passageiros_pgs_domestica\n",
    "print(assentos_domestica_desocupados)\n",
    "vacancia_domestica = (assentos_domestica_desocupados / assentos_domestica) * 100\n",
    "print(vacancia_domestica)"
   ]
  },
  {
   "cell_type": "code",
   "execution_count": 329,
   "id": "8ac6cbed",
   "metadata": {},
   "outputs": [
    {
     "data": {
      "text/plain": [
       "1834587"
      ]
     },
     "execution_count": 329,
     "metadata": {},
     "output_type": "execute_result"
    }
   ],
   "source": [
    "internacional = df_GOLL[df_GOLL['NATUREZA'] == 'INTERNACIONAL']\n",
    "passageiros_pgs_internacional = int(internacional['PASSAGEIROS PAGOS'].sum())\n",
    "passageiros_pgs_internacional"
   ]
  },
  {
   "cell_type": "code",
   "execution_count": 330,
   "id": "f3a4a1d7",
   "metadata": {},
   "outputs": [
    {
     "name": "stdout",
     "output_type": "stream",
     "text": [
      "677559\n",
      "26.971322526636587\n"
     ]
    }
   ],
   "source": [
    "assentos_internacional = int(internacional['ASSENTOS'].sum())\n",
    "assentos_internacional_desocupados = assentos_internacional - passageiros_pgs_internacional\n",
    "print(assentos_internacional_desocupados)\n",
    "vacancia_internacional = (assentos_internacional_desocupados / assentos_internacional) * 100\n",
    "print(vacancia_internacional)"
   ]
  },
  {
   "cell_type": "code",
   "execution_count": 331,
   "id": "9aaf86d5",
   "metadata": {},
   "outputs": [
    {
     "name": "stderr",
     "output_type": "stream",
     "text": [
      "C:\\Users\\Pichau\\AppData\\Local\\Temp\\ipykernel_26620\\553212503.py:5: DtypeWarning:\n",
      "\n",
      "Columns (24,25,29) have mixed types. Specify dtype option on import or set low_memory=False.\n",
      "\n"
     ]
    }
   ],
   "source": [
    "dict_goll = {}\n",
    "for i in range(2010,2023):\n",
    "    dict_goll[i] = {}\n",
    "    file_name = f'resumo_anual_{i}.csv'\n",
    "    df = pd.read_csv(file_name,sep = ';', encoding = 'ISO-8859-1')\n",
    "    df = df[['EMPRESA (SIGLA)','MÊS','NATUREZA','PASSAGEIROS PAGOS','ASSENTOS']]\n",
    "    df_GOLL = df[df['EMPRESA (SIGLA)'] == 'GLO'] \n",
    "    df_GOLL = df_GOLL.dropna()\n",
    "    \n",
    "    # Assentos Totais\n",
    "    assentos_totais = int(df_GOLL['ASSENTOS'].sum())\n",
    "    dict_goll[i]['assentos_totais'] = int(assentos_totais)\n",
    "    \n",
    "    # Passageiros Pagos\n",
    "    passageiros_pgs = int(df_GOLL['PASSAGEIROS PAGOS'].sum())\n",
    "    dict_goll[i]['passageiros_pgs'] = int(passageiros_pgs)\n",
    "    \n",
    "    \n",
    "    # Passageiros Totais Doméstica\n",
    "    domestica = df_GOLL[df_GOLL['NATUREZA'] == 'DOMÉSTICA']\n",
    "    assentos_domestica = int(domestica['ASSENTOS'].sum())\n",
    "    dict_goll[i]['assentos_domestica'] = int(assentos_domestica)\n",
    "    \n",
    "    # Passageiros Pagos Doméstica\n",
    "    passageiros_pgs_domestica = int(domestica['PASSAGEIROS PAGOS'].sum())\n",
    "    dict_goll[i]['passageiros_pgs_domestica'] = int(passageiros_pgs_domestica)\n",
    "    \n",
    "    # Assentos domestica desocupados\n",
    "    assentos_domestica_desocupados = assentos_domestica - passageiros_pgs_domestica\n",
    "    \n",
    "    # Vacancia domestica\n",
    "    vacancia_domestica = (assentos_domestica_desocupados / assentos_domestica) * 100\n",
    "    dict_goll[i]['vacancia_domestica'] = vacancia_domestica\n",
    "    \n",
    "     # Passageiros Totais Internacional\n",
    "    internacional = df_GOLL[df_GOLL['NATUREZA'] == 'INTERNACIONAL']\n",
    "    assentos_internacional  = int(internacional ['ASSENTOS'].sum())\n",
    "    dict_goll[i]['assentos_internacional '] = int(assentos_internacional)\n",
    "    \n",
    "    # Passageiros Pagos Internacional\n",
    "    passageiros_pgs_internacional  = int(internacional ['PASSAGEIROS PAGOS'].sum())\n",
    "    dict_goll[i]['passageiros_pgs_internacional '] = int(passageiros_pgs_internacional )\n",
    "    \n",
    "    # Assentos Desocupados Internacional\n",
    "    assentos_domestica_internacional  = assentos_internacional  - passageiros_pgs_internacional \n",
    "    \n",
    "    # Vacancia Internacional\n",
    "    vacancia_internacional  = (assentos_internacional_desocupados / assentos_internacional ) * 100\n",
    "    dict_goll[i]['vacancia_internacional '] = vacancia_internacional \n",
    "    \n"
   ]
  },
  {
   "cell_type": "code",
   "execution_count": 332,
   "id": "366fa4b3",
   "metadata": {},
   "outputs": [
    {
     "data": {
      "text/html": [
       "<div>\n",
       "<style scoped>\n",
       "    .dataframe tbody tr th:only-of-type {\n",
       "        vertical-align: middle;\n",
       "    }\n",
       "\n",
       "    .dataframe tbody tr th {\n",
       "        vertical-align: top;\n",
       "    }\n",
       "\n",
       "    .dataframe thead th {\n",
       "        text-align: right;\n",
       "    }\n",
       "</style>\n",
       "<table border=\"1\" class=\"dataframe\">\n",
       "  <thead>\n",
       "    <tr style=\"text-align: right;\">\n",
       "      <th></th>\n",
       "      <th>assentos_totais</th>\n",
       "      <th>passageiros_pgs</th>\n",
       "      <th>assentos_domestica</th>\n",
       "      <th>passageiros_pgs_domestica</th>\n",
       "      <th>vacancia_domestica</th>\n",
       "      <th>assentos_internacional</th>\n",
       "      <th>passageiros_pgs_internacional</th>\n",
       "      <th>vacancia_internacional</th>\n",
       "    </tr>\n",
       "  </thead>\n",
       "  <tbody>\n",
       "    <tr>\n",
       "      <th>2010</th>\n",
       "      <td>49281882.0</td>\n",
       "      <td>27945339.0</td>\n",
       "      <td>46602796.0</td>\n",
       "      <td>26580359.0</td>\n",
       "      <td>42.964025</td>\n",
       "      <td>2679086.0</td>\n",
       "      <td>1364980.0</td>\n",
       "      <td>25.290677</td>\n",
       "    </tr>\n",
       "    <tr>\n",
       "      <th>2011</th>\n",
       "      <td>52784362.0</td>\n",
       "      <td>31065385.0</td>\n",
       "      <td>50172167.0</td>\n",
       "      <td>29823733.0</td>\n",
       "      <td>40.557216</td>\n",
       "      <td>2612195.0</td>\n",
       "      <td>1241652.0</td>\n",
       "      <td>25.938301</td>\n",
       "    </tr>\n",
       "    <tr>\n",
       "      <th>2012</th>\n",
       "      <td>51628338.0</td>\n",
       "      <td>30946996.0</td>\n",
       "      <td>48980818.0</td>\n",
       "      <td>29661986.0</td>\n",
       "      <td>39.441628</td>\n",
       "      <td>2647520.0</td>\n",
       "      <td>1285010.0</td>\n",
       "      <td>25.592215</td>\n",
       "    </tr>\n",
       "    <tr>\n",
       "      <th>2013</th>\n",
       "      <td>54618916.0</td>\n",
       "      <td>33144263.0</td>\n",
       "      <td>51768378.0</td>\n",
       "      <td>31680004.0</td>\n",
       "      <td>38.804333</td>\n",
       "      <td>2850538.0</td>\n",
       "      <td>1464259.0</td>\n",
       "      <td>23.769513</td>\n",
       "    </tr>\n",
       "    <tr>\n",
       "      <th>2014</th>\n",
       "      <td>53480784.0</td>\n",
       "      <td>36461226.0</td>\n",
       "      <td>50510989.0</td>\n",
       "      <td>34669981.0</td>\n",
       "      <td>31.361508</td>\n",
       "      <td>2969795.0</td>\n",
       "      <td>1791245.0</td>\n",
       "      <td>22.815009</td>\n",
       "    </tr>\n",
       "    <tr>\n",
       "      <th>2015</th>\n",
       "      <td>52432303.0</td>\n",
       "      <td>36050794.0</td>\n",
       "      <td>49489674.0</td>\n",
       "      <td>34162320.0</td>\n",
       "      <td>30.970812</td>\n",
       "      <td>2942629.0</td>\n",
       "      <td>1888474.0</td>\n",
       "      <td>23.025635</td>\n",
       "    </tr>\n",
       "    <tr>\n",
       "      <th>2016</th>\n",
       "      <td>43561838.0</td>\n",
       "      <td>31846286.0</td>\n",
       "      <td>40998605.0</td>\n",
       "      <td>29985494.0</td>\n",
       "      <td>26.862160</td>\n",
       "      <td>2563233.0</td>\n",
       "      <td>1860792.0</td>\n",
       "      <td>26.433765</td>\n",
       "    </tr>\n",
       "    <tr>\n",
       "      <th>2017</th>\n",
       "      <td>41862267.0</td>\n",
       "      <td>32099327.0</td>\n",
       "      <td>39369963.0</td>\n",
       "      <td>30223330.0</td>\n",
       "      <td>23.232516</td>\n",
       "      <td>2492304.0</td>\n",
       "      <td>1875997.0</td>\n",
       "      <td>27.186050</td>\n",
       "    </tr>\n",
       "    <tr>\n",
       "      <th>2018</th>\n",
       "      <td>43003131.0</td>\n",
       "      <td>33253771.0</td>\n",
       "      <td>40490985.0</td>\n",
       "      <td>31419184.0</td>\n",
       "      <td>22.404496</td>\n",
       "      <td>2512146.0</td>\n",
       "      <td>1834587.0</td>\n",
       "      <td>26.971323</td>\n",
       "    </tr>\n",
       "    <tr>\n",
       "      <th>2019</th>\n",
       "      <td>45829320.0</td>\n",
       "      <td>36037764.0</td>\n",
       "      <td>42893680.0</td>\n",
       "      <td>34104893.0</td>\n",
       "      <td>20.489702</td>\n",
       "      <td>2935640.0</td>\n",
       "      <td>1932871.0</td>\n",
       "      <td>23.080453</td>\n",
       "    </tr>\n",
       "    <tr>\n",
       "      <th>2020</th>\n",
       "      <td>21554418.0</td>\n",
       "      <td>16612412.0</td>\n",
       "      <td>20819631.0</td>\n",
       "      <td>16165800.0</td>\n",
       "      <td>22.353091</td>\n",
       "      <td>734787.0</td>\n",
       "      <td>446612.0</td>\n",
       "      <td>92.211621</td>\n",
       "    </tr>\n",
       "    <tr>\n",
       "      <th>2021</th>\n",
       "      <td>23559049.0</td>\n",
       "      <td>18812824.0</td>\n",
       "      <td>23499568.0</td>\n",
       "      <td>18772296.0</td>\n",
       "      <td>20.116421</td>\n",
       "      <td>59481.0</td>\n",
       "      <td>40528.0</td>\n",
       "      <td>1139.118374</td>\n",
       "    </tr>\n",
       "    <tr>\n",
       "      <th>2022</th>\n",
       "      <td>35254246.0</td>\n",
       "      <td>27212533.0</td>\n",
       "      <td>34100148.0</td>\n",
       "      <td>26300015.0</td>\n",
       "      <td>22.874191</td>\n",
       "      <td>1154098.0</td>\n",
       "      <td>912518.0</td>\n",
       "      <td>58.708966</td>\n",
       "    </tr>\n",
       "  </tbody>\n",
       "</table>\n",
       "</div>"
      ],
      "text/plain": [
       "      assentos_totais  passageiros_pgs  assentos_domestica  \\\n",
       "2010       49281882.0       27945339.0          46602796.0   \n",
       "2011       52784362.0       31065385.0          50172167.0   \n",
       "2012       51628338.0       30946996.0          48980818.0   \n",
       "2013       54618916.0       33144263.0          51768378.0   \n",
       "2014       53480784.0       36461226.0          50510989.0   \n",
       "2015       52432303.0       36050794.0          49489674.0   \n",
       "2016       43561838.0       31846286.0          40998605.0   \n",
       "2017       41862267.0       32099327.0          39369963.0   \n",
       "2018       43003131.0       33253771.0          40490985.0   \n",
       "2019       45829320.0       36037764.0          42893680.0   \n",
       "2020       21554418.0       16612412.0          20819631.0   \n",
       "2021       23559049.0       18812824.0          23499568.0   \n",
       "2022       35254246.0       27212533.0          34100148.0   \n",
       "\n",
       "      passageiros_pgs_domestica  vacancia_domestica  assentos_internacional   \\\n",
       "2010                 26580359.0           42.964025                2679086.0   \n",
       "2011                 29823733.0           40.557216                2612195.0   \n",
       "2012                 29661986.0           39.441628                2647520.0   \n",
       "2013                 31680004.0           38.804333                2850538.0   \n",
       "2014                 34669981.0           31.361508                2969795.0   \n",
       "2015                 34162320.0           30.970812                2942629.0   \n",
       "2016                 29985494.0           26.862160                2563233.0   \n",
       "2017                 30223330.0           23.232516                2492304.0   \n",
       "2018                 31419184.0           22.404496                2512146.0   \n",
       "2019                 34104893.0           20.489702                2935640.0   \n",
       "2020                 16165800.0           22.353091                 734787.0   \n",
       "2021                 18772296.0           20.116421                  59481.0   \n",
       "2022                 26300015.0           22.874191                1154098.0   \n",
       "\n",
       "      passageiros_pgs_internacional   vacancia_internacional   \n",
       "2010                       1364980.0                25.290677  \n",
       "2011                       1241652.0                25.938301  \n",
       "2012                       1285010.0                25.592215  \n",
       "2013                       1464259.0                23.769513  \n",
       "2014                       1791245.0                22.815009  \n",
       "2015                       1888474.0                23.025635  \n",
       "2016                       1860792.0                26.433765  \n",
       "2017                       1875997.0                27.186050  \n",
       "2018                       1834587.0                26.971323  \n",
       "2019                       1932871.0                23.080453  \n",
       "2020                        446612.0                92.211621  \n",
       "2021                         40528.0              1139.118374  \n",
       "2022                        912518.0                58.708966  "
      ]
     },
     "execution_count": 332,
     "metadata": {},
     "output_type": "execute_result"
    }
   ],
   "source": [
    "df_goll = pd.DataFrame(dict_goll)\n",
    "df_goll = df_goll.T\n",
    "df_goll"
   ]
  },
  {
   "cell_type": "code",
   "execution_count": 333,
   "id": "d63ae047",
   "metadata": {},
   "outputs": [
    {
     "data": {
      "text/html": [
       "<div>\n",
       "<style scoped>\n",
       "    .dataframe tbody tr th:only-of-type {\n",
       "        vertical-align: middle;\n",
       "    }\n",
       "\n",
       "    .dataframe tbody tr th {\n",
       "        vertical-align: top;\n",
       "    }\n",
       "\n",
       "    .dataframe thead th {\n",
       "        text-align: right;\n",
       "    }\n",
       "</style>\n",
       "<table border=\"1\" class=\"dataframe\">\n",
       "  <thead>\n",
       "    <tr style=\"text-align: right;\">\n",
       "      <th></th>\n",
       "      <th>index</th>\n",
       "      <th>assentos_totais</th>\n",
       "      <th>passageiros_pgs</th>\n",
       "      <th>assentos_domestica</th>\n",
       "      <th>passageiros_pgs_domestica</th>\n",
       "      <th>assentos_internacional</th>\n",
       "      <th>passageiros_pgs_internacional</th>\n",
       "    </tr>\n",
       "  </thead>\n",
       "  <tbody>\n",
       "    <tr>\n",
       "      <th>0</th>\n",
       "      <td>2010</td>\n",
       "      <td>49281882.0</td>\n",
       "      <td>27945339.0</td>\n",
       "      <td>46602796.0</td>\n",
       "      <td>26580359.0</td>\n",
       "      <td>2679086.0</td>\n",
       "      <td>1364980.0</td>\n",
       "    </tr>\n",
       "    <tr>\n",
       "      <th>1</th>\n",
       "      <td>2011</td>\n",
       "      <td>52784362.0</td>\n",
       "      <td>31065385.0</td>\n",
       "      <td>50172167.0</td>\n",
       "      <td>29823733.0</td>\n",
       "      <td>2612195.0</td>\n",
       "      <td>1241652.0</td>\n",
       "    </tr>\n",
       "    <tr>\n",
       "      <th>2</th>\n",
       "      <td>2012</td>\n",
       "      <td>51628338.0</td>\n",
       "      <td>30946996.0</td>\n",
       "      <td>48980818.0</td>\n",
       "      <td>29661986.0</td>\n",
       "      <td>2647520.0</td>\n",
       "      <td>1285010.0</td>\n",
       "    </tr>\n",
       "    <tr>\n",
       "      <th>3</th>\n",
       "      <td>2013</td>\n",
       "      <td>54618916.0</td>\n",
       "      <td>33144263.0</td>\n",
       "      <td>51768378.0</td>\n",
       "      <td>31680004.0</td>\n",
       "      <td>2850538.0</td>\n",
       "      <td>1464259.0</td>\n",
       "    </tr>\n",
       "    <tr>\n",
       "      <th>4</th>\n",
       "      <td>2014</td>\n",
       "      <td>53480784.0</td>\n",
       "      <td>36461226.0</td>\n",
       "      <td>50510989.0</td>\n",
       "      <td>34669981.0</td>\n",
       "      <td>2969795.0</td>\n",
       "      <td>1791245.0</td>\n",
       "    </tr>\n",
       "    <tr>\n",
       "      <th>5</th>\n",
       "      <td>2015</td>\n",
       "      <td>52432303.0</td>\n",
       "      <td>36050794.0</td>\n",
       "      <td>49489674.0</td>\n",
       "      <td>34162320.0</td>\n",
       "      <td>2942629.0</td>\n",
       "      <td>1888474.0</td>\n",
       "    </tr>\n",
       "    <tr>\n",
       "      <th>6</th>\n",
       "      <td>2016</td>\n",
       "      <td>43561838.0</td>\n",
       "      <td>31846286.0</td>\n",
       "      <td>40998605.0</td>\n",
       "      <td>29985494.0</td>\n",
       "      <td>2563233.0</td>\n",
       "      <td>1860792.0</td>\n",
       "    </tr>\n",
       "    <tr>\n",
       "      <th>7</th>\n",
       "      <td>2017</td>\n",
       "      <td>41862267.0</td>\n",
       "      <td>32099327.0</td>\n",
       "      <td>39369963.0</td>\n",
       "      <td>30223330.0</td>\n",
       "      <td>2492304.0</td>\n",
       "      <td>1875997.0</td>\n",
       "    </tr>\n",
       "    <tr>\n",
       "      <th>8</th>\n",
       "      <td>2018</td>\n",
       "      <td>43003131.0</td>\n",
       "      <td>33253771.0</td>\n",
       "      <td>40490985.0</td>\n",
       "      <td>31419184.0</td>\n",
       "      <td>2512146.0</td>\n",
       "      <td>1834587.0</td>\n",
       "    </tr>\n",
       "    <tr>\n",
       "      <th>9</th>\n",
       "      <td>2019</td>\n",
       "      <td>45829320.0</td>\n",
       "      <td>36037764.0</td>\n",
       "      <td>42893680.0</td>\n",
       "      <td>34104893.0</td>\n",
       "      <td>2935640.0</td>\n",
       "      <td>1932871.0</td>\n",
       "    </tr>\n",
       "    <tr>\n",
       "      <th>10</th>\n",
       "      <td>2020</td>\n",
       "      <td>21554418.0</td>\n",
       "      <td>16612412.0</td>\n",
       "      <td>20819631.0</td>\n",
       "      <td>16165800.0</td>\n",
       "      <td>734787.0</td>\n",
       "      <td>446612.0</td>\n",
       "    </tr>\n",
       "    <tr>\n",
       "      <th>11</th>\n",
       "      <td>2021</td>\n",
       "      <td>23559049.0</td>\n",
       "      <td>18812824.0</td>\n",
       "      <td>23499568.0</td>\n",
       "      <td>18772296.0</td>\n",
       "      <td>59481.0</td>\n",
       "      <td>40528.0</td>\n",
       "    </tr>\n",
       "    <tr>\n",
       "      <th>12</th>\n",
       "      <td>2022</td>\n",
       "      <td>35254246.0</td>\n",
       "      <td>27212533.0</td>\n",
       "      <td>34100148.0</td>\n",
       "      <td>26300015.0</td>\n",
       "      <td>1154098.0</td>\n",
       "      <td>912518.0</td>\n",
       "    </tr>\n",
       "  </tbody>\n",
       "</table>\n",
       "</div>"
      ],
      "text/plain": [
       "    index  assentos_totais  passageiros_pgs  assentos_domestica  \\\n",
       "0    2010       49281882.0       27945339.0          46602796.0   \n",
       "1    2011       52784362.0       31065385.0          50172167.0   \n",
       "2    2012       51628338.0       30946996.0          48980818.0   \n",
       "3    2013       54618916.0       33144263.0          51768378.0   \n",
       "4    2014       53480784.0       36461226.0          50510989.0   \n",
       "5    2015       52432303.0       36050794.0          49489674.0   \n",
       "6    2016       43561838.0       31846286.0          40998605.0   \n",
       "7    2017       41862267.0       32099327.0          39369963.0   \n",
       "8    2018       43003131.0       33253771.0          40490985.0   \n",
       "9    2019       45829320.0       36037764.0          42893680.0   \n",
       "10   2020       21554418.0       16612412.0          20819631.0   \n",
       "11   2021       23559049.0       18812824.0          23499568.0   \n",
       "12   2022       35254246.0       27212533.0          34100148.0   \n",
       "\n",
       "    passageiros_pgs_domestica  assentos_internacional   \\\n",
       "0                  26580359.0                2679086.0   \n",
       "1                  29823733.0                2612195.0   \n",
       "2                  29661986.0                2647520.0   \n",
       "3                  31680004.0                2850538.0   \n",
       "4                  34669981.0                2969795.0   \n",
       "5                  34162320.0                2942629.0   \n",
       "6                  29985494.0                2563233.0   \n",
       "7                  30223330.0                2492304.0   \n",
       "8                  31419184.0                2512146.0   \n",
       "9                  34104893.0                2935640.0   \n",
       "10                 16165800.0                 734787.0   \n",
       "11                 18772296.0                  59481.0   \n",
       "12                 26300015.0                1154098.0   \n",
       "\n",
       "    passageiros_pgs_internacional   \n",
       "0                        1364980.0  \n",
       "1                        1241652.0  \n",
       "2                        1285010.0  \n",
       "3                        1464259.0  \n",
       "4                        1791245.0  \n",
       "5                        1888474.0  \n",
       "6                        1860792.0  \n",
       "7                        1875997.0  \n",
       "8                        1834587.0  \n",
       "9                        1932871.0  \n",
       "10                        446612.0  \n",
       "11                         40528.0  \n",
       "12                        912518.0  "
      ]
     },
     "execution_count": 333,
     "metadata": {},
     "output_type": "execute_result"
    }
   ],
   "source": [
    "df_goll_pass = df_goll[['assentos_totais', 'passageiros_pgs', 'assentos_domestica',\n",
    "       'passageiros_pgs_domestica',\n",
    "       'assentos_internacional ', 'passageiros_pgs_internacional ']]\n",
    "df_goll_pass\n",
    "df_goll_pass.reset_index(inplace=True)\n",
    "df_goll_pass"
   ]
  },
  {
   "cell_type": "code",
   "execution_count": 334,
   "id": "6e936ed4",
   "metadata": {},
   "outputs": [
    {
     "data": {
      "application/vnd.plotly.v1+json": {
       "config": {
        "plotlyServerURL": "https://plot.ly"
       },
       "data": [
        {
         "alignmentgroup": "True",
         "hovertemplate": "variable=assentos_totais<br>index=%{x}<br>value=%{y}<extra></extra>",
         "legendgroup": "assentos_totais",
         "marker": {
          "color": "#636efa",
          "pattern": {
           "shape": ""
          }
         },
         "name": "assentos_totais",
         "offsetgroup": "assentos_totais",
         "orientation": "v",
         "showlegend": true,
         "textposition": "auto",
         "type": "bar",
         "x": [
          2010,
          2011,
          2012,
          2013,
          2014,
          2015,
          2016,
          2017,
          2018,
          2019,
          2020,
          2021,
          2022
         ],
         "xaxis": "x",
         "y": [
          49281882,
          52784362,
          51628338,
          54618916,
          53480784,
          52432303,
          43561838,
          41862267,
          43003131,
          45829320,
          21554418,
          23559049,
          35254246
         ],
         "yaxis": "y"
        },
        {
         "alignmentgroup": "True",
         "hovertemplate": "variable=passageiros_pgs<br>index=%{x}<br>value=%{y}<extra></extra>",
         "legendgroup": "passageiros_pgs",
         "marker": {
          "color": "#EF553B",
          "pattern": {
           "shape": ""
          }
         },
         "name": "passageiros_pgs",
         "offsetgroup": "passageiros_pgs",
         "orientation": "v",
         "showlegend": true,
         "textposition": "auto",
         "type": "bar",
         "x": [
          2010,
          2011,
          2012,
          2013,
          2014,
          2015,
          2016,
          2017,
          2018,
          2019,
          2020,
          2021,
          2022
         ],
         "xaxis": "x",
         "y": [
          27945339,
          31065385,
          30946996,
          33144263,
          36461226,
          36050794,
          31846286,
          32099327,
          33253771,
          36037764,
          16612412,
          18812824,
          27212533
         ],
         "yaxis": "y"
        },
        {
         "alignmentgroup": "True",
         "hovertemplate": "variable=assentos_domestica<br>index=%{x}<br>value=%{y}<extra></extra>",
         "legendgroup": "assentos_domestica",
         "marker": {
          "color": "#00cc96",
          "pattern": {
           "shape": ""
          }
         },
         "name": "assentos_domestica",
         "offsetgroup": "assentos_domestica",
         "orientation": "v",
         "showlegend": true,
         "textposition": "auto",
         "type": "bar",
         "x": [
          2010,
          2011,
          2012,
          2013,
          2014,
          2015,
          2016,
          2017,
          2018,
          2019,
          2020,
          2021,
          2022
         ],
         "xaxis": "x",
         "y": [
          46602796,
          50172167,
          48980818,
          51768378,
          50510989,
          49489674,
          40998605,
          39369963,
          40490985,
          42893680,
          20819631,
          23499568,
          34100148
         ],
         "yaxis": "y"
        },
        {
         "alignmentgroup": "True",
         "hovertemplate": "variable=passageiros_pgs_domestica<br>index=%{x}<br>value=%{y}<extra></extra>",
         "legendgroup": "passageiros_pgs_domestica",
         "marker": {
          "color": "#ab63fa",
          "pattern": {
           "shape": ""
          }
         },
         "name": "passageiros_pgs_domestica",
         "offsetgroup": "passageiros_pgs_domestica",
         "orientation": "v",
         "showlegend": true,
         "textposition": "auto",
         "type": "bar",
         "x": [
          2010,
          2011,
          2012,
          2013,
          2014,
          2015,
          2016,
          2017,
          2018,
          2019,
          2020,
          2021,
          2022
         ],
         "xaxis": "x",
         "y": [
          26580359,
          29823733,
          29661986,
          31680004,
          34669981,
          34162320,
          29985494,
          30223330,
          31419184,
          34104893,
          16165800,
          18772296,
          26300015
         ],
         "yaxis": "y"
        },
        {
         "alignmentgroup": "True",
         "hovertemplate": "variable=assentos_internacional <br>index=%{x}<br>value=%{y}<extra></extra>",
         "legendgroup": "assentos_internacional ",
         "marker": {
          "color": "#FFA15A",
          "pattern": {
           "shape": ""
          }
         },
         "name": "assentos_internacional ",
         "offsetgroup": "assentos_internacional ",
         "orientation": "v",
         "showlegend": true,
         "textposition": "auto",
         "type": "bar",
         "x": [
          2010,
          2011,
          2012,
          2013,
          2014,
          2015,
          2016,
          2017,
          2018,
          2019,
          2020,
          2021,
          2022
         ],
         "xaxis": "x",
         "y": [
          2679086,
          2612195,
          2647520,
          2850538,
          2969795,
          2942629,
          2563233,
          2492304,
          2512146,
          2935640,
          734787,
          59481,
          1154098
         ],
         "yaxis": "y"
        },
        {
         "alignmentgroup": "True",
         "hovertemplate": "variable=passageiros_pgs_internacional <br>index=%{x}<br>value=%{y}<extra></extra>",
         "legendgroup": "passageiros_pgs_internacional ",
         "marker": {
          "color": "#19d3f3",
          "pattern": {
           "shape": ""
          }
         },
         "name": "passageiros_pgs_internacional ",
         "offsetgroup": "passageiros_pgs_internacional ",
         "orientation": "v",
         "showlegend": true,
         "textposition": "auto",
         "type": "bar",
         "x": [
          2010,
          2011,
          2012,
          2013,
          2014,
          2015,
          2016,
          2017,
          2018,
          2019,
          2020,
          2021,
          2022
         ],
         "xaxis": "x",
         "y": [
          1364980,
          1241652,
          1285010,
          1464259,
          1791245,
          1888474,
          1860792,
          1875997,
          1834587,
          1932871,
          446612,
          40528,
          912518
         ],
         "yaxis": "y"
        }
       ],
       "layout": {
        "barmode": "group",
        "legend": {
         "title": {
          "text": "variable"
         },
         "tracegroupgap": 0
        },
        "template": {
         "data": {
          "bar": [
           {
            "error_x": {
             "color": "#2a3f5f"
            },
            "error_y": {
             "color": "#2a3f5f"
            },
            "marker": {
             "line": {
              "color": "#E5ECF6",
              "width": 0.5
             },
             "pattern": {
              "fillmode": "overlay",
              "size": 10,
              "solidity": 0.2
             }
            },
            "type": "bar"
           }
          ],
          "barpolar": [
           {
            "marker": {
             "line": {
              "color": "#E5ECF6",
              "width": 0.5
             },
             "pattern": {
              "fillmode": "overlay",
              "size": 10,
              "solidity": 0.2
             }
            },
            "type": "barpolar"
           }
          ],
          "carpet": [
           {
            "aaxis": {
             "endlinecolor": "#2a3f5f",
             "gridcolor": "white",
             "linecolor": "white",
             "minorgridcolor": "white",
             "startlinecolor": "#2a3f5f"
            },
            "baxis": {
             "endlinecolor": "#2a3f5f",
             "gridcolor": "white",
             "linecolor": "white",
             "minorgridcolor": "white",
             "startlinecolor": "#2a3f5f"
            },
            "type": "carpet"
           }
          ],
          "choropleth": [
           {
            "colorbar": {
             "outlinewidth": 0,
             "ticks": ""
            },
            "type": "choropleth"
           }
          ],
          "contour": [
           {
            "colorbar": {
             "outlinewidth": 0,
             "ticks": ""
            },
            "colorscale": [
             [
              0,
              "#0d0887"
             ],
             [
              0.1111111111111111,
              "#46039f"
             ],
             [
              0.2222222222222222,
              "#7201a8"
             ],
             [
              0.3333333333333333,
              "#9c179e"
             ],
             [
              0.4444444444444444,
              "#bd3786"
             ],
             [
              0.5555555555555556,
              "#d8576b"
             ],
             [
              0.6666666666666666,
              "#ed7953"
             ],
             [
              0.7777777777777778,
              "#fb9f3a"
             ],
             [
              0.8888888888888888,
              "#fdca26"
             ],
             [
              1,
              "#f0f921"
             ]
            ],
            "type": "contour"
           }
          ],
          "contourcarpet": [
           {
            "colorbar": {
             "outlinewidth": 0,
             "ticks": ""
            },
            "type": "contourcarpet"
           }
          ],
          "heatmap": [
           {
            "colorbar": {
             "outlinewidth": 0,
             "ticks": ""
            },
            "colorscale": [
             [
              0,
              "#0d0887"
             ],
             [
              0.1111111111111111,
              "#46039f"
             ],
             [
              0.2222222222222222,
              "#7201a8"
             ],
             [
              0.3333333333333333,
              "#9c179e"
             ],
             [
              0.4444444444444444,
              "#bd3786"
             ],
             [
              0.5555555555555556,
              "#d8576b"
             ],
             [
              0.6666666666666666,
              "#ed7953"
             ],
             [
              0.7777777777777778,
              "#fb9f3a"
             ],
             [
              0.8888888888888888,
              "#fdca26"
             ],
             [
              1,
              "#f0f921"
             ]
            ],
            "type": "heatmap"
           }
          ],
          "heatmapgl": [
           {
            "colorbar": {
             "outlinewidth": 0,
             "ticks": ""
            },
            "colorscale": [
             [
              0,
              "#0d0887"
             ],
             [
              0.1111111111111111,
              "#46039f"
             ],
             [
              0.2222222222222222,
              "#7201a8"
             ],
             [
              0.3333333333333333,
              "#9c179e"
             ],
             [
              0.4444444444444444,
              "#bd3786"
             ],
             [
              0.5555555555555556,
              "#d8576b"
             ],
             [
              0.6666666666666666,
              "#ed7953"
             ],
             [
              0.7777777777777778,
              "#fb9f3a"
             ],
             [
              0.8888888888888888,
              "#fdca26"
             ],
             [
              1,
              "#f0f921"
             ]
            ],
            "type": "heatmapgl"
           }
          ],
          "histogram": [
           {
            "marker": {
             "pattern": {
              "fillmode": "overlay",
              "size": 10,
              "solidity": 0.2
             }
            },
            "type": "histogram"
           }
          ],
          "histogram2d": [
           {
            "colorbar": {
             "outlinewidth": 0,
             "ticks": ""
            },
            "colorscale": [
             [
              0,
              "#0d0887"
             ],
             [
              0.1111111111111111,
              "#46039f"
             ],
             [
              0.2222222222222222,
              "#7201a8"
             ],
             [
              0.3333333333333333,
              "#9c179e"
             ],
             [
              0.4444444444444444,
              "#bd3786"
             ],
             [
              0.5555555555555556,
              "#d8576b"
             ],
             [
              0.6666666666666666,
              "#ed7953"
             ],
             [
              0.7777777777777778,
              "#fb9f3a"
             ],
             [
              0.8888888888888888,
              "#fdca26"
             ],
             [
              1,
              "#f0f921"
             ]
            ],
            "type": "histogram2d"
           }
          ],
          "histogram2dcontour": [
           {
            "colorbar": {
             "outlinewidth": 0,
             "ticks": ""
            },
            "colorscale": [
             [
              0,
              "#0d0887"
             ],
             [
              0.1111111111111111,
              "#46039f"
             ],
             [
              0.2222222222222222,
              "#7201a8"
             ],
             [
              0.3333333333333333,
              "#9c179e"
             ],
             [
              0.4444444444444444,
              "#bd3786"
             ],
             [
              0.5555555555555556,
              "#d8576b"
             ],
             [
              0.6666666666666666,
              "#ed7953"
             ],
             [
              0.7777777777777778,
              "#fb9f3a"
             ],
             [
              0.8888888888888888,
              "#fdca26"
             ],
             [
              1,
              "#f0f921"
             ]
            ],
            "type": "histogram2dcontour"
           }
          ],
          "mesh3d": [
           {
            "colorbar": {
             "outlinewidth": 0,
             "ticks": ""
            },
            "type": "mesh3d"
           }
          ],
          "parcoords": [
           {
            "line": {
             "colorbar": {
              "outlinewidth": 0,
              "ticks": ""
             }
            },
            "type": "parcoords"
           }
          ],
          "pie": [
           {
            "automargin": true,
            "type": "pie"
           }
          ],
          "scatter": [
           {
            "fillpattern": {
             "fillmode": "overlay",
             "size": 10,
             "solidity": 0.2
            },
            "type": "scatter"
           }
          ],
          "scatter3d": [
           {
            "line": {
             "colorbar": {
              "outlinewidth": 0,
              "ticks": ""
             }
            },
            "marker": {
             "colorbar": {
              "outlinewidth": 0,
              "ticks": ""
             }
            },
            "type": "scatter3d"
           }
          ],
          "scattercarpet": [
           {
            "marker": {
             "colorbar": {
              "outlinewidth": 0,
              "ticks": ""
             }
            },
            "type": "scattercarpet"
           }
          ],
          "scattergeo": [
           {
            "marker": {
             "colorbar": {
              "outlinewidth": 0,
              "ticks": ""
             }
            },
            "type": "scattergeo"
           }
          ],
          "scattergl": [
           {
            "marker": {
             "colorbar": {
              "outlinewidth": 0,
              "ticks": ""
             }
            },
            "type": "scattergl"
           }
          ],
          "scattermapbox": [
           {
            "marker": {
             "colorbar": {
              "outlinewidth": 0,
              "ticks": ""
             }
            },
            "type": "scattermapbox"
           }
          ],
          "scatterpolar": [
           {
            "marker": {
             "colorbar": {
              "outlinewidth": 0,
              "ticks": ""
             }
            },
            "type": "scatterpolar"
           }
          ],
          "scatterpolargl": [
           {
            "marker": {
             "colorbar": {
              "outlinewidth": 0,
              "ticks": ""
             }
            },
            "type": "scatterpolargl"
           }
          ],
          "scatterternary": [
           {
            "marker": {
             "colorbar": {
              "outlinewidth": 0,
              "ticks": ""
             }
            },
            "type": "scatterternary"
           }
          ],
          "surface": [
           {
            "colorbar": {
             "outlinewidth": 0,
             "ticks": ""
            },
            "colorscale": [
             [
              0,
              "#0d0887"
             ],
             [
              0.1111111111111111,
              "#46039f"
             ],
             [
              0.2222222222222222,
              "#7201a8"
             ],
             [
              0.3333333333333333,
              "#9c179e"
             ],
             [
              0.4444444444444444,
              "#bd3786"
             ],
             [
              0.5555555555555556,
              "#d8576b"
             ],
             [
              0.6666666666666666,
              "#ed7953"
             ],
             [
              0.7777777777777778,
              "#fb9f3a"
             ],
             [
              0.8888888888888888,
              "#fdca26"
             ],
             [
              1,
              "#f0f921"
             ]
            ],
            "type": "surface"
           }
          ],
          "table": [
           {
            "cells": {
             "fill": {
              "color": "#EBF0F8"
             },
             "line": {
              "color": "white"
             }
            },
            "header": {
             "fill": {
              "color": "#C8D4E3"
             },
             "line": {
              "color": "white"
             }
            },
            "type": "table"
           }
          ]
         },
         "layout": {
          "annotationdefaults": {
           "arrowcolor": "#2a3f5f",
           "arrowhead": 0,
           "arrowwidth": 1
          },
          "autotypenumbers": "strict",
          "coloraxis": {
           "colorbar": {
            "outlinewidth": 0,
            "ticks": ""
           }
          },
          "colorscale": {
           "diverging": [
            [
             0,
             "#8e0152"
            ],
            [
             0.1,
             "#c51b7d"
            ],
            [
             0.2,
             "#de77ae"
            ],
            [
             0.3,
             "#f1b6da"
            ],
            [
             0.4,
             "#fde0ef"
            ],
            [
             0.5,
             "#f7f7f7"
            ],
            [
             0.6,
             "#e6f5d0"
            ],
            [
             0.7,
             "#b8e186"
            ],
            [
             0.8,
             "#7fbc41"
            ],
            [
             0.9,
             "#4d9221"
            ],
            [
             1,
             "#276419"
            ]
           ],
           "sequential": [
            [
             0,
             "#0d0887"
            ],
            [
             0.1111111111111111,
             "#46039f"
            ],
            [
             0.2222222222222222,
             "#7201a8"
            ],
            [
             0.3333333333333333,
             "#9c179e"
            ],
            [
             0.4444444444444444,
             "#bd3786"
            ],
            [
             0.5555555555555556,
             "#d8576b"
            ],
            [
             0.6666666666666666,
             "#ed7953"
            ],
            [
             0.7777777777777778,
             "#fb9f3a"
            ],
            [
             0.8888888888888888,
             "#fdca26"
            ],
            [
             1,
             "#f0f921"
            ]
           ],
           "sequentialminus": [
            [
             0,
             "#0d0887"
            ],
            [
             0.1111111111111111,
             "#46039f"
            ],
            [
             0.2222222222222222,
             "#7201a8"
            ],
            [
             0.3333333333333333,
             "#9c179e"
            ],
            [
             0.4444444444444444,
             "#bd3786"
            ],
            [
             0.5555555555555556,
             "#d8576b"
            ],
            [
             0.6666666666666666,
             "#ed7953"
            ],
            [
             0.7777777777777778,
             "#fb9f3a"
            ],
            [
             0.8888888888888888,
             "#fdca26"
            ],
            [
             1,
             "#f0f921"
            ]
           ]
          },
          "colorway": [
           "#636efa",
           "#EF553B",
           "#00cc96",
           "#ab63fa",
           "#FFA15A",
           "#19d3f3",
           "#FF6692",
           "#B6E880",
           "#FF97FF",
           "#FECB52"
          ],
          "font": {
           "color": "#2a3f5f"
          },
          "geo": {
           "bgcolor": "white",
           "lakecolor": "white",
           "landcolor": "#E5ECF6",
           "showlakes": true,
           "showland": true,
           "subunitcolor": "white"
          },
          "hoverlabel": {
           "align": "left"
          },
          "hovermode": "closest",
          "mapbox": {
           "style": "light"
          },
          "paper_bgcolor": "white",
          "plot_bgcolor": "#E5ECF6",
          "polar": {
           "angularaxis": {
            "gridcolor": "white",
            "linecolor": "white",
            "ticks": ""
           },
           "bgcolor": "#E5ECF6",
           "radialaxis": {
            "gridcolor": "white",
            "linecolor": "white",
            "ticks": ""
           }
          },
          "scene": {
           "xaxis": {
            "backgroundcolor": "#E5ECF6",
            "gridcolor": "white",
            "gridwidth": 2,
            "linecolor": "white",
            "showbackground": true,
            "ticks": "",
            "zerolinecolor": "white"
           },
           "yaxis": {
            "backgroundcolor": "#E5ECF6",
            "gridcolor": "white",
            "gridwidth": 2,
            "linecolor": "white",
            "showbackground": true,
            "ticks": "",
            "zerolinecolor": "white"
           },
           "zaxis": {
            "backgroundcolor": "#E5ECF6",
            "gridcolor": "white",
            "gridwidth": 2,
            "linecolor": "white",
            "showbackground": true,
            "ticks": "",
            "zerolinecolor": "white"
           }
          },
          "shapedefaults": {
           "line": {
            "color": "#2a3f5f"
           }
          },
          "ternary": {
           "aaxis": {
            "gridcolor": "white",
            "linecolor": "white",
            "ticks": ""
           },
           "baxis": {
            "gridcolor": "white",
            "linecolor": "white",
            "ticks": ""
           },
           "bgcolor": "#E5ECF6",
           "caxis": {
            "gridcolor": "white",
            "linecolor": "white",
            "ticks": ""
           }
          },
          "title": {
           "x": 0.05
          },
          "xaxis": {
           "automargin": true,
           "gridcolor": "white",
           "linecolor": "white",
           "ticks": "",
           "title": {
            "standoff": 15
           },
           "zerolinecolor": "white",
           "zerolinewidth": 2
          },
          "yaxis": {
           "automargin": true,
           "gridcolor": "white",
           "linecolor": "white",
           "ticks": "",
           "title": {
            "standoff": 15
           },
           "zerolinecolor": "white",
           "zerolinewidth": 2
          }
         }
        },
        "title": {
         "text": "Estatísticas de transporte aéreo no Brasil",
         "x": 0.5,
         "xanchor": "center",
         "y": 0.95,
         "yanchor": "top"
        },
        "xaxis": {
         "anchor": "y",
         "domain": [
          0,
          1
         ],
         "title": {
          "text": "Ano"
         }
        },
        "yaxis": {
         "anchor": "x",
         "domain": [
          0,
          1
         ],
         "title": {
          "text": "Passageiros"
         }
        }
       }
      },
      "text/html": [
       "<div>                            <div id=\"ff33d3ea-ab50-40a1-ae32-f258b2a38100\" class=\"plotly-graph-div\" style=\"height:525px; width:100%;\"></div>            <script type=\"text/javascript\">                require([\"plotly\"], function(Plotly) {                    window.PLOTLYENV=window.PLOTLYENV || {};                                    if (document.getElementById(\"ff33d3ea-ab50-40a1-ae32-f258b2a38100\")) {                    Plotly.newPlot(                        \"ff33d3ea-ab50-40a1-ae32-f258b2a38100\",                        [{\"alignmentgroup\":\"True\",\"hovertemplate\":\"variable=assentos_totais<br>index=%{x}<br>value=%{y}<extra></extra>\",\"legendgroup\":\"assentos_totais\",\"marker\":{\"color\":\"#636efa\",\"pattern\":{\"shape\":\"\"}},\"name\":\"assentos_totais\",\"offsetgroup\":\"assentos_totais\",\"orientation\":\"v\",\"showlegend\":true,\"textposition\":\"auto\",\"x\":[2010,2011,2012,2013,2014,2015,2016,2017,2018,2019,2020,2021,2022],\"xaxis\":\"x\",\"y\":[49281882.0,52784362.0,51628338.0,54618916.0,53480784.0,52432303.0,43561838.0,41862267.0,43003131.0,45829320.0,21554418.0,23559049.0,35254246.0],\"yaxis\":\"y\",\"type\":\"bar\"},{\"alignmentgroup\":\"True\",\"hovertemplate\":\"variable=passageiros_pgs<br>index=%{x}<br>value=%{y}<extra></extra>\",\"legendgroup\":\"passageiros_pgs\",\"marker\":{\"color\":\"#EF553B\",\"pattern\":{\"shape\":\"\"}},\"name\":\"passageiros_pgs\",\"offsetgroup\":\"passageiros_pgs\",\"orientation\":\"v\",\"showlegend\":true,\"textposition\":\"auto\",\"x\":[2010,2011,2012,2013,2014,2015,2016,2017,2018,2019,2020,2021,2022],\"xaxis\":\"x\",\"y\":[27945339.0,31065385.0,30946996.0,33144263.0,36461226.0,36050794.0,31846286.0,32099327.0,33253771.0,36037764.0,16612412.0,18812824.0,27212533.0],\"yaxis\":\"y\",\"type\":\"bar\"},{\"alignmentgroup\":\"True\",\"hovertemplate\":\"variable=assentos_domestica<br>index=%{x}<br>value=%{y}<extra></extra>\",\"legendgroup\":\"assentos_domestica\",\"marker\":{\"color\":\"#00cc96\",\"pattern\":{\"shape\":\"\"}},\"name\":\"assentos_domestica\",\"offsetgroup\":\"assentos_domestica\",\"orientation\":\"v\",\"showlegend\":true,\"textposition\":\"auto\",\"x\":[2010,2011,2012,2013,2014,2015,2016,2017,2018,2019,2020,2021,2022],\"xaxis\":\"x\",\"y\":[46602796.0,50172167.0,48980818.0,51768378.0,50510989.0,49489674.0,40998605.0,39369963.0,40490985.0,42893680.0,20819631.0,23499568.0,34100148.0],\"yaxis\":\"y\",\"type\":\"bar\"},{\"alignmentgroup\":\"True\",\"hovertemplate\":\"variable=passageiros_pgs_domestica<br>index=%{x}<br>value=%{y}<extra></extra>\",\"legendgroup\":\"passageiros_pgs_domestica\",\"marker\":{\"color\":\"#ab63fa\",\"pattern\":{\"shape\":\"\"}},\"name\":\"passageiros_pgs_domestica\",\"offsetgroup\":\"passageiros_pgs_domestica\",\"orientation\":\"v\",\"showlegend\":true,\"textposition\":\"auto\",\"x\":[2010,2011,2012,2013,2014,2015,2016,2017,2018,2019,2020,2021,2022],\"xaxis\":\"x\",\"y\":[26580359.0,29823733.0,29661986.0,31680004.0,34669981.0,34162320.0,29985494.0,30223330.0,31419184.0,34104893.0,16165800.0,18772296.0,26300015.0],\"yaxis\":\"y\",\"type\":\"bar\"},{\"alignmentgroup\":\"True\",\"hovertemplate\":\"variable=assentos_internacional <br>index=%{x}<br>value=%{y}<extra></extra>\",\"legendgroup\":\"assentos_internacional \",\"marker\":{\"color\":\"#FFA15A\",\"pattern\":{\"shape\":\"\"}},\"name\":\"assentos_internacional \",\"offsetgroup\":\"assentos_internacional \",\"orientation\":\"v\",\"showlegend\":true,\"textposition\":\"auto\",\"x\":[2010,2011,2012,2013,2014,2015,2016,2017,2018,2019,2020,2021,2022],\"xaxis\":\"x\",\"y\":[2679086.0,2612195.0,2647520.0,2850538.0,2969795.0,2942629.0,2563233.0,2492304.0,2512146.0,2935640.0,734787.0,59481.0,1154098.0],\"yaxis\":\"y\",\"type\":\"bar\"},{\"alignmentgroup\":\"True\",\"hovertemplate\":\"variable=passageiros_pgs_internacional <br>index=%{x}<br>value=%{y}<extra></extra>\",\"legendgroup\":\"passageiros_pgs_internacional \",\"marker\":{\"color\":\"#19d3f3\",\"pattern\":{\"shape\":\"\"}},\"name\":\"passageiros_pgs_internacional \",\"offsetgroup\":\"passageiros_pgs_internacional \",\"orientation\":\"v\",\"showlegend\":true,\"textposition\":\"auto\",\"x\":[2010,2011,2012,2013,2014,2015,2016,2017,2018,2019,2020,2021,2022],\"xaxis\":\"x\",\"y\":[1364980.0,1241652.0,1285010.0,1464259.0,1791245.0,1888474.0,1860792.0,1875997.0,1834587.0,1932871.0,446612.0,40528.0,912518.0],\"yaxis\":\"y\",\"type\":\"bar\"}],                        {\"template\":{\"data\":{\"histogram2dcontour\":[{\"type\":\"histogram2dcontour\",\"colorbar\":{\"outlinewidth\":0,\"ticks\":\"\"},\"colorscale\":[[0.0,\"#0d0887\"],[0.1111111111111111,\"#46039f\"],[0.2222222222222222,\"#7201a8\"],[0.3333333333333333,\"#9c179e\"],[0.4444444444444444,\"#bd3786\"],[0.5555555555555556,\"#d8576b\"],[0.6666666666666666,\"#ed7953\"],[0.7777777777777778,\"#fb9f3a\"],[0.8888888888888888,\"#fdca26\"],[1.0,\"#f0f921\"]]}],\"choropleth\":[{\"type\":\"choropleth\",\"colorbar\":{\"outlinewidth\":0,\"ticks\":\"\"}}],\"histogram2d\":[{\"type\":\"histogram2d\",\"colorbar\":{\"outlinewidth\":0,\"ticks\":\"\"},\"colorscale\":[[0.0,\"#0d0887\"],[0.1111111111111111,\"#46039f\"],[0.2222222222222222,\"#7201a8\"],[0.3333333333333333,\"#9c179e\"],[0.4444444444444444,\"#bd3786\"],[0.5555555555555556,\"#d8576b\"],[0.6666666666666666,\"#ed7953\"],[0.7777777777777778,\"#fb9f3a\"],[0.8888888888888888,\"#fdca26\"],[1.0,\"#f0f921\"]]}],\"heatmap\":[{\"type\":\"heatmap\",\"colorbar\":{\"outlinewidth\":0,\"ticks\":\"\"},\"colorscale\":[[0.0,\"#0d0887\"],[0.1111111111111111,\"#46039f\"],[0.2222222222222222,\"#7201a8\"],[0.3333333333333333,\"#9c179e\"],[0.4444444444444444,\"#bd3786\"],[0.5555555555555556,\"#d8576b\"],[0.6666666666666666,\"#ed7953\"],[0.7777777777777778,\"#fb9f3a\"],[0.8888888888888888,\"#fdca26\"],[1.0,\"#f0f921\"]]}],\"heatmapgl\":[{\"type\":\"heatmapgl\",\"colorbar\":{\"outlinewidth\":0,\"ticks\":\"\"},\"colorscale\":[[0.0,\"#0d0887\"],[0.1111111111111111,\"#46039f\"],[0.2222222222222222,\"#7201a8\"],[0.3333333333333333,\"#9c179e\"],[0.4444444444444444,\"#bd3786\"],[0.5555555555555556,\"#d8576b\"],[0.6666666666666666,\"#ed7953\"],[0.7777777777777778,\"#fb9f3a\"],[0.8888888888888888,\"#fdca26\"],[1.0,\"#f0f921\"]]}],\"contourcarpet\":[{\"type\":\"contourcarpet\",\"colorbar\":{\"outlinewidth\":0,\"ticks\":\"\"}}],\"contour\":[{\"type\":\"contour\",\"colorbar\":{\"outlinewidth\":0,\"ticks\":\"\"},\"colorscale\":[[0.0,\"#0d0887\"],[0.1111111111111111,\"#46039f\"],[0.2222222222222222,\"#7201a8\"],[0.3333333333333333,\"#9c179e\"],[0.4444444444444444,\"#bd3786\"],[0.5555555555555556,\"#d8576b\"],[0.6666666666666666,\"#ed7953\"],[0.7777777777777778,\"#fb9f3a\"],[0.8888888888888888,\"#fdca26\"],[1.0,\"#f0f921\"]]}],\"surface\":[{\"type\":\"surface\",\"colorbar\":{\"outlinewidth\":0,\"ticks\":\"\"},\"colorscale\":[[0.0,\"#0d0887\"],[0.1111111111111111,\"#46039f\"],[0.2222222222222222,\"#7201a8\"],[0.3333333333333333,\"#9c179e\"],[0.4444444444444444,\"#bd3786\"],[0.5555555555555556,\"#d8576b\"],[0.6666666666666666,\"#ed7953\"],[0.7777777777777778,\"#fb9f3a\"],[0.8888888888888888,\"#fdca26\"],[1.0,\"#f0f921\"]]}],\"mesh3d\":[{\"type\":\"mesh3d\",\"colorbar\":{\"outlinewidth\":0,\"ticks\":\"\"}}],\"scatter\":[{\"fillpattern\":{\"fillmode\":\"overlay\",\"size\":10,\"solidity\":0.2},\"type\":\"scatter\"}],\"parcoords\":[{\"type\":\"parcoords\",\"line\":{\"colorbar\":{\"outlinewidth\":0,\"ticks\":\"\"}}}],\"scatterpolargl\":[{\"type\":\"scatterpolargl\",\"marker\":{\"colorbar\":{\"outlinewidth\":0,\"ticks\":\"\"}}}],\"bar\":[{\"error_x\":{\"color\":\"#2a3f5f\"},\"error_y\":{\"color\":\"#2a3f5f\"},\"marker\":{\"line\":{\"color\":\"#E5ECF6\",\"width\":0.5},\"pattern\":{\"fillmode\":\"overlay\",\"size\":10,\"solidity\":0.2}},\"type\":\"bar\"}],\"scattergeo\":[{\"type\":\"scattergeo\",\"marker\":{\"colorbar\":{\"outlinewidth\":0,\"ticks\":\"\"}}}],\"scatterpolar\":[{\"type\":\"scatterpolar\",\"marker\":{\"colorbar\":{\"outlinewidth\":0,\"ticks\":\"\"}}}],\"histogram\":[{\"marker\":{\"pattern\":{\"fillmode\":\"overlay\",\"size\":10,\"solidity\":0.2}},\"type\":\"histogram\"}],\"scattergl\":[{\"type\":\"scattergl\",\"marker\":{\"colorbar\":{\"outlinewidth\":0,\"ticks\":\"\"}}}],\"scatter3d\":[{\"type\":\"scatter3d\",\"line\":{\"colorbar\":{\"outlinewidth\":0,\"ticks\":\"\"}},\"marker\":{\"colorbar\":{\"outlinewidth\":0,\"ticks\":\"\"}}}],\"scattermapbox\":[{\"type\":\"scattermapbox\",\"marker\":{\"colorbar\":{\"outlinewidth\":0,\"ticks\":\"\"}}}],\"scatterternary\":[{\"type\":\"scatterternary\",\"marker\":{\"colorbar\":{\"outlinewidth\":0,\"ticks\":\"\"}}}],\"scattercarpet\":[{\"type\":\"scattercarpet\",\"marker\":{\"colorbar\":{\"outlinewidth\":0,\"ticks\":\"\"}}}],\"carpet\":[{\"aaxis\":{\"endlinecolor\":\"#2a3f5f\",\"gridcolor\":\"white\",\"linecolor\":\"white\",\"minorgridcolor\":\"white\",\"startlinecolor\":\"#2a3f5f\"},\"baxis\":{\"endlinecolor\":\"#2a3f5f\",\"gridcolor\":\"white\",\"linecolor\":\"white\",\"minorgridcolor\":\"white\",\"startlinecolor\":\"#2a3f5f\"},\"type\":\"carpet\"}],\"table\":[{\"cells\":{\"fill\":{\"color\":\"#EBF0F8\"},\"line\":{\"color\":\"white\"}},\"header\":{\"fill\":{\"color\":\"#C8D4E3\"},\"line\":{\"color\":\"white\"}},\"type\":\"table\"}],\"barpolar\":[{\"marker\":{\"line\":{\"color\":\"#E5ECF6\",\"width\":0.5},\"pattern\":{\"fillmode\":\"overlay\",\"size\":10,\"solidity\":0.2}},\"type\":\"barpolar\"}],\"pie\":[{\"automargin\":true,\"type\":\"pie\"}]},\"layout\":{\"autotypenumbers\":\"strict\",\"colorway\":[\"#636efa\",\"#EF553B\",\"#00cc96\",\"#ab63fa\",\"#FFA15A\",\"#19d3f3\",\"#FF6692\",\"#B6E880\",\"#FF97FF\",\"#FECB52\"],\"font\":{\"color\":\"#2a3f5f\"},\"hovermode\":\"closest\",\"hoverlabel\":{\"align\":\"left\"},\"paper_bgcolor\":\"white\",\"plot_bgcolor\":\"#E5ECF6\",\"polar\":{\"bgcolor\":\"#E5ECF6\",\"angularaxis\":{\"gridcolor\":\"white\",\"linecolor\":\"white\",\"ticks\":\"\"},\"radialaxis\":{\"gridcolor\":\"white\",\"linecolor\":\"white\",\"ticks\":\"\"}},\"ternary\":{\"bgcolor\":\"#E5ECF6\",\"aaxis\":{\"gridcolor\":\"white\",\"linecolor\":\"white\",\"ticks\":\"\"},\"baxis\":{\"gridcolor\":\"white\",\"linecolor\":\"white\",\"ticks\":\"\"},\"caxis\":{\"gridcolor\":\"white\",\"linecolor\":\"white\",\"ticks\":\"\"}},\"coloraxis\":{\"colorbar\":{\"outlinewidth\":0,\"ticks\":\"\"}},\"colorscale\":{\"sequential\":[[0.0,\"#0d0887\"],[0.1111111111111111,\"#46039f\"],[0.2222222222222222,\"#7201a8\"],[0.3333333333333333,\"#9c179e\"],[0.4444444444444444,\"#bd3786\"],[0.5555555555555556,\"#d8576b\"],[0.6666666666666666,\"#ed7953\"],[0.7777777777777778,\"#fb9f3a\"],[0.8888888888888888,\"#fdca26\"],[1.0,\"#f0f921\"]],\"sequentialminus\":[[0.0,\"#0d0887\"],[0.1111111111111111,\"#46039f\"],[0.2222222222222222,\"#7201a8\"],[0.3333333333333333,\"#9c179e\"],[0.4444444444444444,\"#bd3786\"],[0.5555555555555556,\"#d8576b\"],[0.6666666666666666,\"#ed7953\"],[0.7777777777777778,\"#fb9f3a\"],[0.8888888888888888,\"#fdca26\"],[1.0,\"#f0f921\"]],\"diverging\":[[0,\"#8e0152\"],[0.1,\"#c51b7d\"],[0.2,\"#de77ae\"],[0.3,\"#f1b6da\"],[0.4,\"#fde0ef\"],[0.5,\"#f7f7f7\"],[0.6,\"#e6f5d0\"],[0.7,\"#b8e186\"],[0.8,\"#7fbc41\"],[0.9,\"#4d9221\"],[1,\"#276419\"]]},\"xaxis\":{\"gridcolor\":\"white\",\"linecolor\":\"white\",\"ticks\":\"\",\"title\":{\"standoff\":15},\"zerolinecolor\":\"white\",\"automargin\":true,\"zerolinewidth\":2},\"yaxis\":{\"gridcolor\":\"white\",\"linecolor\":\"white\",\"ticks\":\"\",\"title\":{\"standoff\":15},\"zerolinecolor\":\"white\",\"automargin\":true,\"zerolinewidth\":2},\"scene\":{\"xaxis\":{\"backgroundcolor\":\"#E5ECF6\",\"gridcolor\":\"white\",\"linecolor\":\"white\",\"showbackground\":true,\"ticks\":\"\",\"zerolinecolor\":\"white\",\"gridwidth\":2},\"yaxis\":{\"backgroundcolor\":\"#E5ECF6\",\"gridcolor\":\"white\",\"linecolor\":\"white\",\"showbackground\":true,\"ticks\":\"\",\"zerolinecolor\":\"white\",\"gridwidth\":2},\"zaxis\":{\"backgroundcolor\":\"#E5ECF6\",\"gridcolor\":\"white\",\"linecolor\":\"white\",\"showbackground\":true,\"ticks\":\"\",\"zerolinecolor\":\"white\",\"gridwidth\":2}},\"shapedefaults\":{\"line\":{\"color\":\"#2a3f5f\"}},\"annotationdefaults\":{\"arrowcolor\":\"#2a3f5f\",\"arrowhead\":0,\"arrowwidth\":1},\"geo\":{\"bgcolor\":\"white\",\"landcolor\":\"#E5ECF6\",\"subunitcolor\":\"white\",\"showland\":true,\"showlakes\":true,\"lakecolor\":\"white\"},\"title\":{\"x\":0.05},\"mapbox\":{\"style\":\"light\"}}},\"xaxis\":{\"anchor\":\"y\",\"domain\":[0.0,1.0],\"title\":{\"text\":\"Ano\"}},\"yaxis\":{\"anchor\":\"x\",\"domain\":[0.0,1.0],\"title\":{\"text\":\"Passageiros\"}},\"legend\":{\"title\":{\"text\":\"variable\"},\"tracegroupgap\":0},\"title\":{\"text\":\"Estat\\u00edsticas de transporte a\\u00e9reo no Brasil\",\"y\":0.95,\"x\":0.5,\"xanchor\":\"center\",\"yanchor\":\"top\"},\"barmode\":\"group\"},                        {\"responsive\": true}                    ).then(function(){\n",
       "                            \n",
       "var gd = document.getElementById('ff33d3ea-ab50-40a1-ae32-f258b2a38100');\n",
       "var x = new MutationObserver(function (mutations, observer) {{\n",
       "        var display = window.getComputedStyle(gd).display;\n",
       "        if (!display || display === 'none') {{\n",
       "            console.log([gd, 'removed!']);\n",
       "            Plotly.purge(gd);\n",
       "            observer.disconnect();\n",
       "        }}\n",
       "}});\n",
       "\n",
       "// Listen for the removal of the full notebook cells\n",
       "var notebookContainer = gd.closest('#notebook-container');\n",
       "if (notebookContainer) {{\n",
       "    x.observe(notebookContainer, {childList: true});\n",
       "}}\n",
       "\n",
       "// Listen for the clearing of the current output cell\n",
       "var outputEl = gd.closest('.output');\n",
       "if (outputEl) {{\n",
       "    x.observe(outputEl, {childList: true});\n",
       "}}\n",
       "\n",
       "                        })                };                });            </script>        </div>"
      ]
     },
     "metadata": {},
     "output_type": "display_data"
    }
   ],
   "source": [
    "fig = px.bar(df_goll_pass, x='index', y=['assentos_totais', 'passageiros_pgs','assentos_domestica',\n",
    "       'passageiros_pgs_domestica',\n",
    "       'assentos_internacional ', 'passageiros_pgs_internacional '], \n",
    "             barmode='group', title='Estatísticas de transporte aéreo no Brasil')\n",
    "fig.update_layout(\n",
    "    xaxis_title='Ano',\n",
    "    yaxis_title='Passageiros',\n",
    "    title={\n",
    "        'text': 'Estatísticas de transporte aéreo no Brasil',\n",
    "        'y':0.95,\n",
    "        'x':0.5,\n",
    "        'xanchor': 'center',\n",
    "        'yanchor': 'top'})\n",
    "fig.show()"
   ]
  }
 ],
 "metadata": {
  "kernelspec": {
   "display_name": "Python 3 (ipykernel)",
   "language": "python",
   "name": "python3"
  },
  "language_info": {
   "codemirror_mode": {
    "name": "ipython",
    "version": 3
   },
   "file_extension": ".py",
   "mimetype": "text/x-python",
   "name": "python",
   "nbconvert_exporter": "python",
   "pygments_lexer": "ipython3",
   "version": "3.9.13"
  }
 },
 "nbformat": 4,
 "nbformat_minor": 5
}
